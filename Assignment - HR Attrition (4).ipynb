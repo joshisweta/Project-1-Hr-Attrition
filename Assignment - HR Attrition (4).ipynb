{
 "cells": [
  {
   "cell_type": "code",
   "execution_count": 1,
   "metadata": {},
   "outputs": [],
   "source": [
    "#Problem Statement\n",
    "# To predict the probability of Employee will leave company and whe he/she is leaving.\n",
    "#datatype \n",
    "#sort\n",
    "#RF \n",
    "\n",
    "\"\"\"Introduction-- \n",
    "In order to start with exercise,I have used HR Analytics Employee Attrition & Performance Dataset,\n",
    "which was downloaded from Kaggle. . This is a fictional data set created by data scientists.\n",
    "\"\"\"\n",
    "\n",
    "'''The key to success in any organization is attracting and retaining top talent. \n",
    "I’m an HR analyst at my company, and one of my tasks is to determine which factors keep employees at my company and\n",
    "which prompt others to leave. I need to know what factors I can change to prevent the loss of good people. \n",
    "Watson Analytics is going to help.'''\n",
    "\n",
    "'''I have data about past and current employees in a spreadsheet on my desk top. \n",
    "It has various data points on our employees, but I’m most interested in whether they’re \n",
    "still with my company or whether they’ve gone to work somewhere else. \n",
    "And I want to understand how this relates to workforce/EMPLOYEE attrition.\n",
    "\n",
    "The dataset includes features like Age, Employee Role, Daily Rate,\n",
    "\n",
    "data type int and object - ordinal data \n",
    "Job Satisfaction, Years At Company, Years In Current Role etc.\n",
    "Education\n",
    "1 'Below College' 2 'College' 3 'Bachelor' 4 'Master' 5 'Doctor'\n",
    "EnvironmentSatisfaction\n",
    "1 'Low' 2 'Medium' 3 'High' 4 'Very High'\n",
    "JobInvolvement\n",
    "1 'Low' 2 'Medium' 3 'High' 4 'Very High'\n",
    "JobSatisfaction\n",
    "1 'Low' 2 'Medium' 3 'High' 4 'Very High'\n",
    "PerformanceRating\n",
    "1 'Low' 2 'Good' 3 'Excellent' 4 'Outstanding'\n",
    "RelationshipSatisfaction\n",
    "1 'Low' 2 'Medium' 3 'High' 4 'Very High'\n",
    "WorkLifeBalance\n",
    "1 'Bad' 2 'Good' 3 'Better' 4 'Best'''\n",
    "'''Summary of our Data\n",
    "Before we get into the deep visualizations, we want to make sure how our data looks like right? \n",
    "This will\n",
    "\n",
    "    better help us have a better grasp as to how we should work with our data later throughout the project.\n",
    "\n",
    "Questions we could Ask Ourselves:\n",
    "Columns and Observations: How many columns and observations is there in our dataset?\n",
    "--Missing data: Are there any missing data in our dataset?\n",
    "--Data Type: The different datatypes we are dealing in this dataset.\n",
    "--Distribution of our Data: Is it right-skewed, left-skewed or symmetric? \n",
    "This might be useful especially if we are implementing any type of statistical analysis or even for modelling.\n",
    "--Structure of our Data: Some datasets are a bit complex to work with however, the tidyverse package is really useful\n",
    "to deal with complex datasets.\n",
    "--Meaning of our Data: What does our data mean? Most features in this dataset are ordinal variables \n",
    "which are similar to categorical variables however, ordering of those variables matter. A lot of the variables in \n",
    "this dataset have a range from 1-4 or 1-5, The lower the ordinal variable, the worse it is in this case.\n",
    "For instance, Job Satisfaction 1 = \"Low\" while 4 = \"Very High\".\n",
    "--Label: What is our label in the dataset or in otherwords the output?\n",
    "\n",
    "Summary:\n",
    "Dataset Structure: 1470 observations (rows), 35 features (variables)\n",
    "Missing Data: Luckily for us, there is no missing data! this will make it easier to work with the dataset.\n",
    "Data Type: We only have two datatypes in this dataset: factors and integers\n",
    "Label\" Attrition is the label in our dataset and we would like to find out why employees are leaving the organization!\n",
    "Imbalanced dataset: 1237 (84% of cases) employees did not leave the organization\n",
    "while 237 (16% of cases) did leave the organization making our dataset to be considered imbalanced\n",
    "since more people stay in the organization than they actually leave.'''\n",
    "#Which factors led to employee attrition?\n",
    "#Attrition in business describes a gradual but deliberate reduction in staff numbers that occurs as employees \n",
    "#retire or resign and are not replaced\n",
    "#Turnover rate refers to the percentage of employees leaving a company within a certain period of time\n",
    "import pandas as pd       # importing dataframes and series\n",
    "import numpy as np        # calculation purpose\n",
    "import os\n",
    "import matplotlib.pyplot as plt    #data visualtisation\n",
    "import seaborn as sns\n",
    "import statsmodels.api as sm\n",
    "%matplotlib inline\n",
    "\n",
    "#.loc[] is primarily label based\n",
    "#.iloc[] is primarily integer position based (from 0 to length-1 of the axis)"
   ]
  },
  {
   "cell_type": "code",
   "execution_count": 2,
   "metadata": {},
   "outputs": [
    {
     "ename": "NameError",
     "evalue": "name 'hr' is not defined",
     "output_type": "error",
     "traceback": [
      "\u001b[1;31m---------------------------------------------------------------------------\u001b[0m",
      "\u001b[1;31mNameError\u001b[0m                                 Traceback (most recent call last)",
      "\u001b[1;32m<ipython-input-2-299cc8742ac6>\u001b[0m in \u001b[0;36m<module>\u001b[1;34m\u001b[0m\n\u001b[1;32m----> 1\u001b[1;33m \u001b[0mhr\u001b[0m\u001b[1;33m.\u001b[0m\u001b[0minfo\u001b[0m\u001b[1;33m(\u001b[0m\u001b[1;33m)\u001b[0m   \u001b[1;31m# INT , OBJECT(Ordinal)\u001b[0m\u001b[1;33m\u001b[0m\u001b[1;33m\u001b[0m\u001b[0m\n\u001b[0m\u001b[0;32m      2\u001b[0m \u001b[1;31m# Print a concise summary of a DataFrame,to his method prints information about a DataFrame including\u001b[0m\u001b[1;33m\u001b[0m\u001b[1;33m\u001b[0m\u001b[1;33m\u001b[0m\u001b[0m\n\u001b[0;32m      3\u001b[0m               \u001b[1;31m#the index dtype and column dtypes, non-null values and memory usage.\u001b[0m\u001b[1;33m\u001b[0m\u001b[1;33m\u001b[0m\u001b[1;33m\u001b[0m\u001b[0m\n",
      "\u001b[1;31mNameError\u001b[0m: name 'hr' is not defined"
     ]
    }
   ],
   "source": [
    "hr.info()   # INT , OBJECT(Ordinal)\n",
    "# Print a concise summary of a DataFrame,to his method prints information about a DataFrame including\n",
    "              #the index dtype and column dtypes, non-null values and memory usage."
   ]
  },
  {
   "cell_type": "code",
   "execution_count": null,
   "metadata": {},
   "outputs": [],
   "source": [
    "hr.info()   # INT , OBJECT(Ordinal)\n",
    "# Print a concise summary of a DataFrame,to his method prints information about a DataFrame including\n",
    "              #the index dtype and column dtypes, non-null values and memory usage."
   ]
  },
  {
   "cell_type": "code",
   "execution_count": 2,
   "metadata": {},
   "outputs": [],
   "source": [
    "import pandas as pd\n",
    "import numpy as np\n",
    "from matplotlib import pyplot as plt\n",
    "import seaborn as sns\n",
    "import os\n",
    "import statsmodels.api as sm\n",
    "%matplotlib inline"
   ]
  },
  {
   "cell_type": "code",
   "execution_count": 198,
   "metadata": {},
   "outputs": [],
   "source": [
    "HR_Attrition = pd.read_excel('C:\\\\Users\\\\Dr. Fix it\\\\Desktop\\\\Python codes\\\\Data\\\\HR Attrition.xlsx')"
   ]
  },
  {
   "cell_type": "code",
   "execution_count": 4,
   "metadata": {},
   "outputs": [
    {
     "data": {
      "text/html": [
       "<div>\n",
       "<style scoped>\n",
       "    .dataframe tbody tr th:only-of-type {\n",
       "        vertical-align: middle;\n",
       "    }\n",
       "\n",
       "    .dataframe tbody tr th {\n",
       "        vertical-align: top;\n",
       "    }\n",
       "\n",
       "    .dataframe thead th {\n",
       "        text-align: right;\n",
       "    }\n",
       "</style>\n",
       "<table border=\"1\" class=\"dataframe\">\n",
       "  <thead>\n",
       "    <tr style=\"text-align: right;\">\n",
       "      <th></th>\n",
       "      <th>Attrition</th>\n",
       "      <th>Age</th>\n",
       "      <th>BusinessTravel</th>\n",
       "      <th>DailyRate</th>\n",
       "      <th>Department</th>\n",
       "      <th>DistanceFromHome</th>\n",
       "      <th>Education</th>\n",
       "      <th>EducationField</th>\n",
       "      <th>EmployeeCount</th>\n",
       "      <th>EmployeeNumber</th>\n",
       "      <th>...</th>\n",
       "      <th>RelationshipSatisfaction</th>\n",
       "      <th>StandardHours</th>\n",
       "      <th>StockOptionLevel</th>\n",
       "      <th>TotalWorkingYears</th>\n",
       "      <th>TrainingTimesLastYear</th>\n",
       "      <th>WorkLifeBalance</th>\n",
       "      <th>YearsAtCompany</th>\n",
       "      <th>YearsInCurrentRole</th>\n",
       "      <th>YearsSinceLastPromotion</th>\n",
       "      <th>YearsWithCurrManager</th>\n",
       "    </tr>\n",
       "  </thead>\n",
       "  <tbody>\n",
       "    <tr>\n",
       "      <td>0</td>\n",
       "      <td>Yes</td>\n",
       "      <td>41</td>\n",
       "      <td>Travel_Rarely</td>\n",
       "      <td>1102</td>\n",
       "      <td>Sales</td>\n",
       "      <td>1</td>\n",
       "      <td>2</td>\n",
       "      <td>Life Sciences</td>\n",
       "      <td>1</td>\n",
       "      <td>1</td>\n",
       "      <td>...</td>\n",
       "      <td>1</td>\n",
       "      <td>80</td>\n",
       "      <td>0</td>\n",
       "      <td>8</td>\n",
       "      <td>0</td>\n",
       "      <td>1</td>\n",
       "      <td>6</td>\n",
       "      <td>4</td>\n",
       "      <td>0</td>\n",
       "      <td>5</td>\n",
       "    </tr>\n",
       "    <tr>\n",
       "      <td>1</td>\n",
       "      <td>No</td>\n",
       "      <td>49</td>\n",
       "      <td>Travel_Frequently</td>\n",
       "      <td>279</td>\n",
       "      <td>Research &amp; Development</td>\n",
       "      <td>8</td>\n",
       "      <td>1</td>\n",
       "      <td>Life Sciences</td>\n",
       "      <td>1</td>\n",
       "      <td>2</td>\n",
       "      <td>...</td>\n",
       "      <td>4</td>\n",
       "      <td>80</td>\n",
       "      <td>1</td>\n",
       "      <td>10</td>\n",
       "      <td>3</td>\n",
       "      <td>3</td>\n",
       "      <td>10</td>\n",
       "      <td>7</td>\n",
       "      <td>1</td>\n",
       "      <td>7</td>\n",
       "    </tr>\n",
       "  </tbody>\n",
       "</table>\n",
       "<p>2 rows × 35 columns</p>\n",
       "</div>"
      ],
      "text/plain": [
       "  Attrition  Age     BusinessTravel  DailyRate              Department  \\\n",
       "0       Yes   41      Travel_Rarely       1102                   Sales   \n",
       "1        No   49  Travel_Frequently        279  Research & Development   \n",
       "\n",
       "   DistanceFromHome  Education EducationField  EmployeeCount  EmployeeNumber  \\\n",
       "0                 1          2  Life Sciences              1               1   \n",
       "1                 8          1  Life Sciences              1               2   \n",
       "\n",
       "   ...  RelationshipSatisfaction StandardHours  StockOptionLevel  \\\n",
       "0  ...                         1            80                 0   \n",
       "1  ...                         4            80                 1   \n",
       "\n",
       "   TotalWorkingYears  TrainingTimesLastYear WorkLifeBalance  YearsAtCompany  \\\n",
       "0                  8                      0               1               6   \n",
       "1                 10                      3               3              10   \n",
       "\n",
       "  YearsInCurrentRole  YearsSinceLastPromotion  YearsWithCurrManager  \n",
       "0                  4                        0                     5  \n",
       "1                  7                        1                     7  \n",
       "\n",
       "[2 rows x 35 columns]"
      ]
     },
     "execution_count": 4,
     "metadata": {},
     "output_type": "execute_result"
    }
   ],
   "source": [
    "HR_Attrition.head(2)"
   ]
  },
  {
   "cell_type": "code",
   "execution_count": 5,
   "metadata": {},
   "outputs": [],
   "source": [
    "HR_Attrition.Attrition.replace(('Yes', 'No'), (1, 0), inplace=True)"
   ]
  },
  {
   "cell_type": "code",
   "execution_count": 6,
   "metadata": {},
   "outputs": [
    {
     "data": {
      "text/plain": [
       "(1470, 35)"
      ]
     },
     "execution_count": 6,
     "metadata": {},
     "output_type": "execute_result"
    }
   ],
   "source": [
    "HR_Attrition.shape"
   ]
  },
  {
   "cell_type": "markdown",
   "metadata": {},
   "source": [
    "# 1 Univariate Analysis"
   ]
  },
  {
   "cell_type": "code",
   "execution_count": 7,
   "metadata": {},
   "outputs": [
    {
     "data": {
      "text/plain": [
       "count    1470.000000\n",
       "mean       36.923810\n",
       "std         9.135373\n",
       "min        18.000000\n",
       "25%        30.000000\n",
       "50%        36.000000\n",
       "75%        43.000000\n",
       "max        60.000000\n",
       "Name: Age, dtype: float64"
      ]
     },
     "execution_count": 7,
     "metadata": {},
     "output_type": "execute_result"
    }
   ],
   "source": [
    "HR_Attrition.Age.describe()"
   ]
  },
  {
   "cell_type": "code",
   "execution_count": 8,
   "metadata": {},
   "outputs": [
    {
     "data": {
      "text/plain": [
       "0    1233\n",
       "1     237\n",
       "Name: Attrition, dtype: int64"
      ]
     },
     "execution_count": 8,
     "metadata": {},
     "output_type": "execute_result"
    }
   ],
   "source": [
    "HR_Attrition.Attrition.value_counts() "
   ]
  },
  {
   "cell_type": "code",
   "execution_count": 9,
   "metadata": {},
   "outputs": [
    {
     "data": {
      "text/plain": [
       "0    0.838776\n",
       "1    0.161224\n",
       "Name: Attrition, dtype: float64"
      ]
     },
     "execution_count": 9,
     "metadata": {},
     "output_type": "execute_result"
    }
   ],
   "source": [
    "HR_Attrition.Attrition.value_counts(normalize=True) "
   ]
  },
  {
   "cell_type": "code",
   "execution_count": 10,
   "metadata": {},
   "outputs": [
    {
     "data": {
      "text/plain": [
       "Travel_Rarely        0.709524\n",
       "Travel_Frequently    0.188435\n",
       "Non-Travel           0.102041\n",
       "Name: BusinessTravel, dtype: float64"
      ]
     },
     "execution_count": 10,
     "metadata": {},
     "output_type": "execute_result"
    }
   ],
   "source": [
    "HR_Attrition.BusinessTravel.value_counts(normalize=True)"
   ]
  },
  {
   "cell_type": "code",
   "execution_count": 11,
   "metadata": {},
   "outputs": [
    {
     "data": {
      "text/plain": [
       "Research & Development    0.653741\n",
       "Sales                     0.303401\n",
       "Human Resources           0.042857\n",
       "Name: Department, dtype: float64"
      ]
     },
     "execution_count": 11,
     "metadata": {},
     "output_type": "execute_result"
    }
   ],
   "source": [
    "HR_Attrition.Department.value_counts(normalize=True)"
   ]
  },
  {
   "cell_type": "code",
   "execution_count": 12,
   "metadata": {},
   "outputs": [
    {
     "data": {
      "text/plain": [
       "3    0.389116\n",
       "4    0.270748\n",
       "2    0.191837\n",
       "1    0.115646\n",
       "5    0.032653\n",
       "Name: Education, dtype: float64"
      ]
     },
     "execution_count": 12,
     "metadata": {},
     "output_type": "execute_result"
    }
   ],
   "source": [
    "HR_Attrition.Education.value_counts(normalize=True)"
   ]
  },
  {
   "cell_type": "code",
   "execution_count": 13,
   "metadata": {},
   "outputs": [
    {
     "data": {
      "text/plain": [
       "Life Sciences       0.412245\n",
       "Medical             0.315646\n",
       "Marketing           0.108163\n",
       "Technical Degree    0.089796\n",
       "Other               0.055782\n",
       "Human Resources     0.018367\n",
       "Name: EducationField, dtype: float64"
      ]
     },
     "execution_count": 13,
     "metadata": {},
     "output_type": "execute_result"
    }
   ],
   "source": [
    "HR_Attrition.EducationField.value_counts(normalize=True)"
   ]
  },
  {
   "cell_type": "code",
   "execution_count": 14,
   "metadata": {},
   "outputs": [
    {
     "data": {
      "text/plain": [
       "Life Sciences       0.412245\n",
       "Medical             0.315646\n",
       "Marketing           0.108163\n",
       "Technical Degree    0.089796\n",
       "Other               0.055782\n",
       "Human Resources     0.018367\n",
       "Name: EducationField, dtype: float64"
      ]
     },
     "execution_count": 14,
     "metadata": {},
     "output_type": "execute_result"
    }
   ],
   "source": [
    "HR_Attrition.EducationField.value_counts(normalize=True)"
   ]
  },
  {
   "cell_type": "code",
   "execution_count": 15,
   "metadata": {},
   "outputs": [
    {
     "data": {
      "text/plain": [
       "3    0.308163\n",
       "4    0.303401\n",
       "2    0.195238\n",
       "1    0.193197\n",
       "Name: EnvironmentSatisfaction, dtype: float64"
      ]
     },
     "execution_count": 15,
     "metadata": {},
     "output_type": "execute_result"
    }
   ],
   "source": [
    "HR_Attrition.EnvironmentSatisfaction.value_counts(normalize=True)\n"
   ]
  },
  {
   "cell_type": "code",
   "execution_count": 16,
   "metadata": {},
   "outputs": [
    {
     "data": {
      "text/plain": [
       "Male      0.6\n",
       "Female    0.4\n",
       "Name: Gender, dtype: float64"
      ]
     },
     "execution_count": 16,
     "metadata": {},
     "output_type": "execute_result"
    }
   ],
   "source": [
    "HR_Attrition.Gender.value_counts(normalize=True)"
   ]
  },
  {
   "cell_type": "code",
   "execution_count": 17,
   "metadata": {},
   "outputs": [
    {
     "data": {
      "text/plain": [
       "3    0.590476\n",
       "2    0.255102\n",
       "4    0.097959\n",
       "1    0.056463\n",
       "Name: JobInvolvement, dtype: float64"
      ]
     },
     "execution_count": 17,
     "metadata": {},
     "output_type": "execute_result"
    }
   ],
   "source": [
    "HR_Attrition.JobInvolvement.value_counts(normalize=True)"
   ]
  },
  {
   "cell_type": "code",
   "execution_count": 18,
   "metadata": {},
   "outputs": [
    {
     "data": {
      "text/plain": [
       "1    0.369388\n",
       "2    0.363265\n",
       "3    0.148299\n",
       "4    0.072109\n",
       "5    0.046939\n",
       "Name: JobLevel, dtype: float64"
      ]
     },
     "execution_count": 18,
     "metadata": {},
     "output_type": "execute_result"
    }
   ],
   "source": [
    "HR_Attrition.JobLevel.value_counts(normalize=True)"
   ]
  },
  {
   "cell_type": "code",
   "execution_count": 19,
   "metadata": {},
   "outputs": [
    {
     "data": {
      "text/plain": [
       "Sales Executive              0.221769\n",
       "Research Scientist           0.198639\n",
       "Laboratory Technician        0.176190\n",
       "Manufacturing Director       0.098639\n",
       "Healthcare Representative    0.089116\n",
       "Manager                      0.069388\n",
       "Sales Representative         0.056463\n",
       "Research Director            0.054422\n",
       "Human Resources              0.035374\n",
       "Name: JobRole, dtype: float64"
      ]
     },
     "execution_count": 19,
     "metadata": {},
     "output_type": "execute_result"
    }
   ],
   "source": [
    "HR_Attrition.JobRole.value_counts(normalize=True)"
   ]
  },
  {
   "cell_type": "code",
   "execution_count": 20,
   "metadata": {},
   "outputs": [
    {
     "data": {
      "text/plain": [
       "4    0.312245\n",
       "3    0.300680\n",
       "1    0.196599\n",
       "2    0.190476\n",
       "Name: JobSatisfaction, dtype: float64"
      ]
     },
     "execution_count": 20,
     "metadata": {},
     "output_type": "execute_result"
    }
   ],
   "source": [
    "HR_Attrition.JobSatisfaction.value_counts(normalize=True)"
   ]
  },
  {
   "cell_type": "code",
   "execution_count": 21,
   "metadata": {},
   "outputs": [
    {
     "data": {
      "text/plain": [
       "Married     0.457823\n",
       "Single      0.319728\n",
       "Divorced    0.222449\n",
       "Name: MaritalStatus, dtype: float64"
      ]
     },
     "execution_count": 21,
     "metadata": {},
     "output_type": "execute_result"
    }
   ],
   "source": [
    "HR_Attrition.MaritalStatus.value_counts(normalize=True)"
   ]
  },
  {
   "cell_type": "code",
   "execution_count": 22,
   "metadata": {},
   "outputs": [
    {
     "data": {
      "text/plain": [
       "1    0.354422\n",
       "0    0.134014\n",
       "3    0.108163\n",
       "2    0.099320\n",
       "4    0.094558\n",
       "7    0.050340\n",
       "6    0.047619\n",
       "5    0.042857\n",
       "9    0.035374\n",
       "8    0.033333\n",
       "Name: NumCompaniesWorked, dtype: float64"
      ]
     },
     "execution_count": 22,
     "metadata": {},
     "output_type": "execute_result"
    }
   ],
   "source": [
    "HR_Attrition.NumCompaniesWorked.value_counts(normalize=True)"
   ]
  },
  {
   "cell_type": "code",
   "execution_count": 23,
   "metadata": {},
   "outputs": [
    {
     "data": {
      "text/plain": [
       "No     0.717007\n",
       "Yes    0.282993\n",
       "Name: OverTime, dtype: float64"
      ]
     },
     "execution_count": 23,
     "metadata": {},
     "output_type": "execute_result"
    }
   ],
   "source": [
    "HR_Attrition.OverTime.value_counts(normalize=True)"
   ]
  },
  {
   "cell_type": "code",
   "execution_count": 24,
   "metadata": {},
   "outputs": [
    {
     "data": {
      "text/plain": [
       "3    0.846259\n",
       "4    0.153741\n",
       "Name: PerformanceRating, dtype: float64"
      ]
     },
     "execution_count": 24,
     "metadata": {},
     "output_type": "execute_result"
    }
   ],
   "source": [
    "HR_Attrition.PerformanceRating.value_counts(normalize=True)"
   ]
  },
  {
   "cell_type": "code",
   "execution_count": 25,
   "metadata": {},
   "outputs": [
    {
     "data": {
      "text/plain": [
       "3    0.312245\n",
       "4    0.293878\n",
       "2    0.206122\n",
       "1    0.187755\n",
       "Name: RelationshipSatisfaction, dtype: float64"
      ]
     },
     "execution_count": 25,
     "metadata": {},
     "output_type": "execute_result"
    }
   ],
   "source": [
    "HR_Attrition.RelationshipSatisfaction.value_counts(normalize=True)"
   ]
  },
  {
   "cell_type": "code",
   "execution_count": 26,
   "metadata": {},
   "outputs": [
    {
     "data": {
      "text/plain": [
       "2    0.372109\n",
       "3    0.334014\n",
       "4    0.083673\n",
       "5    0.080952\n",
       "1    0.048299\n",
       "6    0.044218\n",
       "0    0.036735\n",
       "Name: TrainingTimesLastYear, dtype: float64"
      ]
     },
     "execution_count": 26,
     "metadata": {},
     "output_type": "execute_result"
    }
   ],
   "source": [
    "HR_Attrition.TrainingTimesLastYear.value_counts(normalize=True)"
   ]
  },
  {
   "cell_type": "code",
   "execution_count": 27,
   "metadata": {},
   "outputs": [
    {
     "data": {
      "text/plain": [
       "3    0.607483\n",
       "2    0.234014\n",
       "4    0.104082\n",
       "1    0.054422\n",
       "Name: WorkLifeBalance, dtype: float64"
      ]
     },
     "execution_count": 27,
     "metadata": {},
     "output_type": "execute_result"
    }
   ],
   "source": [
    "HR_Attrition.WorkLifeBalance.value_counts(normalize=True)"
   ]
  },
  {
   "cell_type": "code",
   "execution_count": 28,
   "metadata": {},
   "outputs": [
    {
     "data": {
      "text/plain": [
       "count    1470.000000\n",
       "mean        4.229252\n",
       "std         3.623137\n",
       "min         0.000000\n",
       "25%         2.000000\n",
       "50%         3.000000\n",
       "75%         7.000000\n",
       "max        18.000000\n",
       "Name: YearsInCurrentRole, dtype: float64"
      ]
     },
     "execution_count": 28,
     "metadata": {},
     "output_type": "execute_result"
    }
   ],
   "source": [
    "HR_Attrition.YearsInCurrentRole.describe()"
   ]
  },
  {
   "cell_type": "code",
   "execution_count": 29,
   "metadata": {},
   "outputs": [
    {
     "data": {
      "text/plain": [
       "count    1470.000000\n",
       "mean        2.187755\n",
       "std         3.222430\n",
       "min         0.000000\n",
       "25%         0.000000\n",
       "50%         1.000000\n",
       "75%         3.000000\n",
       "max        15.000000\n",
       "Name: YearsSinceLastPromotion, dtype: float64"
      ]
     },
     "execution_count": 29,
     "metadata": {},
     "output_type": "execute_result"
    }
   ],
   "source": [
    "HR_Attrition.YearsSinceLastPromotion.describe()"
   ]
  },
  {
   "cell_type": "code",
   "execution_count": 30,
   "metadata": {},
   "outputs": [
    {
     "data": {
      "text/plain": [
       "count    1470.000000\n",
       "mean        4.123129\n",
       "std         3.568136\n",
       "min         0.000000\n",
       "25%         2.000000\n",
       "50%         3.000000\n",
       "75%         7.000000\n",
       "max        17.000000\n",
       "Name: YearsWithCurrManager, dtype: float64"
      ]
     },
     "execution_count": 30,
     "metadata": {},
     "output_type": "execute_result"
    }
   ],
   "source": [
    "HR_Attrition.YearsWithCurrManager.describe()"
   ]
  },
  {
   "cell_type": "markdown",
   "metadata": {},
   "source": [
    "# 2 Missing Value Analysis"
   ]
  },
  {
   "cell_type": "code",
   "execution_count": 31,
   "metadata": {},
   "outputs": [
    {
     "data": {
      "text/plain": [
       "Attrition                   0\n",
       "Age                         0\n",
       "BusinessTravel              0\n",
       "DailyRate                   0\n",
       "Department                  0\n",
       "DistanceFromHome            0\n",
       "Education                   0\n",
       "EducationField              0\n",
       "EmployeeCount               0\n",
       "EmployeeNumber              0\n",
       "EnvironmentSatisfaction     0\n",
       "Gender                      0\n",
       "HourlyRate                  0\n",
       "JobInvolvement              0\n",
       "JobLevel                    0\n",
       "JobRole                     0\n",
       "JobSatisfaction             0\n",
       "MaritalStatus               0\n",
       "MonthlyIncome               0\n",
       "MonthlyRate                 0\n",
       "NumCompaniesWorked          0\n",
       "Over18                      0\n",
       "OverTime                    0\n",
       "PercentSalaryHike           0\n",
       "PerformanceRating           0\n",
       "RelationshipSatisfaction    0\n",
       "StandardHours               0\n",
       "StockOptionLevel            0\n",
       "TotalWorkingYears           0\n",
       "TrainingTimesLastYear       0\n",
       "WorkLifeBalance             0\n",
       "YearsAtCompany              0\n",
       "YearsInCurrentRole          0\n",
       "YearsSinceLastPromotion     0\n",
       "YearsWithCurrManager        0\n",
       "dtype: int64"
      ]
     },
     "execution_count": 31,
     "metadata": {},
     "output_type": "execute_result"
    }
   ],
   "source": [
    "HR_Attrition.isnull().sum()"
   ]
  },
  {
   "cell_type": "markdown",
   "metadata": {},
   "source": [
    "# 3 Bivariate Analysis"
   ]
  },
  {
   "cell_type": "markdown",
   "metadata": {},
   "source": [
    "# Attrition VS Age"
   ]
  },
  {
   "cell_type": "code",
   "execution_count": 32,
   "metadata": {},
   "outputs": [],
   "source": [
    "import scipy.stats as stats\n",
    "from scipy.stats import ttest_ind"
   ]
  },
  {
   "cell_type": "code",
   "execution_count": 33,
   "metadata": {},
   "outputs": [
    {
     "data": {
      "text/html": [
       "<div>\n",
       "<style scoped>\n",
       "    .dataframe tbody tr th:only-of-type {\n",
       "        vertical-align: middle;\n",
       "    }\n",
       "\n",
       "    .dataframe tbody tr th {\n",
       "        vertical-align: top;\n",
       "    }\n",
       "\n",
       "    .dataframe thead th {\n",
       "        text-align: right;\n",
       "    }\n",
       "</style>\n",
       "<table border=\"1\" class=\"dataframe\">\n",
       "  <thead>\n",
       "    <tr style=\"text-align: right;\">\n",
       "      <th></th>\n",
       "      <th>Age</th>\n",
       "    </tr>\n",
       "    <tr>\n",
       "      <th>Attrition</th>\n",
       "      <th></th>\n",
       "    </tr>\n",
       "  </thead>\n",
       "  <tbody>\n",
       "    <tr>\n",
       "      <td>0</td>\n",
       "      <td>37.561233</td>\n",
       "    </tr>\n",
       "    <tr>\n",
       "      <td>1</td>\n",
       "      <td>33.607595</td>\n",
       "    </tr>\n",
       "  </tbody>\n",
       "</table>\n",
       "</div>"
      ],
      "text/plain": [
       "                 Age\n",
       "Attrition           \n",
       "0          37.561233\n",
       "1          33.607595"
      ]
     },
     "execution_count": 33,
     "metadata": {},
     "output_type": "execute_result"
    }
   ],
   "source": [
    "HR_Attrition.groupby(['Attrition']).agg({'Age': 'mean'})"
   ]
  },
  {
   "cell_type": "code",
   "execution_count": 34,
   "metadata": {},
   "outputs": [
    {
     "data": {
      "text/plain": [
       "<matplotlib.axes._subplots.AxesSubplot at 0xbddb508>"
      ]
     },
     "execution_count": 34,
     "metadata": {},
     "output_type": "execute_result"
    },
    {
     "data": {
      "image/png": "[encoded data removed]",
      "text/plain": [
       "<Figure size 432x288 with 1 Axes>"
      ]
     },
     "metadata": {
      "needs_background": "light"
     },
     "output_type": "display_data"
    }
   ],
   "source": [
    "sns.boxplot(x=\"Attrition\", y=\"Age\", data=HR_Attrition)"
   ]
  },
  {
   "cell_type": "code",
   "execution_count": null,
   "metadata": {},
   "outputs": [],
   "source": []
  },
  {
   "cell_type": "code",
   "execution_count": 35,
   "metadata": {},
   "outputs": [
    {
     "data": {
      "text/plain": [
       "Ttest_indResult(statistic=6.1786638353072165, pvalue=8.356308021103649e-10)"
      ]
     },
     "execution_count": 35,
     "metadata": {},
     "output_type": "execute_result"
    }
   ],
   "source": [
    "cat1 = HR_Attrition[HR_Attrition['Attrition']==0]\n",
    "cat2 = HR_Attrition[HR_Attrition['Attrition']==1]\n",
    "\n",
    "ttest_ind(cat1['Age'], cat2['Age'])\n",
    "#There is significant association between age and Attrition"
   ]
  },
  {
   "cell_type": "markdown",
   "metadata": {},
   "source": [
    "# Attrition VS BusinessTravel"
   ]
  },
  {
   "cell_type": "code",
   "execution_count": 36,
   "metadata": {},
   "outputs": [
    {
     "name": "stdout",
     "output_type": "stream",
     "text": [
      "BusinessTravel  Non-Travel  Travel_Frequently  Travel_Rarely\n",
      "Attrition                                                   \n",
      "0                      138                208            887\n",
      "1                       12                 69            156\n"
     ]
    }
   ],
   "source": [
    "x1=pd.crosstab(HR_Attrition[\"Attrition\"],HR_Attrition[\"BusinessTravel\"])\n",
    "print(x1)\n"
   ]
  },
  {
   "cell_type": "code",
   "execution_count": 37,
   "metadata": {},
   "outputs": [
    {
     "data": {
      "text/plain": [
       "(24.182413685655174,\n",
       " 5.608614476449931e-06,\n",
       " 2,\n",
       " array([[125.81632653, 232.34081633, 874.84285714],\n",
       "        [ 24.18367347,  44.65918367, 168.15714286]]))"
      ]
     },
     "execution_count": 37,
     "metadata": {},
     "output_type": "execute_result"
    }
   ],
   "source": [
    "stats.chi2_contingency(x1) \n",
    "#There is significant association between Business Travel and Attrition"
   ]
  },
  {
   "cell_type": "markdown",
   "metadata": {},
   "source": [
    "# Attrition VS DailyRate"
   ]
  },
  {
   "cell_type": "code",
   "execution_count": 38,
   "metadata": {},
   "outputs": [
    {
     "data": {
      "text/plain": [
       "Ttest_indResult(statistic=2.1740836777017747, pvalue=0.02985816066026497)"
      ]
     },
     "execution_count": 38,
     "metadata": {},
     "output_type": "execute_result"
    }
   ],
   "source": [
    "ttest_ind(cat1['DailyRate'], cat2['DailyRate'])\n",
    "#There is significant association between DailyRate and Attrition"
   ]
  },
  {
   "cell_type": "markdown",
   "metadata": {},
   "source": [
    "# Attrition VS Department"
   ]
  },
  {
   "cell_type": "code",
   "execution_count": 39,
   "metadata": {},
   "outputs": [
    {
     "name": "stdout",
     "output_type": "stream",
     "text": [
      "Department  Human Resources  Research & Development  Sales\n",
      "Attrition                                                 \n",
      "0                        51                     828    354\n",
      "1                        12                     133     92\n"
     ]
    }
   ],
   "source": [
    "x2=pd.crosstab(HR_Attrition[\"Attrition\"],HR_Attrition[\"Department\"])\n",
    "print(x2)\n"
   ]
  },
  {
   "cell_type": "code",
   "execution_count": 40,
   "metadata": {},
   "outputs": [
    {
     "data": {
      "text/plain": [
       "(10.79600732241067,\n",
       " 0.004525606574479633,\n",
       " 2,\n",
       " array([[ 52.84285714, 806.06326531, 374.09387755],\n",
       "        [ 10.15714286, 154.93673469,  71.90612245]]))"
      ]
     },
     "execution_count": 40,
     "metadata": {},
     "output_type": "execute_result"
    }
   ],
   "source": [
    "stats.chi2_contingency(x2) \n",
    "#There is significant association between Department and Attrition"
   ]
  },
  {
   "cell_type": "markdown",
   "metadata": {},
   "source": [
    "# Attrition VS DistanceFromHome\n"
   ]
  },
  {
   "cell_type": "code",
   "execution_count": 41,
   "metadata": {},
   "outputs": [
    {
     "data": {
      "text/plain": [
       "Ttest_indResult(statistic=-2.994708098265125, pvalue=0.0027930600802134266)"
      ]
     },
     "execution_count": 41,
     "metadata": {},
     "output_type": "execute_result"
    }
   ],
   "source": [
    "ttest_ind(cat1['DistanceFromHome'], cat2['DistanceFromHome'])\n",
    "#There is significant association between DistanceFromHome and Attrition"
   ]
  },
  {
   "cell_type": "markdown",
   "metadata": {},
   "source": [
    "# Attrition VS Education"
   ]
  },
  {
   "cell_type": "code",
   "execution_count": 42,
   "metadata": {},
   "outputs": [
    {
     "data": {
      "text/plain": [
       "Ttest_indResult(statistic=1.202625515508589, pvalue=0.2293152033223043)"
      ]
     },
     "execution_count": 42,
     "metadata": {},
     "output_type": "execute_result"
    }
   ],
   "source": [
    "ttest_ind(cat1['Education'], cat2['Education'])\n",
    "#There is no significant association between Education and Attrition"
   ]
  },
  {
   "cell_type": "markdown",
   "metadata": {},
   "source": [
    "# Attrition VS EducationField\n"
   ]
  },
  {
   "cell_type": "code",
   "execution_count": 43,
   "metadata": {},
   "outputs": [
    {
     "name": "stdout",
     "output_type": "stream",
     "text": [
      "EducationField  Human Resources  Life Sciences  Marketing  Medical  Other  \\\n",
      "Attrition                                                                   \n",
      "0                            20            517        124      401     71   \n",
      "1                             7             89         35       63     11   \n",
      "\n",
      "EducationField  Technical Degree  \n",
      "Attrition                         \n",
      "0                            100  \n",
      "1                             32  \n"
     ]
    }
   ],
   "source": [
    "x3=pd.crosstab(HR_Attrition[\"Attrition\"],HR_Attrition[\"EducationField\"])\n",
    "print(x3)"
   ]
  },
  {
   "cell_type": "code",
   "execution_count": 44,
   "metadata": {},
   "outputs": [
    {
     "data": {
      "text/plain": [
       "(16.024674119585423,\n",
       " 0.006773980139025222,\n",
       " 5,\n",
       " array([[ 22.64693878, 508.29795918, 133.36530612, 389.19183673,\n",
       "          68.77959184, 110.71836735],\n",
       "        [  4.35306122,  97.70204082,  25.63469388,  74.80816327,\n",
       "          13.22040816,  21.28163265]]))"
      ]
     },
     "execution_count": 44,
     "metadata": {},
     "output_type": "execute_result"
    }
   ],
   "source": [
    "stats.chi2_contingency(x3) \n",
    "#There is significant association between EducationField and Attrition"
   ]
  },
  {
   "cell_type": "markdown",
   "metadata": {},
   "source": [
    "# Attrition VS EmployeeNumber"
   ]
  },
  {
   "cell_type": "code",
   "execution_count": 45,
   "metadata": {},
   "outputs": [
    {
     "data": {
      "text/plain": [
       "Ttest_indResult(statistic=0.4052843139019291, pvalue=0.6853275897297122)"
      ]
     },
     "execution_count": 45,
     "metadata": {},
     "output_type": "execute_result"
    }
   ],
   "source": [
    "ttest_ind(cat1['EmployeeNumber'], cat2['EmployeeNumber'])\n",
    "#There is no significant association between EmployeeNumber and Attrition"
   ]
  },
  {
   "cell_type": "markdown",
   "metadata": {},
   "source": [
    "# Attrition VS EnvironmentSatisfaction"
   ]
  },
  {
   "cell_type": "code",
   "execution_count": 46,
   "metadata": {},
   "outputs": [
    {
     "name": "stdout",
     "output_type": "stream",
     "text": [
      "EnvironmentSatisfaction    1    2    3    4\n",
      "Attrition                                  \n",
      "0                        212  244  391  386\n",
      "1                         72   43   62   60\n"
     ]
    }
   ],
   "source": [
    "x4=pd.crosstab(HR_Attrition[\"Attrition\"],HR_Attrition[\"EnvironmentSatisfaction\"])\n",
    "print(x4)"
   ]
  },
  {
   "cell_type": "code",
   "execution_count": 47,
   "metadata": {},
   "outputs": [
    {
     "data": {
      "text/plain": [
       "(22.503881435842295,\n",
       " 5.1234689062894205e-05,\n",
       " 3,\n",
       " array([[238.2122449 , 240.72857143, 379.96530612, 374.09387755],\n",
       "        [ 45.7877551 ,  46.27142857,  73.03469388,  71.90612245]]))"
      ]
     },
     "execution_count": 47,
     "metadata": {},
     "output_type": "execute_result"
    }
   ],
   "source": [
    "stats.chi2_contingency(x4)\n",
    "#There is significant association between EnvironmentSatisfaction and Attrition"
   ]
  },
  {
   "cell_type": "markdown",
   "metadata": {},
   "source": [
    "# Attrition VS Gender"
   ]
  },
  {
   "cell_type": "code",
   "execution_count": 48,
   "metadata": {},
   "outputs": [
    {
     "name": "stdout",
     "output_type": "stream",
     "text": [
      "Gender     Female  Male\n",
      "Attrition              \n",
      "0             501   732\n",
      "1              87   150\n"
     ]
    }
   ],
   "source": [
    "x5=pd.crosstab(HR_Attrition[\"Attrition\"],HR_Attrition[\"Gender\"])\n",
    "print(x5)"
   ]
  },
  {
   "cell_type": "code",
   "execution_count": 49,
   "metadata": {},
   "outputs": [
    {
     "data": {
      "text/plain": [
       "(1.1169671241970975, 0.29057244902890855, 1, array([[493.2, 739.8],\n",
       "        [ 94.8, 142.2]]))"
      ]
     },
     "execution_count": 49,
     "metadata": {},
     "output_type": "execute_result"
    }
   ],
   "source": [
    "stats.chi2_contingency(x5)\n",
    "#There is no significant association between Gender and Attrition"
   ]
  },
  {
   "cell_type": "markdown",
   "metadata": {},
   "source": [
    "# Attrition VS HourlyRate"
   ]
  },
  {
   "cell_type": "code",
   "execution_count": 50,
   "metadata": {},
   "outputs": [
    {
     "data": {
      "text/plain": [
       "Ttest_indResult(statistic=0.26228987349264493, pvalue=0.7931347689944243)"
      ]
     },
     "execution_count": 50,
     "metadata": {},
     "output_type": "execute_result"
    }
   ],
   "source": [
    "ttest_ind(cat1['HourlyRate'], cat2['HourlyRate'])\n",
    "#There is no significant association between HourlyRate and Attrition"
   ]
  },
  {
   "cell_type": "markdown",
   "metadata": {},
   "source": [
    "# Attrition VS JobInvolvement"
   ]
  },
  {
   "cell_type": "code",
   "execution_count": 51,
   "metadata": {},
   "outputs": [
    {
     "name": "stdout",
     "output_type": "stream",
     "text": [
      "JobInvolvement   1    2    3    4\n",
      "Attrition                        \n",
      "0               55  304  743  131\n",
      "1               28   71  125   13\n"
     ]
    }
   ],
   "source": [
    "x6=pd.crosstab(HR_Attrition[\"Attrition\"],HR_Attrition[\"JobInvolvement\"])\n",
    "print(x6)"
   ]
  },
  {
   "cell_type": "code",
   "execution_count": 52,
   "metadata": {},
   "outputs": [
    {
     "data": {
      "text/plain": [
       "(28.492021234659283,\n",
       " 2.8631806367134195e-06,\n",
       " 3,\n",
       " array([[ 69.61836735, 314.54081633, 728.05714286, 120.78367347],\n",
       "        [ 13.38163265,  60.45918367, 139.94285714,  23.21632653]]))"
      ]
     },
     "execution_count": 52,
     "metadata": {},
     "output_type": "execute_result"
    }
   ],
   "source": [
    "stats.chi2_contingency(x6)\n",
    "#There is significant association between Jobinvolvement and Attrition"
   ]
  },
  {
   "cell_type": "markdown",
   "metadata": {},
   "source": [
    "# Attrition VS JobLevel"
   ]
  },
  {
   "cell_type": "code",
   "execution_count": 53,
   "metadata": {},
   "outputs": [
    {
     "name": "stdout",
     "output_type": "stream",
     "text": [
      "JobLevel     1    2    3    4   5\n",
      "Attrition                        \n",
      "0          400  482  186  101  64\n",
      "1          143   52   32    5   5\n"
     ]
    }
   ],
   "source": [
    "x7=pd.crosstab(HR_Attrition[\"Attrition\"],HR_Attrition[\"JobLevel\"])\n",
    "print(x7)"
   ]
  },
  {
   "cell_type": "code",
   "execution_count": 54,
   "metadata": {},
   "outputs": [
    {
     "data": {
      "text/plain": [
       "(72.52901310667391,\n",
       " 6.634684715458909e-15,\n",
       " 4,\n",
       " array([[455.45510204, 447.90612245, 182.85306122,  88.91020408,\n",
       "          57.8755102 ],\n",
       "        [ 87.54489796,  86.09387755,  35.14693878,  17.08979592,\n",
       "          11.1244898 ]]))"
      ]
     },
     "execution_count": 54,
     "metadata": {},
     "output_type": "execute_result"
    }
   ],
   "source": [
    "stats.chi2_contingency(x7)\n",
    "#There is significant association between JobLevel and Attrition"
   ]
  },
  {
   "cell_type": "markdown",
   "metadata": {},
   "source": [
    "# Attrition VS JobRole"
   ]
  },
  {
   "cell_type": "code",
   "execution_count": 55,
   "metadata": {},
   "outputs": [
    {
     "name": "stdout",
     "output_type": "stream",
     "text": [
      "JobRole    Healthcare Representative  Human Resources  Laboratory Technician  \\\n",
      "Attrition                                                                      \n",
      "0                                122               40                    197   \n",
      "1                                  9               12                     62   \n",
      "\n",
      "JobRole    Manager  Manufacturing Director  Research Director  \\\n",
      "Attrition                                                       \n",
      "0               97                     135                 78   \n",
      "1                5                      10                  2   \n",
      "\n",
      "JobRole    Research Scientist  Sales Executive  Sales Representative  \n",
      "Attrition                                                             \n",
      "0                         245              269                    50  \n",
      "1                          47               57                    33  \n"
     ]
    }
   ],
   "source": [
    "x8=pd.crosstab(HR_Attrition[\"Attrition\"],HR_Attrition[\"JobRole\"])\n",
    "print(x8)"
   ]
  },
  {
   "cell_type": "code",
   "execution_count": 56,
   "metadata": {},
   "outputs": [
    {
     "data": {
      "text/plain": [
       "(86.19025367670434,\n",
       " 2.752481638050657e-15,\n",
       " 8,\n",
       " array([[109.87959184,  43.61632653, 217.24285714,  85.55510204,\n",
       "         121.62244898,  67.10204082, 244.92244898, 273.44081633,\n",
       "          69.61836735],\n",
       "        [ 21.12040816,   8.38367347,  41.75714286,  16.44489796,\n",
       "          23.37755102,  12.89795918,  47.07755102,  52.55918367,\n",
       "          13.38163265]]))"
      ]
     },
     "execution_count": 56,
     "metadata": {},
     "output_type": "execute_result"
    }
   ],
   "source": [
    "stats.chi2_contingency(x8)\n",
    "#There is significant association between Jobrole and Attrition"
   ]
  },
  {
   "cell_type": "markdown",
   "metadata": {},
   "source": [
    "# Attrition VS JobSatisfaction"
   ]
  },
  {
   "cell_type": "code",
   "execution_count": 57,
   "metadata": {},
   "outputs": [
    {
     "name": "stdout",
     "output_type": "stream",
     "text": [
      "JobSatisfaction    1    2    3    4\n",
      "Attrition                          \n",
      "0                223  234  369  407\n",
      "1                 66   46   73   52\n"
     ]
    }
   ],
   "source": [
    "x9=pd.crosstab(HR_Attrition[\"Attrition\"],HR_Attrition[\"JobSatisfaction\"])\n",
    "print(x9)"
   ]
  },
  {
   "cell_type": "code",
   "execution_count": 58,
   "metadata": {},
   "outputs": [
    {
     "data": {
      "text/plain": [
       "(17.505077010348,\n",
       " 0.0005563004510387556,\n",
       " 3,\n",
       " array([[242.40612245, 234.85714286, 370.73877551, 384.99795918],\n",
       "        [ 46.59387755,  45.14285714,  71.26122449,  74.00204082]]))"
      ]
     },
     "execution_count": 58,
     "metadata": {},
     "output_type": "execute_result"
    }
   ],
   "source": [
    "stats.chi2_contingency(x9)\n",
    "#There is significant association between JobSatisfaction and Attrition"
   ]
  },
  {
   "cell_type": "markdown",
   "metadata": {},
   "source": [
    "# Attrition VS MaritalStatus"
   ]
  },
  {
   "cell_type": "code",
   "execution_count": 59,
   "metadata": {},
   "outputs": [
    {
     "name": "stdout",
     "output_type": "stream",
     "text": [
      "MaritalStatus  Divorced  Married  Single\n",
      "Attrition                               \n",
      "0                   294      589     350\n",
      "1                    33       84     120\n"
     ]
    }
   ],
   "source": [
    "x9=pd.crosstab(HR_Attrition[\"Attrition\"],HR_Attrition[\"MaritalStatus\"])\n",
    "print(x9)"
   ]
  },
  {
   "cell_type": "code",
   "execution_count": 60,
   "metadata": {},
   "outputs": [
    {
     "data": {
      "text/plain": [
       "(46.163676540848705,\n",
       " 9.45551106034083e-11,\n",
       " 2,\n",
       " array([[274.27959184, 564.49591837, 394.2244898 ],\n",
       "        [ 52.72040816, 108.50408163,  75.7755102 ]]))"
      ]
     },
     "execution_count": 60,
     "metadata": {},
     "output_type": "execute_result"
    }
   ],
   "source": [
    "stats.chi2_contingency(x9)\n",
    "#There is significant association between MaritalStatus and Attrition"
   ]
  },
  {
   "cell_type": "markdown",
   "metadata": {},
   "source": [
    "# Attrition VS MonthlyIncome"
   ]
  },
  {
   "cell_type": "code",
   "execution_count": 61,
   "metadata": {},
   "outputs": [
    {
     "data": {
      "text/plain": [
       "Ttest_indResult(statistic=6.203935765608938, pvalue=7.14736398535381e-10)"
      ]
     },
     "execution_count": 61,
     "metadata": {},
     "output_type": "execute_result"
    }
   ],
   "source": [
    "ttest_ind(cat1['MonthlyIncome'], cat2['MonthlyIncome'])\n",
    "#There is significant association between Monthlyincome and Attrition"
   ]
  },
  {
   "cell_type": "markdown",
   "metadata": {},
   "source": [
    "# Attrition VS MonthlyRate"
   ]
  },
  {
   "cell_type": "code",
   "execution_count": 62,
   "metadata": {},
   "outputs": [
    {
     "data": {
      "text/plain": [
       "Ttest_indResult(statistic=-0.5813058211545318, pvalue=0.5611235982243015)"
      ]
     },
     "execution_count": 62,
     "metadata": {},
     "output_type": "execute_result"
    }
   ],
   "source": [
    "ttest_ind(cat1['MonthlyRate'], cat2['MonthlyRate'])\n",
    "#There is no significant association between MonthlyRate and Attrition"
   ]
  },
  {
   "cell_type": "markdown",
   "metadata": {},
   "source": [
    "# Attrition VS NumCompaniesWorked"
   ]
  },
  {
   "cell_type": "code",
   "execution_count": 63,
   "metadata": {},
   "outputs": [
    {
     "data": {
      "text/plain": [
       "Ttest_indResult(statistic=-1.6680187953544354, pvalue=0.0955252620565195)"
      ]
     },
     "execution_count": 63,
     "metadata": {},
     "output_type": "execute_result"
    }
   ],
   "source": [
    "ttest_ind(cat1['NumCompaniesWorked'], cat2['NumCompaniesWorked'])\n",
    "#There is no significant association between NumCompaniesWorked and Attrition"
   ]
  },
  {
   "cell_type": "markdown",
   "metadata": {},
   "source": [
    "# Attrition VS Over18"
   ]
  },
  {
   "cell_type": "code",
   "execution_count": 64,
   "metadata": {},
   "outputs": [
    {
     "name": "stdout",
     "output_type": "stream",
     "text": [
      "Over18        Y\n",
      "Attrition      \n",
      "0          1233\n",
      "1           237\n"
     ]
    }
   ],
   "source": [
    "x10=pd.crosstab(HR_Attrition[\"Attrition\"],HR_Attrition[\"Over18\"])\n",
    "print(x10)"
   ]
  },
  {
   "cell_type": "code",
   "execution_count": 65,
   "metadata": {},
   "outputs": [
    {
     "data": {
      "text/plain": [
       "(0.0, 1.0, 0, array([[1233.],\n",
       "        [ 237.]]))"
      ]
     },
     "execution_count": 65,
     "metadata": {},
     "output_type": "execute_result"
    }
   ],
   "source": [
    "stats.chi2_contingency(x10)\n",
    "#There is no significant association between Over18 and Attrition"
   ]
  },
  {
   "cell_type": "markdown",
   "metadata": {},
   "source": [
    "# Attrition VS OverTime"
   ]
  },
  {
   "cell_type": "code",
   "execution_count": 66,
   "metadata": {},
   "outputs": [
    {
     "name": "stdout",
     "output_type": "stream",
     "text": [
      "OverTime    No  Yes\n",
      "Attrition          \n",
      "0          944  289\n",
      "1          110  127\n"
     ]
    }
   ],
   "source": [
    "x11=pd.crosstab(HR_Attrition[\"Attrition\"],HR_Attrition[\"OverTime\"])\n",
    "print(x11)"
   ]
  },
  {
   "cell_type": "code",
   "execution_count": 67,
   "metadata": {},
   "outputs": [
    {
     "data": {
      "text/plain": [
       "(87.56429365828768,\n",
       " 8.15842372153832e-21,\n",
       " 1,\n",
       " array([[884.06938776, 348.93061224],\n",
       "        [169.93061224,  67.06938776]]))"
      ]
     },
     "execution_count": 67,
     "metadata": {},
     "output_type": "execute_result"
    }
   ],
   "source": [
    "stats.chi2_contingency(x11)\n",
    "#There is significant association between OverTime and Attrition"
   ]
  },
  {
   "cell_type": "markdown",
   "metadata": {},
   "source": [
    "# Attrition VS PercentSalaryHike"
   ]
  },
  {
   "cell_type": "code",
   "execution_count": 68,
   "metadata": {},
   "outputs": [
    {
     "data": {
      "text/plain": [
       "Ttest_indResult(statistic=0.5164573250747643, pvalue=0.6056128238893757)"
      ]
     },
     "execution_count": 68,
     "metadata": {},
     "output_type": "execute_result"
    }
   ],
   "source": [
    "ttest_ind(cat1['PercentSalaryHike'], cat2['PercentSalaryHike'])\n",
    "#There is no significant association between PercentSalaryHike and Attrition"
   ]
  },
  {
   "cell_type": "markdown",
   "metadata": {},
   "source": [
    "# Attrition VS PerformanceRating"
   ]
  },
  {
   "cell_type": "code",
   "execution_count": 69,
   "metadata": {},
   "outputs": [
    {
     "name": "stdout",
     "output_type": "stream",
     "text": [
      "PerformanceRating     3    4\n",
      "Attrition                   \n",
      "0                  1044  189\n",
      "1                   200   37\n"
     ]
    }
   ],
   "source": [
    "x11=pd.crosstab(HR_Attrition[\"Attrition\"],HR_Attrition[\"PerformanceRating\"])\n",
    "print(x11)"
   ]
  },
  {
   "cell_type": "code",
   "execution_count": 70,
   "metadata": {},
   "outputs": [
    {
     "data": {
      "text/plain": [
       "(0.00015475439428271534,\n",
       " 0.9900745465934576,\n",
       " 1,\n",
       " array([[1043.43673469,  189.56326531],\n",
       "        [ 200.56326531,   36.43673469]]))"
      ]
     },
     "execution_count": 70,
     "metadata": {},
     "output_type": "execute_result"
    }
   ],
   "source": [
    "stats.chi2_contingency(x11)\n",
    "#There is no significant association between PerformanceRating and Attrition"
   ]
  },
  {
   "cell_type": "markdown",
   "metadata": {},
   "source": [
    "# Attrition VS RelationshipSatisfaction"
   ]
  },
  {
   "cell_type": "code",
   "execution_count": 71,
   "metadata": {},
   "outputs": [
    {
     "name": "stdout",
     "output_type": "stream",
     "text": [
      "RelationshipSatisfaction    1    2    3    4\n",
      "Attrition                                   \n",
      "0                         219  258  388  368\n",
      "1                          57   45   71   64\n"
     ]
    }
   ],
   "source": [
    "x12=pd.crosstab(HR_Attrition[\"Attrition\"],HR_Attrition[\"RelationshipSatisfaction\"])\n",
    "print(x12)"
   ]
  },
  {
   "cell_type": "code",
   "execution_count": 72,
   "metadata": {},
   "outputs": [
    {
     "data": {
      "text/plain": [
       "(5.241067859713708,\n",
       " 0.15497244371052626,\n",
       " 3,\n",
       " array([[231.50204082, 254.14897959, 384.99795918, 362.35102041],\n",
       "        [ 44.49795918,  48.85102041,  74.00204082,  69.64897959]]))"
      ]
     },
     "execution_count": 72,
     "metadata": {},
     "output_type": "execute_result"
    }
   ],
   "source": [
    "stats.chi2_contingency(x12)\n",
    "#There is no significant association between RelationshipSatisfaction and Attrition"
   ]
  },
  {
   "cell_type": "markdown",
   "metadata": {},
   "source": [
    "# Attrition VS StandardHours"
   ]
  },
  {
   "cell_type": "code",
   "execution_count": 73,
   "metadata": {},
   "outputs": [
    {
     "name": "stderr",
     "output_type": "stream",
     "text": [
      "C:\\Python\\Anaconda3\\lib\\site-packages\\scipy\\stats\\_distn_infrastructure.py:901: RuntimeWarning: invalid value encountered in greater\n",
      "  return (a < x) & (x < b)\n",
      "C:\\Python\\Anaconda3\\lib\\site-packages\\scipy\\stats\\_distn_infrastructure.py:901: RuntimeWarning: invalid value encountered in less\n",
      "  return (a < x) & (x < b)\n",
      "C:\\Python\\Anaconda3\\lib\\site-packages\\scipy\\stats\\_distn_infrastructure.py:1892: RuntimeWarning: invalid value encountered in less_equal\n",
      "  cond2 = cond0 & (x <= _a)\n"
     ]
    },
    {
     "data": {
      "text/plain": [
       "Ttest_indResult(statistic=nan, pvalue=nan)"
      ]
     },
     "execution_count": 73,
     "metadata": {},
     "output_type": "execute_result"
    }
   ],
   "source": [
    "ttest_ind(cat1['StandardHours'], cat2['StandardHours'])\n",
    "#There is no significant association between StandardHours and Attrition"
   ]
  },
  {
   "cell_type": "markdown",
   "metadata": {},
   "source": [
    "# Attrition VS StockOptionLevel"
   ]
  },
  {
   "cell_type": "code",
   "execution_count": 74,
   "metadata": {},
   "outputs": [
    {
     "name": "stdout",
     "output_type": "stream",
     "text": [
      "StockOptionLevel    0    1    2   3\n",
      "Attrition                          \n",
      "0                 477  540  146  70\n",
      "1                 154   56   12  15\n"
     ]
    }
   ],
   "source": [
    "x14=pd.crosstab(HR_Attrition[\"Attrition\"],HR_Attrition[\"StockOptionLevel\"])\n",
    "print(x14)"
   ]
  },
  {
   "cell_type": "code",
   "execution_count": 75,
   "metadata": {},
   "outputs": [
    {
     "data": {
      "text/plain": [
       "(60.59830108612225,\n",
       " 4.379390336108354e-13,\n",
       " 3,\n",
       " array([[529.26734694, 499.91020408, 132.52653061,  71.29591837],\n",
       "        [101.73265306,  96.08979592,  25.47346939,  13.70408163]]))"
      ]
     },
     "execution_count": 75,
     "metadata": {},
     "output_type": "execute_result"
    }
   ],
   "source": [
    "stats.chi2_contingency(x14)\n",
    "#There is significant association between StockOptionLevel and Attrition"
   ]
  },
  {
   "cell_type": "markdown",
   "metadata": {},
   "source": [
    "# Attrition VS TotalWorkingYears"
   ]
  },
  {
   "cell_type": "code",
   "execution_count": 76,
   "metadata": {},
   "outputs": [
    {
     "data": {
      "text/plain": [
       "Ttest_indResult(statistic=6.6522546135024445, pvalue=4.0618781112668525e-11)"
      ]
     },
     "execution_count": 76,
     "metadata": {},
     "output_type": "execute_result"
    }
   ],
   "source": [
    "ttest_ind(cat1['TotalWorkingYears'], cat2['TotalWorkingYears'])\n",
    "#There is significant association between TotalWorkingYears and Attrition"
   ]
  },
  {
   "cell_type": "markdown",
   "metadata": {},
   "source": [
    "# Attrition VS TrainingTimesLastYear"
   ]
  },
  {
   "cell_type": "code",
   "execution_count": 77,
   "metadata": {},
   "outputs": [
    {
     "data": {
      "text/plain": [
       "Ttest_indResult(statistic=2.2829029923666897, pvalue=0.02257849973720126)"
      ]
     },
     "execution_count": 77,
     "metadata": {},
     "output_type": "execute_result"
    }
   ],
   "source": [
    "ttest_ind(cat1['TrainingTimesLastYear'], cat2['TrainingTimesLastYear'])\n",
    "#There is significant association between TrainingTimesLastYear and Attrition"
   ]
  },
  {
   "cell_type": "markdown",
   "metadata": {},
   "source": [
    "# Attrition VS WorkLifeBalance"
   ]
  },
  {
   "cell_type": "code",
   "execution_count": 78,
   "metadata": {},
   "outputs": [
    {
     "name": "stdout",
     "output_type": "stream",
     "text": [
      "WorkLifeBalance   1    2    3    4\n",
      "Attrition                         \n",
      "0                55  286  766  126\n",
      "1                25   58  127   27\n"
     ]
    }
   ],
   "source": [
    "x15=pd.crosstab(HR_Attrition[\"Attrition\"],HR_Attrition[\"WorkLifeBalance\"])\n",
    "print(x15)"
   ]
  },
  {
   "cell_type": "code",
   "execution_count": 79,
   "metadata": {},
   "outputs": [
    {
     "data": {
      "text/plain": [
       "(16.3250970916474,\n",
       " 0.0009725698845348824,\n",
       " 3,\n",
       " array([[ 67.10204082, 288.53877551, 749.02653061, 128.33265306],\n",
       "        [ 12.89795918,  55.46122449, 143.97346939,  24.66734694]]))"
      ]
     },
     "execution_count": 79,
     "metadata": {},
     "output_type": "execute_result"
    }
   ],
   "source": [
    "stats.chi2_contingency(x15)\n",
    "#There is significant association between WorkLifeBalance and Attrition"
   ]
  },
  {
   "cell_type": "markdown",
   "metadata": {},
   "source": [
    "# Attrition VS YearsAtCompany"
   ]
  },
  {
   "cell_type": "code",
   "execution_count": 80,
   "metadata": {},
   "outputs": [
    {
     "data": {
      "text/plain": [
       "Ttest_indResult(statistic=5.1963086670254235, pvalue=2.3188716103863033e-07)"
      ]
     },
     "execution_count": 80,
     "metadata": {},
     "output_type": "execute_result"
    }
   ],
   "source": [
    "ttest_ind(cat1['YearsAtCompany'], cat2['YearsAtCompany'])\n",
    "#There is significant association between YearsAtCompany and Attrition"
   ]
  },
  {
   "cell_type": "markdown",
   "metadata": {},
   "source": [
    "# Attrition VS YearsInCurrentRole"
   ]
  },
  {
   "cell_type": "code",
   "execution_count": 81,
   "metadata": {},
   "outputs": [
    {
     "data": {
      "text/plain": [
       "Ttest_indResult(statistic=6.232038413295282, pvalue=6.003185843641377e-10)"
      ]
     },
     "execution_count": 81,
     "metadata": {},
     "output_type": "execute_result"
    }
   ],
   "source": [
    "ttest_ind(cat1['YearsInCurrentRole'], cat2['YearsInCurrentRole'])\n",
    "#There is significant association between YearsInCurrentRole and Attrition"
   ]
  },
  {
   "cell_type": "markdown",
   "metadata": {},
   "source": [
    "# Attrition VS YearsSinceLastPromotion"
   ]
  },
  {
   "cell_type": "code",
   "execution_count": 82,
   "metadata": {},
   "outputs": [
    {
     "data": {
      "text/plain": [
       "Ttest_indResult(statistic=1.2657876620135298, pvalue=0.2057899591624936)"
      ]
     },
     "execution_count": 82,
     "metadata": {},
     "output_type": "execute_result"
    }
   ],
   "source": [
    "ttest_ind(cat1['YearsSinceLastPromotion'], cat2['YearsSinceLastPromotion'])\n",
    "#There is no significant association between YearsSinceLastPromotion and Attrition"
   ]
  },
  {
   "cell_type": "markdown",
   "metadata": {},
   "source": [
    "# Attrition VS YearsWithCurrManager"
   ]
  },
  {
   "cell_type": "code",
   "execution_count": 83,
   "metadata": {},
   "outputs": [
    {
     "data": {
      "text/plain": [
       "Ttest_indResult(statistic=6.059068531868998, pvalue=1.7369867845242207e-09)"
      ]
     },
     "execution_count": 83,
     "metadata": {},
     "output_type": "execute_result"
    }
   ],
   "source": [
    "ttest_ind(cat1['YearsWithCurrManager'], cat2['YearsWithCurrManager'])\n",
    "#There is significant association between YearsWithCurrManager and Attrition"
   ]
  },
  {
   "cell_type": "markdown",
   "metadata": {},
   "source": [
    "# Attrition VS YearsInCurrentRole"
   ]
  },
  {
   "cell_type": "code",
   "execution_count": 84,
   "metadata": {},
   "outputs": [
    {
     "data": {
      "text/plain": [
       "Ttest_indResult(statistic=6.232038413295282, pvalue=6.003185843641377e-10)"
      ]
     },
     "execution_count": 84,
     "metadata": {},
     "output_type": "execute_result"
    }
   ],
   "source": [
    "ttest_ind(cat1['YearsInCurrentRole'], cat2['YearsInCurrentRole'])\n",
    "#There is significant association between YearsWithCurrManager and Attrition"
   ]
  },
  {
   "cell_type": "markdown",
   "metadata": {},
   "source": [
    "\n",
    "# Model Building\n",
    "\n",
    "#Splitting depedent and independent variable and Creating dummies"
   ]
  },
  {
   "cell_type": "code",
   "execution_count": 85,
   "metadata": {},
   "outputs": [],
   "source": [
    "y=HR_Attrition.iloc[:,:-34]\n",
    "x=HR_Attrition.iloc[:,1:35]"
   ]
  },
  {
   "cell_type": "code",
   "execution_count": 86,
   "metadata": {},
   "outputs": [
    {
     "data": {
      "text/html": [
       "<div>\n",
       "<style scoped>\n",
       "    .dataframe tbody tr th:only-of-type {\n",
       "        vertical-align: middle;\n",
       "    }\n",
       "\n",
       "    .dataframe tbody tr th {\n",
       "        vertical-align: top;\n",
       "    }\n",
       "\n",
       "    .dataframe thead th {\n",
       "        text-align: right;\n",
       "    }\n",
       "</style>\n",
       "<table border=\"1\" class=\"dataframe\">\n",
       "  <thead>\n",
       "    <tr style=\"text-align: right;\">\n",
       "      <th></th>\n",
       "      <th>Attrition</th>\n",
       "    </tr>\n",
       "  </thead>\n",
       "  <tbody>\n",
       "    <tr>\n",
       "      <td>0</td>\n",
       "      <td>1</td>\n",
       "    </tr>\n",
       "    <tr>\n",
       "      <td>1</td>\n",
       "      <td>0</td>\n",
       "    </tr>\n",
       "    <tr>\n",
       "      <td>2</td>\n",
       "      <td>1</td>\n",
       "    </tr>\n",
       "    <tr>\n",
       "      <td>3</td>\n",
       "      <td>0</td>\n",
       "    </tr>\n",
       "    <tr>\n",
       "      <td>4</td>\n",
       "      <td>0</td>\n",
       "    </tr>\n",
       "  </tbody>\n",
       "</table>\n",
       "</div>"
      ],
      "text/plain": [
       "   Attrition\n",
       "0          1\n",
       "1          0\n",
       "2          1\n",
       "3          0\n",
       "4          0"
      ]
     },
     "execution_count": 86,
     "metadata": {},
     "output_type": "execute_result"
    }
   ],
   "source": [
    "y.head()"
   ]
  },
  {
   "cell_type": "code",
   "execution_count": 87,
   "metadata": {},
   "outputs": [
    {
     "data": {
      "text/html": [
       "<div>\n",
       "<style scoped>\n",
       "    .dataframe tbody tr th:only-of-type {\n",
       "        vertical-align: middle;\n",
       "    }\n",
       "\n",
       "    .dataframe tbody tr th {\n",
       "        vertical-align: top;\n",
       "    }\n",
       "\n",
       "    .dataframe thead th {\n",
       "        text-align: right;\n",
       "    }\n",
       "</style>\n",
       "<table border=\"1\" class=\"dataframe\">\n",
       "  <thead>\n",
       "    <tr style=\"text-align: right;\">\n",
       "      <th></th>\n",
       "      <th>Age</th>\n",
       "      <th>BusinessTravel</th>\n",
       "      <th>DailyRate</th>\n",
       "      <th>Department</th>\n",
       "      <th>DistanceFromHome</th>\n",
       "      <th>Education</th>\n",
       "      <th>EducationField</th>\n",
       "      <th>EmployeeCount</th>\n",
       "      <th>EmployeeNumber</th>\n",
       "      <th>EnvironmentSatisfaction</th>\n",
       "      <th>...</th>\n",
       "      <th>RelationshipSatisfaction</th>\n",
       "      <th>StandardHours</th>\n",
       "      <th>StockOptionLevel</th>\n",
       "      <th>TotalWorkingYears</th>\n",
       "      <th>TrainingTimesLastYear</th>\n",
       "      <th>WorkLifeBalance</th>\n",
       "      <th>YearsAtCompany</th>\n",
       "      <th>YearsInCurrentRole</th>\n",
       "      <th>YearsSinceLastPromotion</th>\n",
       "      <th>YearsWithCurrManager</th>\n",
       "    </tr>\n",
       "  </thead>\n",
       "  <tbody>\n",
       "    <tr>\n",
       "      <td>0</td>\n",
       "      <td>41</td>\n",
       "      <td>Travel_Rarely</td>\n",
       "      <td>1102</td>\n",
       "      <td>Sales</td>\n",
       "      <td>1</td>\n",
       "      <td>2</td>\n",
       "      <td>Life Sciences</td>\n",
       "      <td>1</td>\n",
       "      <td>1</td>\n",
       "      <td>2</td>\n",
       "      <td>...</td>\n",
       "      <td>1</td>\n",
       "      <td>80</td>\n",
       "      <td>0</td>\n",
       "      <td>8</td>\n",
       "      <td>0</td>\n",
       "      <td>1</td>\n",
       "      <td>6</td>\n",
       "      <td>4</td>\n",
       "      <td>0</td>\n",
       "      <td>5</td>\n",
       "    </tr>\n",
       "    <tr>\n",
       "      <td>1</td>\n",
       "      <td>49</td>\n",
       "      <td>Travel_Frequently</td>\n",
       "      <td>279</td>\n",
       "      <td>Research &amp; Development</td>\n",
       "      <td>8</td>\n",
       "      <td>1</td>\n",
       "      <td>Life Sciences</td>\n",
       "      <td>1</td>\n",
       "      <td>2</td>\n",
       "      <td>3</td>\n",
       "      <td>...</td>\n",
       "      <td>4</td>\n",
       "      <td>80</td>\n",
       "      <td>1</td>\n",
       "      <td>10</td>\n",
       "      <td>3</td>\n",
       "      <td>3</td>\n",
       "      <td>10</td>\n",
       "      <td>7</td>\n",
       "      <td>1</td>\n",
       "      <td>7</td>\n",
       "    </tr>\n",
       "    <tr>\n",
       "      <td>2</td>\n",
       "      <td>37</td>\n",
       "      <td>Travel_Rarely</td>\n",
       "      <td>1373</td>\n",
       "      <td>Research &amp; Development</td>\n",
       "      <td>2</td>\n",
       "      <td>2</td>\n",
       "      <td>Other</td>\n",
       "      <td>1</td>\n",
       "      <td>4</td>\n",
       "      <td>4</td>\n",
       "      <td>...</td>\n",
       "      <td>2</td>\n",
       "      <td>80</td>\n",
       "      <td>0</td>\n",
       "      <td>7</td>\n",
       "      <td>3</td>\n",
       "      <td>3</td>\n",
       "      <td>0</td>\n",
       "      <td>0</td>\n",
       "      <td>0</td>\n",
       "      <td>0</td>\n",
       "    </tr>\n",
       "    <tr>\n",
       "      <td>3</td>\n",
       "      <td>33</td>\n",
       "      <td>Travel_Frequently</td>\n",
       "      <td>1392</td>\n",
       "      <td>Research &amp; Development</td>\n",
       "      <td>3</td>\n",
       "      <td>4</td>\n",
       "      <td>Life Sciences</td>\n",
       "      <td>1</td>\n",
       "      <td>5</td>\n",
       "      <td>4</td>\n",
       "      <td>...</td>\n",
       "      <td>3</td>\n",
       "      <td>80</td>\n",
       "      <td>0</td>\n",
       "      <td>8</td>\n",
       "      <td>3</td>\n",
       "      <td>3</td>\n",
       "      <td>8</td>\n",
       "      <td>7</td>\n",
       "      <td>3</td>\n",
       "      <td>0</td>\n",
       "    </tr>\n",
       "    <tr>\n",
       "      <td>4</td>\n",
       "      <td>27</td>\n",
       "      <td>Travel_Rarely</td>\n",
       "      <td>591</td>\n",
       "      <td>Research &amp; Development</td>\n",
       "      <td>2</td>\n",
       "      <td>1</td>\n",
       "      <td>Medical</td>\n",
       "      <td>1</td>\n",
       "      <td>7</td>\n",
       "      <td>1</td>\n",
       "      <td>...</td>\n",
       "      <td>4</td>\n",
       "      <td>80</td>\n",
       "      <td>1</td>\n",
       "      <td>6</td>\n",
       "      <td>3</td>\n",
       "      <td>3</td>\n",
       "      <td>2</td>\n",
       "      <td>2</td>\n",
       "      <td>2</td>\n",
       "      <td>2</td>\n",
       "    </tr>\n",
       "  </tbody>\n",
       "</table>\n",
       "<p>5 rows × 34 columns</p>\n",
       "</div>"
      ],
      "text/plain": [
       "   Age     BusinessTravel  DailyRate              Department  \\\n",
       "0   41      Travel_Rarely       1102                   Sales   \n",
       "1   49  Travel_Frequently        279  Research & Development   \n",
       "2   37      Travel_Rarely       1373  Research & Development   \n",
       "3   33  Travel_Frequently       1392  Research & Development   \n",
       "4   27      Travel_Rarely        591  Research & Development   \n",
       "\n",
       "   DistanceFromHome  Education EducationField  EmployeeCount  EmployeeNumber  \\\n",
       "0                 1          2  Life Sciences              1               1   \n",
       "1                 8          1  Life Sciences              1               2   \n",
       "2                 2          2          Other              1               4   \n",
       "3                 3          4  Life Sciences              1               5   \n",
       "4                 2          1        Medical              1               7   \n",
       "\n",
       "   EnvironmentSatisfaction  ... RelationshipSatisfaction  StandardHours  \\\n",
       "0                        2  ...                        1             80   \n",
       "1                        3  ...                        4             80   \n",
       "2                        4  ...                        2             80   \n",
       "3                        4  ...                        3             80   \n",
       "4                        1  ...                        4             80   \n",
       "\n",
       "   StockOptionLevel  TotalWorkingYears TrainingTimesLastYear  WorkLifeBalance  \\\n",
       "0                 0                  8                     0                1   \n",
       "1                 1                 10                     3                3   \n",
       "2                 0                  7                     3                3   \n",
       "3                 0                  8                     3                3   \n",
       "4                 1                  6                     3                3   \n",
       "\n",
       "  YearsAtCompany  YearsInCurrentRole  YearsSinceLastPromotion  \\\n",
       "0              6                   4                        0   \n",
       "1             10                   7                        1   \n",
       "2              0                   0                        0   \n",
       "3              8                   7                        3   \n",
       "4              2                   2                        2   \n",
       "\n",
       "   YearsWithCurrManager  \n",
       "0                     5  \n",
       "1                     7  \n",
       "2                     0  \n",
       "3                     0  \n",
       "4                     2  \n",
       "\n",
       "[5 rows x 34 columns]"
      ]
     },
     "execution_count": 87,
     "metadata": {},
     "output_type": "execute_result"
    }
   ],
   "source": [
    "x.head()"
   ]
  },
  {
   "cell_type": "code",
   "execution_count": 88,
   "metadata": {},
   "outputs": [],
   "source": [
    "x.drop(['Education','EmployeeCount','EmployeeNumber', 'Gender','HourlyRate','MonthlyRate','NumCompaniesWorked','Over18','PercentSalaryHike','PerformanceRating','RelationshipSatisfaction','StandardHours','YearsSinceLastPromotion'],axis=1,inplace=True)"
   ]
  },
  {
   "cell_type": "code",
   "execution_count": 89,
   "metadata": {},
   "outputs": [],
   "source": [
    "x2 = pd.get_dummies(x, columns=['BusinessTravel','OverTime','Department','EducationField','EnvironmentSatisfaction','JobInvolvement','JobLevel','JobRole','JobSatisfaction','MaritalStatus','StockOptionLevel','WorkLifeBalance'])"
   ]
  },
  {
   "cell_type": "code",
   "execution_count": 90,
   "metadata": {},
   "outputs": [],
   "source": [
    "#take (n-1) number of dummy variables where n is the number of levels in the categorical column\n",
    "x2.drop(['BusinessTravel_Non-Travel'],axis=1,inplace=True)\n",
    "x2.drop(['Department_Sales'],axis=1,inplace=True)\n",
    "x2.drop(['EducationField_Other'],axis=1,inplace=True)\n",
    "x2.drop(['EnvironmentSatisfaction_1'],axis=1,inplace=True)\n",
    "x2.drop(['JobInvolvement_1'],axis=1,inplace=True)\n",
    "x2.drop(['JobLevel_1'],axis=1,inplace=True)\n",
    "x2.drop(['JobRole_Healthcare Representative'],axis=1,inplace=True)\n",
    "x2.drop(['JobSatisfaction_1'],axis=1,inplace=True)\n",
    "x2.drop(['MaritalStatus_Divorced'],axis=1,inplace=True)\n",
    "x2.drop(['StockOptionLevel_0'],axis=1,inplace=True)\n",
    "x2.drop(['WorkLifeBalance_1'],axis=1,inplace=True)\n",
    "x2.drop(['OverTime_No'],axis=1,inplace=True)\n"
   ]
  },
  {
   "cell_type": "markdown",
   "metadata": {},
   "source": [
    "# Spliting Train and Test Data Set"
   ]
  },
  {
   "cell_type": "code",
   "execution_count": 91,
   "metadata": {},
   "outputs": [],
   "source": [
    "from sklearn.model_selection import train_test_split\n",
    "x_train, x_test, y_train, y_test=train_test_split(x2,y,test_size=0.2,random_state=11)"
   ]
  },
  {
   "cell_type": "code",
   "execution_count": 92,
   "metadata": {},
   "outputs": [
    {
     "data": {
      "text/plain": [
       "0    0.839286\n",
       "1    0.160714\n",
       "Name: Attrition, dtype: float64"
      ]
     },
     "execution_count": 92,
     "metadata": {},
     "output_type": "execute_result"
    }
   ],
   "source": [
    "y_train.Attrition.value_counts(normalize=True) "
   ]
  },
  {
   "cell_type": "code",
   "execution_count": 93,
   "metadata": {},
   "outputs": [
    {
     "data": {
      "text/plain": [
       "0    0.836735\n",
       "1    0.163265\n",
       "Name: Attrition, dtype: float64"
      ]
     },
     "execution_count": 93,
     "metadata": {},
     "output_type": "execute_result"
    }
   ],
   "source": [
    "y_test.Attrition.value_counts(normalize=True) "
   ]
  },
  {
   "cell_type": "markdown",
   "metadata": {},
   "source": [
    "# Logistic Regression Model"
   ]
  },
  {
   "cell_type": "code",
   "execution_count": 94,
   "metadata": {},
   "outputs": [],
   "source": [
    "# train a logistic regression model on the training set\n",
    "#from sklearn.linear_model import LogisticRegression\n",
    "#logreg = LogisticRegression()\n",
    "#logreg.fit(x_train, y_train)"
   ]
  },
  {
   "cell_type": "code",
   "execution_count": 95,
   "metadata": {},
   "outputs": [
    {
     "name": "stdout",
     "output_type": "stream",
     "text": [
      "Warning: Maximum number of iterations has been exceeded.\n",
      "         Current function value: 0.282175\n",
      "         Iterations: 35\n"
     ]
    },
    {
     "name": "stderr",
     "output_type": "stream",
     "text": [
      "C:\\Python\\Anaconda3\\lib\\site-packages\\statsmodels\\base\\model.py:512: ConvergenceWarning: Maximum Likelihood optimization failed to converge. Check mle_retvals\n",
      "  \"Check mle_retvals\", ConvergenceWarning)\n"
     ]
    }
   ],
   "source": [
    "model=sm.Logit(y_train,x_train)\n",
    "result=model.fit()"
   ]
  },
  {
   "cell_type": "code",
   "execution_count": 96,
   "metadata": {},
   "outputs": [
    {
     "data": {
      "text/html": [
       "<table class=\"simpletable\">\n",
       "<caption>Logit Regression Results</caption>\n",
       "<tr>\n",
       "  <th>Dep. Variable:</th>       <td>Attrition</td>    <th>  No. Observations:  </th>  <td>  1176</td>  \n",
       "</tr>\n",
       "<tr>\n",
       "  <th>Model:</th>                 <td>Logit</td>      <th>  Df Residuals:      </th>  <td>  1128</td>  \n",
       "</tr>\n",
       "<tr>\n",
       "  <th>Method:</th>                 <td>MLE</td>       <th>  Df Model:          </th>  <td>    47</td>  \n",
       "</tr>\n",
       "<tr>\n",
       "  <th>Date:</th>            <td>Thu, 28 May 2020</td> <th>  Pseudo R-squ.:     </th>  <td>0.3599</td>  \n",
       "</tr>\n",
       "<tr>\n",
       "  <th>Time:</th>                <td>14:22:36</td>     <th>  Log-Likelihood:    </th> <td> -331.84</td> \n",
       "</tr>\n",
       "<tr>\n",
       "  <th>converged:</th>             <td>False</td>      <th>  LL-Null:           </th> <td> -518.44</td> \n",
       "</tr>\n",
       "<tr>\n",
       "  <th>Covariance Type:</th>     <td>nonrobust</td>    <th>  LLR p-value:       </th> <td>2.402e-52</td>\n",
       "</tr>\n",
       "</table>\n",
       "<table class=\"simpletable\">\n",
       "<tr>\n",
       "                  <td></td>                     <th>coef</th>     <th>std err</th>      <th>z</th>      <th>P>|z|</th>  <th>[0.025</th>    <th>0.975]</th>  \n",
       "</tr>\n",
       "<tr>\n",
       "  <th>Age</th>                               <td>   -0.0007</td> <td>    0.014</td> <td>   -0.050</td> <td> 0.960</td> <td>   -0.029</td> <td>    0.027</td>\n",
       "</tr>\n",
       "<tr>\n",
       "  <th>DailyRate</th>                         <td>   -0.0006</td> <td>    0.000</td> <td>   -2.367</td> <td> 0.018</td> <td>   -0.001</td> <td>   -0.000</td>\n",
       "</tr>\n",
       "<tr>\n",
       "  <th>DistanceFromHome</th>                  <td>    0.0559</td> <td>    0.012</td> <td>    4.533</td> <td> 0.000</td> <td>    0.032</td> <td>    0.080</td>\n",
       "</tr>\n",
       "<tr>\n",
       "  <th>MonthlyIncome</th>                     <td>-9.644e-05</td> <td> 9.81e-05</td> <td>   -0.983</td> <td> 0.326</td> <td>   -0.000</td> <td> 9.58e-05</td>\n",
       "</tr>\n",
       "<tr>\n",
       "  <th>TotalWorkingYears</th>                 <td>   -0.0399</td> <td>    0.031</td> <td>   -1.288</td> <td> 0.198</td> <td>   -0.101</td> <td>    0.021</td>\n",
       "</tr>\n",
       "<tr>\n",
       "  <th>TrainingTimesLastYear</th>             <td>   -0.1813</td> <td>    0.085</td> <td>   -2.145</td> <td> 0.032</td> <td>   -0.347</td> <td>   -0.016</td>\n",
       "</tr>\n",
       "<tr>\n",
       "  <th>YearsAtCompany</th>                    <td>    0.0823</td> <td>    0.042</td> <td>    1.953</td> <td> 0.051</td> <td>   -0.000</td> <td>    0.165</td>\n",
       "</tr>\n",
       "<tr>\n",
       "  <th>YearsInCurrentRole</th>                <td>   -0.0674</td> <td>    0.057</td> <td>   -1.190</td> <td> 0.234</td> <td>   -0.178</td> <td>    0.044</td>\n",
       "</tr>\n",
       "<tr>\n",
       "  <th>YearsWithCurrManager</th>              <td>   -0.1323</td> <td>    0.054</td> <td>   -2.449</td> <td> 0.014</td> <td>   -0.238</td> <td>   -0.026</td>\n",
       "</tr>\n",
       "<tr>\n",
       "  <th>BusinessTravel_Travel_Frequently</th>  <td>    1.9680</td> <td>    0.477</td> <td>    4.130</td> <td> 0.000</td> <td>    1.034</td> <td>    2.902</td>\n",
       "</tr>\n",
       "<tr>\n",
       "  <th>BusinessTravel_Travel_Rarely</th>      <td>    0.9966</td> <td>    0.441</td> <td>    2.260</td> <td> 0.024</td> <td>    0.132</td> <td>    1.861</td>\n",
       "</tr>\n",
       "<tr>\n",
       "  <th>OverTime_Yes</th>                      <td>    2.0428</td> <td>    0.224</td> <td>    9.109</td> <td> 0.000</td> <td>    1.603</td> <td>    2.482</td>\n",
       "</tr>\n",
       "<tr>\n",
       "  <th>Department_Human Resources</th>        <td>  -28.0879</td> <td> 1.92e+06</td> <td>-1.47e-05</td> <td> 1.000</td> <td>-3.76e+06</td> <td> 3.76e+06</td>\n",
       "</tr>\n",
       "<tr>\n",
       "  <th>Department_Research & Development</th> <td>    1.8217</td> <td>    1.019</td> <td>    1.787</td> <td> 0.074</td> <td>   -0.176</td> <td>    3.820</td>\n",
       "</tr>\n",
       "<tr>\n",
       "  <th>EducationField_Human Resources</th>    <td>    2.0089</td> <td>    1.050</td> <td>    1.913</td> <td> 0.056</td> <td>   -0.050</td> <td>    4.068</td>\n",
       "</tr>\n",
       "<tr>\n",
       "  <th>EducationField_Life Sciences</th>      <td>    0.2479</td> <td>    0.481</td> <td>    0.515</td> <td> 0.606</td> <td>   -0.695</td> <td>    1.191</td>\n",
       "</tr>\n",
       "<tr>\n",
       "  <th>EducationField_Marketing</th>          <td>    0.4540</td> <td>    0.564</td> <td>    0.805</td> <td> 0.421</td> <td>   -0.652</td> <td>    1.560</td>\n",
       "</tr>\n",
       "<tr>\n",
       "  <th>EducationField_Medical</th>            <td>    0.1201</td> <td>    0.493</td> <td>    0.244</td> <td> 0.807</td> <td>   -0.845</td> <td>    1.086</td>\n",
       "</tr>\n",
       "<tr>\n",
       "  <th>EducationField_Technical Degree</th>   <td>    1.4953</td> <td>    0.547</td> <td>    2.736</td> <td> 0.006</td> <td>    0.424</td> <td>    2.566</td>\n",
       "</tr>\n",
       "<tr>\n",
       "  <th>EnvironmentSatisfaction_2</th>         <td>   -0.8731</td> <td>    0.312</td> <td>   -2.798</td> <td> 0.005</td> <td>   -1.485</td> <td>   -0.261</td>\n",
       "</tr>\n",
       "<tr>\n",
       "  <th>EnvironmentSatisfaction_3</th>         <td>   -1.1223</td> <td>    0.300</td> <td>   -3.744</td> <td> 0.000</td> <td>   -1.710</td> <td>   -0.535</td>\n",
       "</tr>\n",
       "<tr>\n",
       "  <th>EnvironmentSatisfaction_4</th>         <td>   -1.1503</td> <td>    0.294</td> <td>   -3.912</td> <td> 0.000</td> <td>   -1.727</td> <td>   -0.574</td>\n",
       "</tr>\n",
       "<tr>\n",
       "  <th>JobInvolvement_2</th>                  <td>   -1.1794</td> <td>    0.394</td> <td>   -2.990</td> <td> 0.003</td> <td>   -1.953</td> <td>   -0.406</td>\n",
       "</tr>\n",
       "<tr>\n",
       "  <th>JobInvolvement_3</th>                  <td>   -1.3487</td> <td>    0.366</td> <td>   -3.680</td> <td> 0.000</td> <td>   -2.067</td> <td>   -0.630</td>\n",
       "</tr>\n",
       "<tr>\n",
       "  <th>JobInvolvement_4</th>                  <td>   -1.9423</td> <td>    0.517</td> <td>   -3.755</td> <td> 0.000</td> <td>   -2.956</td> <td>   -0.929</td>\n",
       "</tr>\n",
       "<tr>\n",
       "  <th>JobLevel_2</th>                        <td>   -1.5768</td> <td>    0.504</td> <td>   -3.126</td> <td> 0.002</td> <td>   -2.565</td> <td>   -0.588</td>\n",
       "</tr>\n",
       "<tr>\n",
       "  <th>JobLevel_3</th>                        <td>   -0.1648</td> <td>    0.767</td> <td>   -0.215</td> <td> 0.830</td> <td>   -1.668</td> <td>    1.339</td>\n",
       "</tr>\n",
       "<tr>\n",
       "  <th>JobLevel_4</th>                        <td>   -0.5948</td> <td>    1.337</td> <td>   -0.445</td> <td> 0.656</td> <td>   -3.215</td> <td>    2.025</td>\n",
       "</tr>\n",
       "<tr>\n",
       "  <th>JobLevel_5</th>                        <td>    2.0059</td> <td>    1.720</td> <td>    1.166</td> <td> 0.244</td> <td>   -1.365</td> <td>    5.377</td>\n",
       "</tr>\n",
       "<tr>\n",
       "  <th>JobRole_Human Resources</th>           <td>   29.8384</td> <td> 1.92e+06</td> <td> 1.56e-05</td> <td> 1.000</td> <td>-3.76e+06</td> <td> 3.76e+06</td>\n",
       "</tr>\n",
       "<tr>\n",
       "  <th>JobRole_Laboratory Technician</th>     <td>    0.4090</td> <td>    0.617</td> <td>    0.663</td> <td> 0.507</td> <td>   -0.800</td> <td>    1.618</td>\n",
       "</tr>\n",
       "<tr>\n",
       "  <th>JobRole_Manager</th>                   <td>   -0.2071</td> <td>    1.129</td> <td>   -0.184</td> <td> 0.854</td> <td>   -2.419</td> <td>    2.005</td>\n",
       "</tr>\n",
       "<tr>\n",
       "  <th>JobRole_Manufacturing Director</th>    <td>   -0.2375</td> <td>    0.612</td> <td>   -0.388</td> <td> 0.698</td> <td>   -1.437</td> <td>    0.962</td>\n",
       "</tr>\n",
       "<tr>\n",
       "  <th>JobRole_Research Director</th>         <td>   -2.0207</td> <td>    1.130</td> <td>   -1.788</td> <td> 0.074</td> <td>   -4.236</td> <td>    0.195</td>\n",
       "</tr>\n",
       "<tr>\n",
       "  <th>JobRole_Research Scientist</th>        <td>   -0.6929</td> <td>    0.634</td> <td>   -1.092</td> <td> 0.275</td> <td>   -1.936</td> <td>    0.551</td>\n",
       "</tr>\n",
       "<tr>\n",
       "  <th>JobRole_Sales Executive</th>           <td>    3.2152</td> <td>    1.010</td> <td>    3.182</td> <td> 0.001</td> <td>    1.235</td> <td>    5.196</td>\n",
       "</tr>\n",
       "<tr>\n",
       "  <th>JobRole_Sales Representative</th>      <td>    2.7154</td> <td>    0.976</td> <td>    2.783</td> <td> 0.005</td> <td>    0.803</td> <td>    4.628</td>\n",
       "</tr>\n",
       "<tr>\n",
       "  <th>JobSatisfaction_2</th>                 <td>   -0.7461</td> <td>    0.324</td> <td>   -2.303</td> <td> 0.021</td> <td>   -1.381</td> <td>   -0.111</td>\n",
       "</tr>\n",
       "<tr>\n",
       "  <th>JobSatisfaction_3</th>                 <td>   -0.6230</td> <td>    0.275</td> <td>   -2.267</td> <td> 0.023</td> <td>   -1.162</td> <td>   -0.084</td>\n",
       "</tr>\n",
       "<tr>\n",
       "  <th>JobSatisfaction_4</th>                 <td>   -1.2518</td> <td>    0.293</td> <td>   -4.277</td> <td> 0.000</td> <td>   -1.825</td> <td>   -0.678</td>\n",
       "</tr>\n",
       "<tr>\n",
       "  <th>MaritalStatus_Married</th>             <td>    0.2503</td> <td>    0.314</td> <td>    0.797</td> <td> 0.425</td> <td>   -0.365</td> <td>    0.866</td>\n",
       "</tr>\n",
       "<tr>\n",
       "  <th>MaritalStatus_Single</th>              <td>    0.4347</td> <td>    0.445</td> <td>    0.977</td> <td> 0.329</td> <td>   -0.438</td> <td>    1.307</td>\n",
       "</tr>\n",
       "<tr>\n",
       "  <th>StockOptionLevel_1</th>                <td>   -1.2859</td> <td>    0.353</td> <td>   -3.641</td> <td> 0.000</td> <td>   -1.978</td> <td>   -0.594</td>\n",
       "</tr>\n",
       "<tr>\n",
       "  <th>StockOptionLevel_2</th>                <td>   -1.1613</td> <td>    0.494</td> <td>   -2.351</td> <td> 0.019</td> <td>   -2.130</td> <td>   -0.193</td>\n",
       "</tr>\n",
       "<tr>\n",
       "  <th>StockOptionLevel_3</th>                <td>   -0.2803</td> <td>    0.496</td> <td>   -0.565</td> <td> 0.572</td> <td>   -1.253</td> <td>    0.692</td>\n",
       "</tr>\n",
       "<tr>\n",
       "  <th>WorkLifeBalance_2</th>                 <td>   -0.7316</td> <td>    0.428</td> <td>   -1.710</td> <td> 0.087</td> <td>   -1.570</td> <td>    0.107</td>\n",
       "</tr>\n",
       "<tr>\n",
       "  <th>WorkLifeBalance_3</th>                 <td>   -1.3363</td> <td>    0.411</td> <td>   -3.255</td> <td> 0.001</td> <td>   -2.141</td> <td>   -0.532</td>\n",
       "</tr>\n",
       "<tr>\n",
       "  <th>WorkLifeBalance_4</th>                 <td>   -0.7449</td> <td>    0.500</td> <td>   -1.490</td> <td> 0.136</td> <td>   -1.725</td> <td>    0.235</td>\n",
       "</tr>\n",
       "</table>"
      ],
      "text/plain": [
       "<class 'statsmodels.iolib.summary.Summary'>\n",
       "\"\"\"\n",
       "                           Logit Regression Results                           \n",
       "==============================================================================\n",
       "Dep. Variable:              Attrition   No. Observations:                 1176\n",
       "Model:                          Logit   Df Residuals:                     1128\n",
       "Method:                           MLE   Df Model:                           47\n",
       "Date:                Thu, 28 May 2020   Pseudo R-squ.:                  0.3599\n",
       "Time:                        14:22:36   Log-Likelihood:                -331.84\n",
       "converged:                      False   LL-Null:                       -518.44\n",
       "Covariance Type:            nonrobust   LLR p-value:                 2.402e-52\n",
       "=====================================================================================================\n",
       "                                        coef    std err          z      P>|z|      [0.025      0.975]\n",
       "-----------------------------------------------------------------------------------------------------\n",
       "Age                                  -0.0007      0.014     -0.050      0.960      -0.029       0.027\n",
       "DailyRate                            -0.0006      0.000     -2.367      0.018      -0.001      -0.000\n",
       "DistanceFromHome                      0.0559      0.012      4.533      0.000       0.032       0.080\n",
       "MonthlyIncome                     -9.644e-05   9.81e-05     -0.983      0.326      -0.000    9.58e-05\n",
       "TotalWorkingYears                    -0.0399      0.031     -1.288      0.198      -0.101       0.021\n",
       "TrainingTimesLastYear                -0.1813      0.085     -2.145      0.032      -0.347      -0.016\n",
       "YearsAtCompany                        0.0823      0.042      1.953      0.051      -0.000       0.165\n",
       "YearsInCurrentRole                   -0.0674      0.057     -1.190      0.234      -0.178       0.044\n",
       "YearsWithCurrManager                 -0.1323      0.054     -2.449      0.014      -0.238      -0.026\n",
       "BusinessTravel_Travel_Frequently      1.9680      0.477      4.130      0.000       1.034       2.902\n",
       "BusinessTravel_Travel_Rarely          0.9966      0.441      2.260      0.024       0.132       1.861\n",
       "OverTime_Yes                          2.0428      0.224      9.109      0.000       1.603       2.482\n",
       "Department_Human Resources          -28.0879   1.92e+06  -1.47e-05      1.000   -3.76e+06    3.76e+06\n",
       "Department_Research & Development     1.8217      1.019      1.787      0.074      -0.176       3.820\n",
       "EducationField_Human Resources        2.0089      1.050      1.913      0.056      -0.050       4.068\n",
       "EducationField_Life Sciences          0.2479      0.481      0.515      0.606      -0.695       1.191\n",
       "EducationField_Marketing              0.4540      0.564      0.805      0.421      -0.652       1.560\n",
       "EducationField_Medical                0.1201      0.493      0.244      0.807      -0.845       1.086\n",
       "EducationField_Technical Degree       1.4953      0.547      2.736      0.006       0.424       2.566\n",
       "EnvironmentSatisfaction_2            -0.8731      0.312     -2.798      0.005      -1.485      -0.261\n",
       "EnvironmentSatisfaction_3            -1.1223      0.300     -3.744      0.000      -1.710      -0.535\n",
       "EnvironmentSatisfaction_4            -1.1503      0.294     -3.912      0.000      -1.727      -0.574\n",
       "JobInvolvement_2                     -1.1794      0.394     -2.990      0.003      -1.953      -0.406\n",
       "JobInvolvement_3                     -1.3487      0.366     -3.680      0.000      -2.067      -0.630\n",
       "JobInvolvement_4                     -1.9423      0.517     -3.755      0.000      -2.956      -0.929\n",
       "JobLevel_2                           -1.5768      0.504     -3.126      0.002      -2.565      -0.588\n",
       "JobLevel_3                           -0.1648      0.767     -0.215      0.830      -1.668       1.339\n",
       "JobLevel_4                           -0.5948      1.337     -0.445      0.656      -3.215       2.025\n",
       "JobLevel_5                            2.0059      1.720      1.166      0.244      -1.365       5.377\n",
       "JobRole_Human Resources              29.8384   1.92e+06   1.56e-05      1.000   -3.76e+06    3.76e+06\n",
       "JobRole_Laboratory Technician         0.4090      0.617      0.663      0.507      -0.800       1.618\n",
       "JobRole_Manager                      -0.2071      1.129     -0.184      0.854      -2.419       2.005\n",
       "JobRole_Manufacturing Director       -0.2375      0.612     -0.388      0.698      -1.437       0.962\n",
       "JobRole_Research Director            -2.0207      1.130     -1.788      0.074      -4.236       0.195\n",
       "JobRole_Research Scientist           -0.6929      0.634     -1.092      0.275      -1.936       0.551\n",
       "JobRole_Sales Executive               3.2152      1.010      3.182      0.001       1.235       5.196\n",
       "JobRole_Sales Representative          2.7154      0.976      2.783      0.005       0.803       4.628\n",
       "JobSatisfaction_2                    -0.7461      0.324     -2.303      0.021      -1.381      -0.111\n",
       "JobSatisfaction_3                    -0.6230      0.275     -2.267      0.023      -1.162      -0.084\n",
       "JobSatisfaction_4                    -1.2518      0.293     -4.277      0.000      -1.825      -0.678\n",
       "MaritalStatus_Married                 0.2503      0.314      0.797      0.425      -0.365       0.866\n",
       "MaritalStatus_Single                  0.4347      0.445      0.977      0.329      -0.438       1.307\n",
       "StockOptionLevel_1                   -1.2859      0.353     -3.641      0.000      -1.978      -0.594\n",
       "StockOptionLevel_2                   -1.1613      0.494     -2.351      0.019      -2.130      -0.193\n",
       "StockOptionLevel_3                   -0.2803      0.496     -0.565      0.572      -1.253       0.692\n",
       "WorkLifeBalance_2                    -0.7316      0.428     -1.710      0.087      -1.570       0.107\n",
       "WorkLifeBalance_3                    -1.3363      0.411     -3.255      0.001      -2.141      -0.532\n",
       "WorkLifeBalance_4                    -0.7449      0.500     -1.490      0.136      -1.725       0.235\n",
       "=====================================================================================================\n",
       "\"\"\""
      ]
     },
     "execution_count": 96,
     "metadata": {},
     "output_type": "execute_result"
    }
   ],
   "source": [
    "result.summary()"
   ]
  },
  {
   "cell_type": "code",
   "execution_count": 97,
   "metadata": {},
   "outputs": [],
   "source": [
    "# Again check for p-value, drop if p-value is greater than 0.05 and rerun the model\n",
    "x2.drop(['Age'],axis=1,inplace=True)\n",
    "x2.drop(['MonthlyIncome'],axis=1,inplace=True)\n",
    "x2.drop(['TotalWorkingYears'],axis=1,inplace=True)\n",
    "x2.drop(['YearsInCurrentRole'],axis=1,inplace=True)\n",
    "x2.drop(['YearsAtCompany'],axis=1,inplace=True)\n",
    "x2.drop(['Department_Human Resources'],axis=1,inplace=True)\n",
    "x2.drop(['Department_Research & Development'],axis=1,inplace=True)\n",
    "x2.drop(['EducationField_Human Resources'],axis=1,inplace=True)\n",
    "x2.drop(['EducationField_Life Sciences'],axis=1,inplace=True)\n",
    "x2.drop(['EducationField_Marketing'],axis=1,inplace=True)\n",
    "x2.drop(['EducationField_Medical'],axis=1,inplace=True)\n",
    "x2.drop(['JobLevel_3'],axis=1,inplace=True)\n",
    "x2.drop(['JobLevel_4'],axis=1,inplace=True)\n",
    "x2.drop(['JobLevel_5'],axis=1,inplace=True)\n",
    "x2.drop(['JobRole_Human Resources'],axis=1,inplace=True)\n",
    "x2.drop(['JobRole_Laboratory Technician'],axis=1,inplace=True)\n",
    "x2.drop(['JobRole_Manager'],axis=1,inplace=True)\n",
    "x2.drop(['JobRole_Manufacturing Director'],axis=1,inplace=True)\n",
    "x2.drop(['JobRole_Research Director'],axis=1,inplace=True)\n",
    "x2.drop(['JobRole_Research Scientist'],axis=1,inplace=True)\n",
    "x2.drop(['MaritalStatus_Married'],axis=1,inplace=True)\n",
    "x2.drop(['MaritalStatus_Single'],axis=1,inplace=True)\n",
    "x2.drop(['StockOptionLevel_3'],axis=1,inplace=True)\n",
    "x2.drop(['WorkLifeBalance_2'],axis=1,inplace=True)\n",
    "x2.drop(['WorkLifeBalance_4'],axis=1,inplace=True)"
   ]
  },
  {
   "cell_type": "code",
   "execution_count": 98,
   "metadata": {},
   "outputs": [
    {
     "name": "stdout",
     "output_type": "stream",
     "text": [
      "Optimization terminated successfully.\n",
      "         Current function value: 0.312793\n",
      "         Iterations 7\n"
     ]
    }
   ],
   "source": [
    "x_train, x_test, y_train, y_test=train_test_split(x2,y,test_size=0.2,random_state=11)\n",
    "model=sm.Logit(y_train,x_train)\n",
    "result=model.fit()"
   ]
  },
  {
   "cell_type": "code",
   "execution_count": 99,
   "metadata": {},
   "outputs": [
    {
     "data": {
      "text/html": [
       "<table class=\"simpletable\">\n",
       "<caption>Logit Regression Results</caption>\n",
       "<tr>\n",
       "  <th>Dep. Variable:</th>       <td>Attrition</td>    <th>  No. Observations:  </th>  <td>  1176</td>  \n",
       "</tr>\n",
       "<tr>\n",
       "  <th>Model:</th>                 <td>Logit</td>      <th>  Df Residuals:      </th>  <td>  1153</td>  \n",
       "</tr>\n",
       "<tr>\n",
       "  <th>Method:</th>                 <td>MLE</td>       <th>  Df Model:          </th>  <td>    22</td>  \n",
       "</tr>\n",
       "<tr>\n",
       "  <th>Date:</th>            <td>Thu, 28 May 2020</td> <th>  Pseudo R-squ.:     </th>  <td>0.2905</td>  \n",
       "</tr>\n",
       "<tr>\n",
       "  <th>Time:</th>                <td>14:22:36</td>     <th>  Log-Likelihood:    </th> <td> -367.84</td> \n",
       "</tr>\n",
       "<tr>\n",
       "  <th>converged:</th>             <td>True</td>       <th>  LL-Null:           </th> <td> -518.44</td> \n",
       "</tr>\n",
       "<tr>\n",
       "  <th>Covariance Type:</th>     <td>nonrobust</td>    <th>  LLR p-value:       </th> <td>6.988e-51</td>\n",
       "</tr>\n",
       "</table>\n",
       "<table class=\"simpletable\">\n",
       "<tr>\n",
       "                  <td></td>                    <th>coef</th>     <th>std err</th>      <th>z</th>      <th>P>|z|</th>  <th>[0.025</th>    <th>0.975]</th>  \n",
       "</tr>\n",
       "<tr>\n",
       "  <th>DailyRate</th>                        <td>   -0.0006</td> <td>    0.000</td> <td>   -2.444</td> <td> 0.015</td> <td>   -0.001</td> <td>   -0.000</td>\n",
       "</tr>\n",
       "<tr>\n",
       "  <th>DistanceFromHome</th>                 <td>    0.0508</td> <td>    0.011</td> <td>    4.588</td> <td> 0.000</td> <td>    0.029</td> <td>    0.073</td>\n",
       "</tr>\n",
       "<tr>\n",
       "  <th>TrainingTimesLastYear</th>            <td>   -0.1146</td> <td>    0.076</td> <td>   -1.515</td> <td> 0.130</td> <td>   -0.263</td> <td>    0.034</td>\n",
       "</tr>\n",
       "<tr>\n",
       "  <th>YearsWithCurrManager</th>             <td>   -0.1419</td> <td>    0.030</td> <td>   -4.659</td> <td> 0.000</td> <td>   -0.202</td> <td>   -0.082</td>\n",
       "</tr>\n",
       "<tr>\n",
       "  <th>BusinessTravel_Travel_Frequently</th> <td>    2.1457</td> <td>    0.415</td> <td>    5.170</td> <td> 0.000</td> <td>    1.332</td> <td>    2.959</td>\n",
       "</tr>\n",
       "<tr>\n",
       "  <th>BusinessTravel_Travel_Rarely</th>     <td>    1.2505</td> <td>    0.372</td> <td>    3.360</td> <td> 0.001</td> <td>    0.521</td> <td>    1.980</td>\n",
       "</tr>\n",
       "<tr>\n",
       "  <th>OverTime_Yes</th>                     <td>    1.7244</td> <td>    0.200</td> <td>    8.607</td> <td> 0.000</td> <td>    1.332</td> <td>    2.117</td>\n",
       "</tr>\n",
       "<tr>\n",
       "  <th>EducationField_Technical Degree</th>  <td>    1.0841</td> <td>    0.296</td> <td>    3.661</td> <td> 0.000</td> <td>    0.504</td> <td>    1.664</td>\n",
       "</tr>\n",
       "<tr>\n",
       "  <th>EnvironmentSatisfaction_2</th>        <td>   -0.7410</td> <td>    0.287</td> <td>   -2.581</td> <td> 0.010</td> <td>   -1.304</td> <td>   -0.178</td>\n",
       "</tr>\n",
       "<tr>\n",
       "  <th>EnvironmentSatisfaction_3</th>        <td>   -0.9904</td> <td>    0.271</td> <td>   -3.651</td> <td> 0.000</td> <td>   -1.522</td> <td>   -0.459</td>\n",
       "</tr>\n",
       "<tr>\n",
       "  <th>EnvironmentSatisfaction_4</th>        <td>   -0.9320</td> <td>    0.265</td> <td>   -3.523</td> <td> 0.000</td> <td>   -1.451</td> <td>   -0.413</td>\n",
       "</tr>\n",
       "<tr>\n",
       "  <th>JobInvolvement_2</th>                 <td>   -0.8885</td> <td>    0.343</td> <td>   -2.592</td> <td> 0.010</td> <td>   -1.560</td> <td>   -0.217</td>\n",
       "</tr>\n",
       "<tr>\n",
       "  <th>JobInvolvement_3</th>                 <td>   -1.0940</td> <td>    0.318</td> <td>   -3.441</td> <td> 0.001</td> <td>   -1.717</td> <td>   -0.471</td>\n",
       "</tr>\n",
       "<tr>\n",
       "  <th>JobInvolvement_4</th>                 <td>   -1.6509</td> <td>    0.468</td> <td>   -3.526</td> <td> 0.000</td> <td>   -2.569</td> <td>   -0.733</td>\n",
       "</tr>\n",
       "<tr>\n",
       "  <th>JobLevel_2</th>                       <td>   -1.1386</td> <td>    0.252</td> <td>   -4.518</td> <td> 0.000</td> <td>   -1.633</td> <td>   -0.645</td>\n",
       "</tr>\n",
       "<tr>\n",
       "  <th>JobRole_Sales Executive</th>          <td>    1.1650</td> <td>    0.259</td> <td>    4.501</td> <td> 0.000</td> <td>    0.658</td> <td>    1.672</td>\n",
       "</tr>\n",
       "<tr>\n",
       "  <th>JobRole_Sales Representative</th>     <td>    1.4096</td> <td>    0.335</td> <td>    4.211</td> <td> 0.000</td> <td>    0.754</td> <td>    2.066</td>\n",
       "</tr>\n",
       "<tr>\n",
       "  <th>JobSatisfaction_2</th>                <td>   -0.7073</td> <td>    0.296</td> <td>   -2.387</td> <td> 0.017</td> <td>   -1.288</td> <td>   -0.127</td>\n",
       "</tr>\n",
       "<tr>\n",
       "  <th>JobSatisfaction_3</th>                <td>   -0.5203</td> <td>    0.250</td> <td>   -2.077</td> <td> 0.038</td> <td>   -1.011</td> <td>   -0.029</td>\n",
       "</tr>\n",
       "<tr>\n",
       "  <th>JobSatisfaction_4</th>                <td>   -1.0918</td> <td>    0.268</td> <td>   -4.071</td> <td> 0.000</td> <td>   -1.617</td> <td>   -0.566</td>\n",
       "</tr>\n",
       "<tr>\n",
       "  <th>StockOptionLevel_1</th>               <td>   -1.2621</td> <td>    0.215</td> <td>   -5.859</td> <td> 0.000</td> <td>   -1.684</td> <td>   -0.840</td>\n",
       "</tr>\n",
       "<tr>\n",
       "  <th>StockOptionLevel_2</th>               <td>   -1.2838</td> <td>    0.389</td> <td>   -3.303</td> <td> 0.001</td> <td>   -2.045</td> <td>   -0.522</td>\n",
       "</tr>\n",
       "<tr>\n",
       "  <th>WorkLifeBalance_3</th>                <td>   -0.5685</td> <td>    0.191</td> <td>   -2.984</td> <td> 0.003</td> <td>   -0.942</td> <td>   -0.195</td>\n",
       "</tr>\n",
       "</table>"
      ],
      "text/plain": [
       "<class 'statsmodels.iolib.summary.Summary'>\n",
       "\"\"\"\n",
       "                           Logit Regression Results                           \n",
       "==============================================================================\n",
       "Dep. Variable:              Attrition   No. Observations:                 1176\n",
       "Model:                          Logit   Df Residuals:                     1153\n",
       "Method:                           MLE   Df Model:                           22\n",
       "Date:                Thu, 28 May 2020   Pseudo R-squ.:                  0.2905\n",
       "Time:                        14:22:36   Log-Likelihood:                -367.84\n",
       "converged:                       True   LL-Null:                       -518.44\n",
       "Covariance Type:            nonrobust   LLR p-value:                 6.988e-51\n",
       "====================================================================================================\n",
       "                                       coef    std err          z      P>|z|      [0.025      0.975]\n",
       "----------------------------------------------------------------------------------------------------\n",
       "DailyRate                           -0.0006      0.000     -2.444      0.015      -0.001      -0.000\n",
       "DistanceFromHome                     0.0508      0.011      4.588      0.000       0.029       0.073\n",
       "TrainingTimesLastYear               -0.1146      0.076     -1.515      0.130      -0.263       0.034\n",
       "YearsWithCurrManager                -0.1419      0.030     -4.659      0.000      -0.202      -0.082\n",
       "BusinessTravel_Travel_Frequently     2.1457      0.415      5.170      0.000       1.332       2.959\n",
       "BusinessTravel_Travel_Rarely         1.2505      0.372      3.360      0.001       0.521       1.980\n",
       "OverTime_Yes                         1.7244      0.200      8.607      0.000       1.332       2.117\n",
       "EducationField_Technical Degree      1.0841      0.296      3.661      0.000       0.504       1.664\n",
       "EnvironmentSatisfaction_2           -0.7410      0.287     -2.581      0.010      -1.304      -0.178\n",
       "EnvironmentSatisfaction_3           -0.9904      0.271     -3.651      0.000      -1.522      -0.459\n",
       "EnvironmentSatisfaction_4           -0.9320      0.265     -3.523      0.000      -1.451      -0.413\n",
       "JobInvolvement_2                    -0.8885      0.343     -2.592      0.010      -1.560      -0.217\n",
       "JobInvolvement_3                    -1.0940      0.318     -3.441      0.001      -1.717      -0.471\n",
       "JobInvolvement_4                    -1.6509      0.468     -3.526      0.000      -2.569      -0.733\n",
       "JobLevel_2                          -1.1386      0.252     -4.518      0.000      -1.633      -0.645\n",
       "JobRole_Sales Executive              1.1650      0.259      4.501      0.000       0.658       1.672\n",
       "JobRole_Sales Representative         1.4096      0.335      4.211      0.000       0.754       2.066\n",
       "JobSatisfaction_2                   -0.7073      0.296     -2.387      0.017      -1.288      -0.127\n",
       "JobSatisfaction_3                   -0.5203      0.250     -2.077      0.038      -1.011      -0.029\n",
       "JobSatisfaction_4                   -1.0918      0.268     -4.071      0.000      -1.617      -0.566\n",
       "StockOptionLevel_1                  -1.2621      0.215     -5.859      0.000      -1.684      -0.840\n",
       "StockOptionLevel_2                  -1.2838      0.389     -3.303      0.001      -2.045      -0.522\n",
       "WorkLifeBalance_3                   -0.5685      0.191     -2.984      0.003      -0.942      -0.195\n",
       "====================================================================================================\n",
       "\"\"\""
      ]
     },
     "execution_count": 99,
     "metadata": {},
     "output_type": "execute_result"
    }
   ],
   "source": [
    "result.summary()"
   ]
  },
  {
   "cell_type": "code",
   "execution_count": 100,
   "metadata": {},
   "outputs": [],
   "source": [
    "x2.drop(['TrainingTimesLastYear'],axis=1,inplace=True)"
   ]
  },
  {
   "cell_type": "code",
   "execution_count": 101,
   "metadata": {},
   "outputs": [
    {
     "name": "stdout",
     "output_type": "stream",
     "text": [
      "Optimization terminated successfully.\n",
      "         Current function value: 0.313788\n",
      "         Iterations 7\n"
     ]
    }
   ],
   "source": [
    "x_train, x_test, y_train, y_test=train_test_split(x2,y,test_size=0.2,random_state=11)\n",
    "model=sm.Logit(y_train,x_train)\n",
    "result=model.fit()"
   ]
  },
  {
   "cell_type": "code",
   "execution_count": 102,
   "metadata": {},
   "outputs": [
    {
     "data": {
      "text/html": [
       "<table class=\"simpletable\">\n",
       "<caption>Logit Regression Results</caption>\n",
       "<tr>\n",
       "  <th>Dep. Variable:</th>       <td>Attrition</td>    <th>  No. Observations:  </th>  <td>  1176</td>  \n",
       "</tr>\n",
       "<tr>\n",
       "  <th>Model:</th>                 <td>Logit</td>      <th>  Df Residuals:      </th>  <td>  1154</td>  \n",
       "</tr>\n",
       "<tr>\n",
       "  <th>Method:</th>                 <td>MLE</td>       <th>  Df Model:          </th>  <td>    21</td>  \n",
       "</tr>\n",
       "<tr>\n",
       "  <th>Date:</th>            <td>Thu, 28 May 2020</td> <th>  Pseudo R-squ.:     </th>  <td>0.2882</td>  \n",
       "</tr>\n",
       "<tr>\n",
       "  <th>Time:</th>                <td>14:22:37</td>     <th>  Log-Likelihood:    </th> <td> -369.01</td> \n",
       "</tr>\n",
       "<tr>\n",
       "  <th>converged:</th>             <td>True</td>       <th>  LL-Null:           </th> <td> -518.44</td> \n",
       "</tr>\n",
       "<tr>\n",
       "  <th>Covariance Type:</th>     <td>nonrobust</td>    <th>  LLR p-value:       </th> <td>5.436e-51</td>\n",
       "</tr>\n",
       "</table>\n",
       "<table class=\"simpletable\">\n",
       "<tr>\n",
       "                  <td></td>                    <th>coef</th>     <th>std err</th>      <th>z</th>      <th>P>|z|</th>  <th>[0.025</th>    <th>0.975]</th>  \n",
       "</tr>\n",
       "<tr>\n",
       "  <th>DailyRate</th>                        <td>   -0.0006</td> <td>    0.000</td> <td>   -2.571</td> <td> 0.010</td> <td>   -0.001</td> <td>   -0.000</td>\n",
       "</tr>\n",
       "<tr>\n",
       "  <th>DistanceFromHome</th>                 <td>    0.0497</td> <td>    0.011</td> <td>    4.507</td> <td> 0.000</td> <td>    0.028</td> <td>    0.071</td>\n",
       "</tr>\n",
       "<tr>\n",
       "  <th>YearsWithCurrManager</th>             <td>   -0.1415</td> <td>    0.030</td> <td>   -4.672</td> <td> 0.000</td> <td>   -0.201</td> <td>   -0.082</td>\n",
       "</tr>\n",
       "<tr>\n",
       "  <th>BusinessTravel_Travel_Frequently</th> <td>    1.9925</td> <td>    0.395</td> <td>    5.045</td> <td> 0.000</td> <td>    1.218</td> <td>    2.767</td>\n",
       "</tr>\n",
       "<tr>\n",
       "  <th>BusinessTravel_Travel_Rarely</th>     <td>    1.0942</td> <td>    0.350</td> <td>    3.130</td> <td> 0.002</td> <td>    0.409</td> <td>    1.779</td>\n",
       "</tr>\n",
       "<tr>\n",
       "  <th>OverTime_Yes</th>                     <td>    1.7327</td> <td>    0.200</td> <td>    8.652</td> <td> 0.000</td> <td>    1.340</td> <td>    2.125</td>\n",
       "</tr>\n",
       "<tr>\n",
       "  <th>EducationField_Technical Degree</th>  <td>    1.0668</td> <td>    0.297</td> <td>    3.595</td> <td> 0.000</td> <td>    0.485</td> <td>    1.648</td>\n",
       "</tr>\n",
       "<tr>\n",
       "  <th>EnvironmentSatisfaction_2</th>        <td>   -0.7670</td> <td>    0.286</td> <td>   -2.684</td> <td> 0.007</td> <td>   -1.327</td> <td>   -0.207</td>\n",
       "</tr>\n",
       "<tr>\n",
       "  <th>EnvironmentSatisfaction_3</th>        <td>   -1.0083</td> <td>    0.270</td> <td>   -3.733</td> <td> 0.000</td> <td>   -1.538</td> <td>   -0.479</td>\n",
       "</tr>\n",
       "<tr>\n",
       "  <th>EnvironmentSatisfaction_4</th>        <td>   -0.9493</td> <td>    0.263</td> <td>   -3.609</td> <td> 0.000</td> <td>   -1.465</td> <td>   -0.434</td>\n",
       "</tr>\n",
       "<tr>\n",
       "  <th>JobInvolvement_2</th>                 <td>   -0.9632</td> <td>    0.338</td> <td>   -2.852</td> <td> 0.004</td> <td>   -1.625</td> <td>   -0.301</td>\n",
       "</tr>\n",
       "<tr>\n",
       "  <th>JobInvolvement_3</th>                 <td>   -1.1667</td> <td>    0.312</td> <td>   -3.737</td> <td> 0.000</td> <td>   -1.779</td> <td>   -0.555</td>\n",
       "</tr>\n",
       "<tr>\n",
       "  <th>JobInvolvement_4</th>                 <td>   -1.7209</td> <td>    0.464</td> <td>   -3.712</td> <td> 0.000</td> <td>   -2.630</td> <td>   -0.812</td>\n",
       "</tr>\n",
       "<tr>\n",
       "  <th>JobLevel_2</th>                       <td>   -1.1563</td> <td>    0.252</td> <td>   -4.594</td> <td> 0.000</td> <td>   -1.650</td> <td>   -0.663</td>\n",
       "</tr>\n",
       "<tr>\n",
       "  <th>JobRole_Sales Executive</th>          <td>    1.1502</td> <td>    0.258</td> <td>    4.459</td> <td> 0.000</td> <td>    0.645</td> <td>    1.656</td>\n",
       "</tr>\n",
       "<tr>\n",
       "  <th>JobRole_Sales Representative</th>     <td>    1.3829</td> <td>    0.334</td> <td>    4.134</td> <td> 0.000</td> <td>    0.727</td> <td>    2.038</td>\n",
       "</tr>\n",
       "<tr>\n",
       "  <th>JobSatisfaction_2</th>                <td>   -0.7375</td> <td>    0.295</td> <td>   -2.501</td> <td> 0.012</td> <td>   -1.315</td> <td>   -0.160</td>\n",
       "</tr>\n",
       "<tr>\n",
       "  <th>JobSatisfaction_3</th>                <td>   -0.5530</td> <td>    0.248</td> <td>   -2.227</td> <td> 0.026</td> <td>   -1.040</td> <td>   -0.066</td>\n",
       "</tr>\n",
       "<tr>\n",
       "  <th>JobSatisfaction_4</th>                <td>   -1.1257</td> <td>    0.267</td> <td>   -4.223</td> <td> 0.000</td> <td>   -1.648</td> <td>   -0.603</td>\n",
       "</tr>\n",
       "<tr>\n",
       "  <th>StockOptionLevel_1</th>               <td>   -1.2582</td> <td>    0.215</td> <td>   -5.851</td> <td> 0.000</td> <td>   -1.680</td> <td>   -0.837</td>\n",
       "</tr>\n",
       "<tr>\n",
       "  <th>StockOptionLevel_2</th>               <td>   -1.3154</td> <td>    0.389</td> <td>   -3.379</td> <td> 0.001</td> <td>   -2.078</td> <td>   -0.552</td>\n",
       "</tr>\n",
       "<tr>\n",
       "  <th>WorkLifeBalance_3</th>                <td>   -0.5857</td> <td>    0.189</td> <td>   -3.091</td> <td> 0.002</td> <td>   -0.957</td> <td>   -0.214</td>\n",
       "</tr>\n",
       "</table>"
      ],
      "text/plain": [
       "<class 'statsmodels.iolib.summary.Summary'>\n",
       "\"\"\"\n",
       "                           Logit Regression Results                           \n",
       "==============================================================================\n",
       "Dep. Variable:              Attrition   No. Observations:                 1176\n",
       "Model:                          Logit   Df Residuals:                     1154\n",
       "Method:                           MLE   Df Model:                           21\n",
       "Date:                Thu, 28 May 2020   Pseudo R-squ.:                  0.2882\n",
       "Time:                        14:22:37   Log-Likelihood:                -369.01\n",
       "converged:                       True   LL-Null:                       -518.44\n",
       "Covariance Type:            nonrobust   LLR p-value:                 5.436e-51\n",
       "====================================================================================================\n",
       "                                       coef    std err          z      P>|z|      [0.025      0.975]\n",
       "----------------------------------------------------------------------------------------------------\n",
       "DailyRate                           -0.0006      0.000     -2.571      0.010      -0.001      -0.000\n",
       "DistanceFromHome                     0.0497      0.011      4.507      0.000       0.028       0.071\n",
       "YearsWithCurrManager                -0.1415      0.030     -4.672      0.000      -0.201      -0.082\n",
       "BusinessTravel_Travel_Frequently     1.9925      0.395      5.045      0.000       1.218       2.767\n",
       "BusinessTravel_Travel_Rarely         1.0942      0.350      3.130      0.002       0.409       1.779\n",
       "OverTime_Yes                         1.7327      0.200      8.652      0.000       1.340       2.125\n",
       "EducationField_Technical Degree      1.0668      0.297      3.595      0.000       0.485       1.648\n",
       "EnvironmentSatisfaction_2           -0.7670      0.286     -2.684      0.007      -1.327      -0.207\n",
       "EnvironmentSatisfaction_3           -1.0083      0.270     -3.733      0.000      -1.538      -0.479\n",
       "EnvironmentSatisfaction_4           -0.9493      0.263     -3.609      0.000      -1.465      -0.434\n",
       "JobInvolvement_2                    -0.9632      0.338     -2.852      0.004      -1.625      -0.301\n",
       "JobInvolvement_3                    -1.1667      0.312     -3.737      0.000      -1.779      -0.555\n",
       "JobInvolvement_4                    -1.7209      0.464     -3.712      0.000      -2.630      -0.812\n",
       "JobLevel_2                          -1.1563      0.252     -4.594      0.000      -1.650      -0.663\n",
       "JobRole_Sales Executive              1.1502      0.258      4.459      0.000       0.645       1.656\n",
       "JobRole_Sales Representative         1.3829      0.334      4.134      0.000       0.727       2.038\n",
       "JobSatisfaction_2                   -0.7375      0.295     -2.501      0.012      -1.315      -0.160\n",
       "JobSatisfaction_3                   -0.5530      0.248     -2.227      0.026      -1.040      -0.066\n",
       "JobSatisfaction_4                   -1.1257      0.267     -4.223      0.000      -1.648      -0.603\n",
       "StockOptionLevel_1                  -1.2582      0.215     -5.851      0.000      -1.680      -0.837\n",
       "StockOptionLevel_2                  -1.3154      0.389     -3.379      0.001      -2.078      -0.552\n",
       "WorkLifeBalance_3                   -0.5857      0.189     -3.091      0.002      -0.957      -0.214\n",
       "====================================================================================================\n",
       "\"\"\""
      ]
     },
     "execution_count": 102,
     "metadata": {},
     "output_type": "execute_result"
    }
   ],
   "source": [
    "result.summary()"
   ]
  },
  {
   "cell_type": "code",
   "execution_count": 103,
   "metadata": {},
   "outputs": [],
   "source": [
    "# DistanceFromHome = 0.0497. As distance increases, then the chances are high that the employee may leave the company\n",
    "# YearsWithCurrManager = -0.1410. then less chancess to leave the company.\n",
    "# BusinessTravel_Travel_Frequently=1.8008, The peron who travels most frequently is having 1.80 chnaces of leaving the company.\n"
   ]
  },
  {
   "cell_type": "code",
   "execution_count": 104,
   "metadata": {},
   "outputs": [
    {
     "data": {
      "text/html": [
       "<div>\n",
       "<style scoped>\n",
       "    .dataframe tbody tr th:only-of-type {\n",
       "        vertical-align: middle;\n",
       "    }\n",
       "\n",
       "    .dataframe tbody tr th {\n",
       "        vertical-align: top;\n",
       "    }\n",
       "\n",
       "    .dataframe thead th {\n",
       "        text-align: right;\n",
       "    }\n",
       "</style>\n",
       "<table border=\"1\" class=\"dataframe\">\n",
       "  <thead>\n",
       "    <tr style=\"text-align: right;\">\n",
       "      <th></th>\n",
       "      <th>DailyRate</th>\n",
       "      <th>DistanceFromHome</th>\n",
       "      <th>YearsWithCurrManager</th>\n",
       "      <th>BusinessTravel_Travel_Frequently</th>\n",
       "      <th>BusinessTravel_Travel_Rarely</th>\n",
       "      <th>OverTime_Yes</th>\n",
       "      <th>EducationField_Technical Degree</th>\n",
       "      <th>EnvironmentSatisfaction_2</th>\n",
       "      <th>EnvironmentSatisfaction_3</th>\n",
       "      <th>EnvironmentSatisfaction_4</th>\n",
       "      <th>...</th>\n",
       "      <th>JobInvolvement_4</th>\n",
       "      <th>JobLevel_2</th>\n",
       "      <th>JobRole_Sales Executive</th>\n",
       "      <th>JobRole_Sales Representative</th>\n",
       "      <th>JobSatisfaction_2</th>\n",
       "      <th>JobSatisfaction_3</th>\n",
       "      <th>JobSatisfaction_4</th>\n",
       "      <th>StockOptionLevel_1</th>\n",
       "      <th>StockOptionLevel_2</th>\n",
       "      <th>WorkLifeBalance_3</th>\n",
       "    </tr>\n",
       "  </thead>\n",
       "  <tbody>\n",
       "    <tr>\n",
       "      <td>38</td>\n",
       "      <td>852</td>\n",
       "      <td>5</td>\n",
       "      <td>0</td>\n",
       "      <td>0</td>\n",
       "      <td>1</td>\n",
       "      <td>1</td>\n",
       "      <td>0</td>\n",
       "      <td>1</td>\n",
       "      <td>0</td>\n",
       "      <td>0</td>\n",
       "      <td>...</td>\n",
       "      <td>0</td>\n",
       "      <td>0</td>\n",
       "      <td>0</td>\n",
       "      <td>0</td>\n",
       "      <td>0</td>\n",
       "      <td>0</td>\n",
       "      <td>0</td>\n",
       "      <td>1</td>\n",
       "      <td>0</td>\n",
       "      <td>0</td>\n",
       "    </tr>\n",
       "    <tr>\n",
       "      <td>907</td>\n",
       "      <td>1099</td>\n",
       "      <td>5</td>\n",
       "      <td>10</td>\n",
       "      <td>0</td>\n",
       "      <td>1</td>\n",
       "      <td>0</td>\n",
       "      <td>0</td>\n",
       "      <td>1</td>\n",
       "      <td>0</td>\n",
       "      <td>0</td>\n",
       "      <td>...</td>\n",
       "      <td>0</td>\n",
       "      <td>0</td>\n",
       "      <td>0</td>\n",
       "      <td>0</td>\n",
       "      <td>1</td>\n",
       "      <td>0</td>\n",
       "      <td>0</td>\n",
       "      <td>1</td>\n",
       "      <td>0</td>\n",
       "      <td>1</td>\n",
       "    </tr>\n",
       "    <tr>\n",
       "      <td>311</td>\n",
       "      <td>1249</td>\n",
       "      <td>7</td>\n",
       "      <td>11</td>\n",
       "      <td>1</td>\n",
       "      <td>0</td>\n",
       "      <td>0</td>\n",
       "      <td>0</td>\n",
       "      <td>0</td>\n",
       "      <td>0</td>\n",
       "      <td>0</td>\n",
       "      <td>...</td>\n",
       "      <td>0</td>\n",
       "      <td>0</td>\n",
       "      <td>0</td>\n",
       "      <td>0</td>\n",
       "      <td>0</td>\n",
       "      <td>0</td>\n",
       "      <td>0</td>\n",
       "      <td>1</td>\n",
       "      <td>0</td>\n",
       "      <td>1</td>\n",
       "    </tr>\n",
       "    <tr>\n",
       "      <td>77</td>\n",
       "      <td>193</td>\n",
       "      <td>6</td>\n",
       "      <td>0</td>\n",
       "      <td>0</td>\n",
       "      <td>1</td>\n",
       "      <td>1</td>\n",
       "      <td>0</td>\n",
       "      <td>0</td>\n",
       "      <td>0</td>\n",
       "      <td>1</td>\n",
       "      <td>...</td>\n",
       "      <td>0</td>\n",
       "      <td>0</td>\n",
       "      <td>0</td>\n",
       "      <td>0</td>\n",
       "      <td>0</td>\n",
       "      <td>0</td>\n",
       "      <td>0</td>\n",
       "      <td>0</td>\n",
       "      <td>0</td>\n",
       "      <td>0</td>\n",
       "    </tr>\n",
       "    <tr>\n",
       "      <td>287</td>\n",
       "      <td>688</td>\n",
       "      <td>23</td>\n",
       "      <td>2</td>\n",
       "      <td>0</td>\n",
       "      <td>1</td>\n",
       "      <td>0</td>\n",
       "      <td>0</td>\n",
       "      <td>0</td>\n",
       "      <td>0</td>\n",
       "      <td>1</td>\n",
       "      <td>...</td>\n",
       "      <td>0</td>\n",
       "      <td>1</td>\n",
       "      <td>0</td>\n",
       "      <td>0</td>\n",
       "      <td>0</td>\n",
       "      <td>0</td>\n",
       "      <td>1</td>\n",
       "      <td>1</td>\n",
       "      <td>0</td>\n",
       "      <td>1</td>\n",
       "    </tr>\n",
       "  </tbody>\n",
       "</table>\n",
       "<p>5 rows × 22 columns</p>\n",
       "</div>"
      ],
      "text/plain": [
       "     DailyRate  DistanceFromHome  YearsWithCurrManager  \\\n",
       "38         852                 5                     0   \n",
       "907       1099                 5                    10   \n",
       "311       1249                 7                    11   \n",
       "77         193                 6                     0   \n",
       "287        688                23                     2   \n",
       "\n",
       "     BusinessTravel_Travel_Frequently  BusinessTravel_Travel_Rarely  \\\n",
       "38                                  0                             1   \n",
       "907                                 0                             1   \n",
       "311                                 1                             0   \n",
       "77                                  0                             1   \n",
       "287                                 0                             1   \n",
       "\n",
       "     OverTime_Yes  EducationField_Technical Degree  EnvironmentSatisfaction_2  \\\n",
       "38              1                                0                          1   \n",
       "907             0                                0                          1   \n",
       "311             0                                0                          0   \n",
       "77              1                                0                          0   \n",
       "287             0                                0                          0   \n",
       "\n",
       "     EnvironmentSatisfaction_3  EnvironmentSatisfaction_4  ...  \\\n",
       "38                           0                          0  ...   \n",
       "907                          0                          0  ...   \n",
       "311                          0                          0  ...   \n",
       "77                           0                          1  ...   \n",
       "287                          0                          1  ...   \n",
       "\n",
       "     JobInvolvement_4  JobLevel_2  JobRole_Sales Executive  \\\n",
       "38                  0           0                        0   \n",
       "907                 0           0                        0   \n",
       "311                 0           0                        0   \n",
       "77                  0           0                        0   \n",
       "287                 0           1                        0   \n",
       "\n",
       "     JobRole_Sales Representative  JobSatisfaction_2  JobSatisfaction_3  \\\n",
       "38                              0                  0                  0   \n",
       "907                             0                  1                  0   \n",
       "311                             0                  0                  0   \n",
       "77                              0                  0                  0   \n",
       "287                             0                  0                  0   \n",
       "\n",
       "     JobSatisfaction_4  StockOptionLevel_1  StockOptionLevel_2  \\\n",
       "38                   0                   1                   0   \n",
       "907                  0                   1                   0   \n",
       "311                  0                   1                   0   \n",
       "77                   0                   0                   0   \n",
       "287                  1                   1                   0   \n",
       "\n",
       "     WorkLifeBalance_3  \n",
       "38                   0  \n",
       "907                  1  \n",
       "311                  1  \n",
       "77                   0  \n",
       "287                  1  \n",
       "\n",
       "[5 rows x 22 columns]"
      ]
     },
     "execution_count": 104,
     "metadata": {},
     "output_type": "execute_result"
    }
   ],
   "source": [
    "x_train.head()"
   ]
  },
  {
   "cell_type": "code",
   "execution_count": 105,
   "metadata": {},
   "outputs": [
    {
     "name": "stderr",
     "output_type": "stream",
     "text": [
      "C:\\Python\\Anaconda3\\lib\\site-packages\\ipykernel_launcher.py:1: SettingWithCopyWarning: \n",
      "A value is trying to be set on a copy of a slice from a DataFrame.\n",
      "Try using .loc[row_indexer,col_indexer] = value instead\n",
      "\n",
      "See the caveats in the documentation: http://pandas.pydata.org/pandas-docs/stable/user_guide/indexing.html#returning-a-view-versus-a-copy\n",
      "  \"\"\"Entry point for launching an IPython kernel.\n"
     ]
    }
   ],
   "source": [
    "x_train['pred_prob']=result.predict(x_train)"
   ]
  },
  {
   "cell_type": "code",
   "execution_count": 106,
   "metadata": {},
   "outputs": [
    {
     "data": {
      "text/html": [
       "<div>\n",
       "<style scoped>\n",
       "    .dataframe tbody tr th:only-of-type {\n",
       "        vertical-align: middle;\n",
       "    }\n",
       "\n",
       "    .dataframe tbody tr th {\n",
       "        vertical-align: top;\n",
       "    }\n",
       "\n",
       "    .dataframe thead th {\n",
       "        text-align: right;\n",
       "    }\n",
       "</style>\n",
       "<table border=\"1\" class=\"dataframe\">\n",
       "  <thead>\n",
       "    <tr style=\"text-align: right;\">\n",
       "      <th></th>\n",
       "      <th>DailyRate</th>\n",
       "      <th>DistanceFromHome</th>\n",
       "      <th>YearsWithCurrManager</th>\n",
       "      <th>BusinessTravel_Travel_Frequently</th>\n",
       "      <th>BusinessTravel_Travel_Rarely</th>\n",
       "      <th>OverTime_Yes</th>\n",
       "      <th>EducationField_Technical Degree</th>\n",
       "      <th>EnvironmentSatisfaction_2</th>\n",
       "      <th>EnvironmentSatisfaction_3</th>\n",
       "      <th>EnvironmentSatisfaction_4</th>\n",
       "      <th>...</th>\n",
       "      <th>JobLevel_2</th>\n",
       "      <th>JobRole_Sales Executive</th>\n",
       "      <th>JobRole_Sales Representative</th>\n",
       "      <th>JobSatisfaction_2</th>\n",
       "      <th>JobSatisfaction_3</th>\n",
       "      <th>JobSatisfaction_4</th>\n",
       "      <th>StockOptionLevel_1</th>\n",
       "      <th>StockOptionLevel_2</th>\n",
       "      <th>WorkLifeBalance_3</th>\n",
       "      <th>pred_prob</th>\n",
       "    </tr>\n",
       "  </thead>\n",
       "  <tbody>\n",
       "    <tr>\n",
       "      <td>38</td>\n",
       "      <td>852</td>\n",
       "      <td>5</td>\n",
       "      <td>0</td>\n",
       "      <td>0</td>\n",
       "      <td>1</td>\n",
       "      <td>1</td>\n",
       "      <td>0</td>\n",
       "      <td>1</td>\n",
       "      <td>0</td>\n",
       "      <td>0</td>\n",
       "      <td>...</td>\n",
       "      <td>0</td>\n",
       "      <td>0</td>\n",
       "      <td>0</td>\n",
       "      <td>0</td>\n",
       "      <td>0</td>\n",
       "      <td>0</td>\n",
       "      <td>1</td>\n",
       "      <td>0</td>\n",
       "      <td>0</td>\n",
       "      <td>0.399928</td>\n",
       "    </tr>\n",
       "    <tr>\n",
       "      <td>907</td>\n",
       "      <td>1099</td>\n",
       "      <td>5</td>\n",
       "      <td>10</td>\n",
       "      <td>0</td>\n",
       "      <td>1</td>\n",
       "      <td>0</td>\n",
       "      <td>0</td>\n",
       "      <td>1</td>\n",
       "      <td>0</td>\n",
       "      <td>0</td>\n",
       "      <td>...</td>\n",
       "      <td>0</td>\n",
       "      <td>0</td>\n",
       "      <td>0</td>\n",
       "      <td>1</td>\n",
       "      <td>0</td>\n",
       "      <td>0</td>\n",
       "      <td>1</td>\n",
       "      <td>0</td>\n",
       "      <td>1</td>\n",
       "      <td>0.005363</td>\n",
       "    </tr>\n",
       "    <tr>\n",
       "      <td>311</td>\n",
       "      <td>1249</td>\n",
       "      <td>7</td>\n",
       "      <td>11</td>\n",
       "      <td>1</td>\n",
       "      <td>0</td>\n",
       "      <td>0</td>\n",
       "      <td>0</td>\n",
       "      <td>0</td>\n",
       "      <td>0</td>\n",
       "      <td>0</td>\n",
       "      <td>...</td>\n",
       "      <td>0</td>\n",
       "      <td>0</td>\n",
       "      <td>0</td>\n",
       "      <td>0</td>\n",
       "      <td>0</td>\n",
       "      <td>0</td>\n",
       "      <td>1</td>\n",
       "      <td>0</td>\n",
       "      <td>1</td>\n",
       "      <td>0.049789</td>\n",
       "    </tr>\n",
       "    <tr>\n",
       "      <td>77</td>\n",
       "      <td>193</td>\n",
       "      <td>6</td>\n",
       "      <td>0</td>\n",
       "      <td>0</td>\n",
       "      <td>1</td>\n",
       "      <td>1</td>\n",
       "      <td>0</td>\n",
       "      <td>0</td>\n",
       "      <td>0</td>\n",
       "      <td>1</td>\n",
       "      <td>...</td>\n",
       "      <td>0</td>\n",
       "      <td>0</td>\n",
       "      <td>0</td>\n",
       "      <td>0</td>\n",
       "      <td>0</td>\n",
       "      <td>0</td>\n",
       "      <td>0</td>\n",
       "      <td>0</td>\n",
       "      <td>0</td>\n",
       "      <td>0.710424</td>\n",
       "    </tr>\n",
       "    <tr>\n",
       "      <td>287</td>\n",
       "      <td>688</td>\n",
       "      <td>23</td>\n",
       "      <td>2</td>\n",
       "      <td>0</td>\n",
       "      <td>1</td>\n",
       "      <td>0</td>\n",
       "      <td>0</td>\n",
       "      <td>0</td>\n",
       "      <td>0</td>\n",
       "      <td>1</td>\n",
       "      <td>...</td>\n",
       "      <td>1</td>\n",
       "      <td>0</td>\n",
       "      <td>0</td>\n",
       "      <td>0</td>\n",
       "      <td>0</td>\n",
       "      <td>1</td>\n",
       "      <td>1</td>\n",
       "      <td>0</td>\n",
       "      <td>1</td>\n",
       "      <td>0.009145</td>\n",
       "    </tr>\n",
       "  </tbody>\n",
       "</table>\n",
       "<p>5 rows × 23 columns</p>\n",
       "</div>"
      ],
      "text/plain": [
       "     DailyRate  DistanceFromHome  YearsWithCurrManager  \\\n",
       "38         852                 5                     0   \n",
       "907       1099                 5                    10   \n",
       "311       1249                 7                    11   \n",
       "77         193                 6                     0   \n",
       "287        688                23                     2   \n",
       "\n",
       "     BusinessTravel_Travel_Frequently  BusinessTravel_Travel_Rarely  \\\n",
       "38                                  0                             1   \n",
       "907                                 0                             1   \n",
       "311                                 1                             0   \n",
       "77                                  0                             1   \n",
       "287                                 0                             1   \n",
       "\n",
       "     OverTime_Yes  EducationField_Technical Degree  EnvironmentSatisfaction_2  \\\n",
       "38              1                                0                          1   \n",
       "907             0                                0                          1   \n",
       "311             0                                0                          0   \n",
       "77              1                                0                          0   \n",
       "287             0                                0                          0   \n",
       "\n",
       "     EnvironmentSatisfaction_3  EnvironmentSatisfaction_4  ...  JobLevel_2  \\\n",
       "38                           0                          0  ...           0   \n",
       "907                          0                          0  ...           0   \n",
       "311                          0                          0  ...           0   \n",
       "77                           0                          1  ...           0   \n",
       "287                          0                          1  ...           1   \n",
       "\n",
       "     JobRole_Sales Executive  JobRole_Sales Representative  JobSatisfaction_2  \\\n",
       "38                         0                             0                  0   \n",
       "907                        0                             0                  1   \n",
       "311                        0                             0                  0   \n",
       "77                         0                             0                  0   \n",
       "287                        0                             0                  0   \n",
       "\n",
       "     JobSatisfaction_3  JobSatisfaction_4  StockOptionLevel_1  \\\n",
       "38                   0                  0                   1   \n",
       "907                  0                  0                   1   \n",
       "311                  0                  0                   1   \n",
       "77                   0                  0                   0   \n",
       "287                  0                  1                   1   \n",
       "\n",
       "     StockOptionLevel_2  WorkLifeBalance_3  pred_prob  \n",
       "38                    0                  0   0.399928  \n",
       "907                   0                  1   0.005363  \n",
       "311                   0                  1   0.049789  \n",
       "77                    0                  0   0.710424  \n",
       "287                   0                  1   0.009145  \n",
       "\n",
       "[5 rows x 23 columns]"
      ]
     },
     "execution_count": 106,
     "metadata": {},
     "output_type": "execute_result"
    }
   ],
   "source": [
    "x_train.head()"
   ]
  },
  {
   "cell_type": "markdown",
   "metadata": {},
   "source": [
    "# 1. Confusion Matrix for Train data"
   ]
  },
  {
   "cell_type": "code",
   "execution_count": 107,
   "metadata": {},
   "outputs": [
    {
     "name": "stderr",
     "output_type": "stream",
     "text": [
      "C:\\Python\\Anaconda3\\lib\\site-packages\\ipykernel_launcher.py:1: SettingWithCopyWarning: \n",
      "A value is trying to be set on a copy of a slice from a DataFrame.\n",
      "Try using .loc[row_indexer,col_indexer] = value instead\n",
      "\n",
      "See the caveats in the documentation: http://pandas.pydata.org/pandas-docs/stable/user_guide/indexing.html#returning-a-view-versus-a-copy\n",
      "  \"\"\"Entry point for launching an IPython kernel.\n"
     ]
    }
   ],
   "source": [
    "x_train['y_pred_class_train']=np.where(x_train['pred_prob']>=0.2,1,0)\n",
    "#Cut-of value 0.2 taken from KS Statistics."
   ]
  },
  {
   "cell_type": "code",
   "execution_count": 108,
   "metadata": {},
   "outputs": [
    {
     "data": {
      "text/html": [
       "<div>\n",
       "<style scoped>\n",
       "    .dataframe tbody tr th:only-of-type {\n",
       "        vertical-align: middle;\n",
       "    }\n",
       "\n",
       "    .dataframe tbody tr th {\n",
       "        vertical-align: top;\n",
       "    }\n",
       "\n",
       "    .dataframe thead th {\n",
       "        text-align: right;\n",
       "    }\n",
       "</style>\n",
       "<table border=\"1\" class=\"dataframe\">\n",
       "  <thead>\n",
       "    <tr style=\"text-align: right;\">\n",
       "      <th></th>\n",
       "      <th>DailyRate</th>\n",
       "      <th>DistanceFromHome</th>\n",
       "      <th>YearsWithCurrManager</th>\n",
       "      <th>BusinessTravel_Travel_Frequently</th>\n",
       "      <th>BusinessTravel_Travel_Rarely</th>\n",
       "      <th>OverTime_Yes</th>\n",
       "      <th>EducationField_Technical Degree</th>\n",
       "      <th>EnvironmentSatisfaction_2</th>\n",
       "      <th>EnvironmentSatisfaction_3</th>\n",
       "      <th>EnvironmentSatisfaction_4</th>\n",
       "      <th>...</th>\n",
       "      <th>JobRole_Sales Executive</th>\n",
       "      <th>JobRole_Sales Representative</th>\n",
       "      <th>JobSatisfaction_2</th>\n",
       "      <th>JobSatisfaction_3</th>\n",
       "      <th>JobSatisfaction_4</th>\n",
       "      <th>StockOptionLevel_1</th>\n",
       "      <th>StockOptionLevel_2</th>\n",
       "      <th>WorkLifeBalance_3</th>\n",
       "      <th>pred_prob</th>\n",
       "      <th>y_pred_class_train</th>\n",
       "    </tr>\n",
       "  </thead>\n",
       "  <tbody>\n",
       "    <tr>\n",
       "      <td>38</td>\n",
       "      <td>852</td>\n",
       "      <td>5</td>\n",
       "      <td>0</td>\n",
       "      <td>0</td>\n",
       "      <td>1</td>\n",
       "      <td>1</td>\n",
       "      <td>0</td>\n",
       "      <td>1</td>\n",
       "      <td>0</td>\n",
       "      <td>0</td>\n",
       "      <td>...</td>\n",
       "      <td>0</td>\n",
       "      <td>0</td>\n",
       "      <td>0</td>\n",
       "      <td>0</td>\n",
       "      <td>0</td>\n",
       "      <td>1</td>\n",
       "      <td>0</td>\n",
       "      <td>0</td>\n",
       "      <td>0.399928</td>\n",
       "      <td>1</td>\n",
       "    </tr>\n",
       "    <tr>\n",
       "      <td>907</td>\n",
       "      <td>1099</td>\n",
       "      <td>5</td>\n",
       "      <td>10</td>\n",
       "      <td>0</td>\n",
       "      <td>1</td>\n",
       "      <td>0</td>\n",
       "      <td>0</td>\n",
       "      <td>1</td>\n",
       "      <td>0</td>\n",
       "      <td>0</td>\n",
       "      <td>...</td>\n",
       "      <td>0</td>\n",
       "      <td>0</td>\n",
       "      <td>1</td>\n",
       "      <td>0</td>\n",
       "      <td>0</td>\n",
       "      <td>1</td>\n",
       "      <td>0</td>\n",
       "      <td>1</td>\n",
       "      <td>0.005363</td>\n",
       "      <td>0</td>\n",
       "    </tr>\n",
       "    <tr>\n",
       "      <td>311</td>\n",
       "      <td>1249</td>\n",
       "      <td>7</td>\n",
       "      <td>11</td>\n",
       "      <td>1</td>\n",
       "      <td>0</td>\n",
       "      <td>0</td>\n",
       "      <td>0</td>\n",
       "      <td>0</td>\n",
       "      <td>0</td>\n",
       "      <td>0</td>\n",
       "      <td>...</td>\n",
       "      <td>0</td>\n",
       "      <td>0</td>\n",
       "      <td>0</td>\n",
       "      <td>0</td>\n",
       "      <td>0</td>\n",
       "      <td>1</td>\n",
       "      <td>0</td>\n",
       "      <td>1</td>\n",
       "      <td>0.049789</td>\n",
       "      <td>0</td>\n",
       "    </tr>\n",
       "    <tr>\n",
       "      <td>77</td>\n",
       "      <td>193</td>\n",
       "      <td>6</td>\n",
       "      <td>0</td>\n",
       "      <td>0</td>\n",
       "      <td>1</td>\n",
       "      <td>1</td>\n",
       "      <td>0</td>\n",
       "      <td>0</td>\n",
       "      <td>0</td>\n",
       "      <td>1</td>\n",
       "      <td>...</td>\n",
       "      <td>0</td>\n",
       "      <td>0</td>\n",
       "      <td>0</td>\n",
       "      <td>0</td>\n",
       "      <td>0</td>\n",
       "      <td>0</td>\n",
       "      <td>0</td>\n",
       "      <td>0</td>\n",
       "      <td>0.710424</td>\n",
       "      <td>1</td>\n",
       "    </tr>\n",
       "    <tr>\n",
       "      <td>287</td>\n",
       "      <td>688</td>\n",
       "      <td>23</td>\n",
       "      <td>2</td>\n",
       "      <td>0</td>\n",
       "      <td>1</td>\n",
       "      <td>0</td>\n",
       "      <td>0</td>\n",
       "      <td>0</td>\n",
       "      <td>0</td>\n",
       "      <td>1</td>\n",
       "      <td>...</td>\n",
       "      <td>0</td>\n",
       "      <td>0</td>\n",
       "      <td>0</td>\n",
       "      <td>0</td>\n",
       "      <td>1</td>\n",
       "      <td>1</td>\n",
       "      <td>0</td>\n",
       "      <td>1</td>\n",
       "      <td>0.009145</td>\n",
       "      <td>0</td>\n",
       "    </tr>\n",
       "  </tbody>\n",
       "</table>\n",
       "<p>5 rows × 24 columns</p>\n",
       "</div>"
      ],
      "text/plain": [
       "     DailyRate  DistanceFromHome  YearsWithCurrManager  \\\n",
       "38         852                 5                     0   \n",
       "907       1099                 5                    10   \n",
       "311       1249                 7                    11   \n",
       "77         193                 6                     0   \n",
       "287        688                23                     2   \n",
       "\n",
       "     BusinessTravel_Travel_Frequently  BusinessTravel_Travel_Rarely  \\\n",
       "38                                  0                             1   \n",
       "907                                 0                             1   \n",
       "311                                 1                             0   \n",
       "77                                  0                             1   \n",
       "287                                 0                             1   \n",
       "\n",
       "     OverTime_Yes  EducationField_Technical Degree  EnvironmentSatisfaction_2  \\\n",
       "38              1                                0                          1   \n",
       "907             0                                0                          1   \n",
       "311             0                                0                          0   \n",
       "77              1                                0                          0   \n",
       "287             0                                0                          0   \n",
       "\n",
       "     EnvironmentSatisfaction_3  EnvironmentSatisfaction_4  ...  \\\n",
       "38                           0                          0  ...   \n",
       "907                          0                          0  ...   \n",
       "311                          0                          0  ...   \n",
       "77                           0                          1  ...   \n",
       "287                          0                          1  ...   \n",
       "\n",
       "     JobRole_Sales Executive  JobRole_Sales Representative  JobSatisfaction_2  \\\n",
       "38                         0                             0                  0   \n",
       "907                        0                             0                  1   \n",
       "311                        0                             0                  0   \n",
       "77                         0                             0                  0   \n",
       "287                        0                             0                  0   \n",
       "\n",
       "     JobSatisfaction_3  JobSatisfaction_4  StockOptionLevel_1  \\\n",
       "38                   0                  0                   1   \n",
       "907                  0                  0                   1   \n",
       "311                  0                  0                   1   \n",
       "77                   0                  0                   0   \n",
       "287                  0                  1                   1   \n",
       "\n",
       "     StockOptionLevel_2  WorkLifeBalance_3  pred_prob  y_pred_class_train  \n",
       "38                    0                  0   0.399928                   1  \n",
       "907                   0                  1   0.005363                   0  \n",
       "311                   0                  1   0.049789                   0  \n",
       "77                    0                  0   0.710424                   1  \n",
       "287                   0                  1   0.009145                   0  \n",
       "\n",
       "[5 rows x 24 columns]"
      ]
     },
     "execution_count": 108,
     "metadata": {},
     "output_type": "execute_result"
    }
   ],
   "source": [
    "x_train.head()"
   ]
  },
  {
   "cell_type": "code",
   "execution_count": 109,
   "metadata": {},
   "outputs": [
    {
     "name": "stdout",
     "output_type": "stream",
     "text": [
      "y_pred_class_train    0    1\n",
      "Attrition                   \n",
      "0                   810  177\n",
      "1                    51  138\n"
     ]
    }
   ],
   "source": [
    "HR=pd.crosstab(y_train['Attrition'],x_train['y_pred_class_train'])\n",
    "print(HR)"
   ]
  },
  {
   "cell_type": "code",
   "execution_count": 110,
   "metadata": {},
   "outputs": [
    {
     "data": {
      "text/plain": [
       "0.7301587301587301"
      ]
     },
     "execution_count": 110,
     "metadata": {},
     "output_type": "execute_result"
    }
   ],
   "source": [
    "# Sensitivity (Predicting Yes (1) as Yes)\n",
    "138/(138+51)\n",
    "#we are correctly predecting 138,out of all the employees who leave the company"
   ]
  },
  {
   "cell_type": "code",
   "execution_count": 111,
   "metadata": {},
   "outputs": [
    {
     "data": {
      "text/plain": [
       "0.8206686930091185"
      ]
     },
     "execution_count": 111,
     "metadata": {},
     "output_type": "execute_result"
    }
   ],
   "source": [
    "#Specificity (Predicting No(0) as No)\n",
    "810/(810+177)\n",
    "#we are correctly predecting 810,out of all the employees who will not leave the company"
   ]
  },
  {
   "cell_type": "code",
   "execution_count": 112,
   "metadata": {},
   "outputs": [
    {
     "data": {
      "text/plain": [
       "0.8061224489795918"
      ]
     },
     "execution_count": 112,
     "metadata": {},
     "output_type": "execute_result"
    }
   ],
   "source": [
    "#accuracy\n",
    "(810+138)/(1176)\n",
    "#Since Accuracy is greater han 0.7, we can claim that our model is good"
   ]
  },
  {
   "cell_type": "markdown",
   "metadata": {},
   "source": [
    "# 2. ROC Curve Train data"
   ]
  },
  {
   "cell_type": "markdown",
   "metadata": {},
   "source": [
    "# ROC curve is ploting between Sensitivity and 1-Specificity"
   ]
  },
  {
   "cell_type": "code",
   "execution_count": 113,
   "metadata": {},
   "outputs": [
    {
     "data": {
      "image/png": "[encoded data removed]",
      "text/plain": [
       "<Figure size 432x288 with 1 Axes>"
      ]
     },
     "metadata": {
      "needs_background": "light"
     },
     "output_type": "display_data"
    }
   ],
   "source": [
    "import sklearn\n",
    "# IMPORTANT: first argument is true values, second argument is predicted probabilities\n",
    "fpr, tpr, thresholds = sklearn.metrics.roc_curve(y_train['Attrition'], x_train['pred_prob'])\n",
    "plt.plot(fpr, tpr)\n",
    "plt.xlim([0.0, 1.0])\n",
    "plt.ylim([0.0, 1.0])\n",
    "plt.title('ROC curve for diabetes classifier')\n",
    "plt.xlabel('False Positive Rate (1 - Specificity)')\n",
    "plt.ylabel('True Positive Rate (Sensitivity)')\n",
    "plt.grid(True)\n"
   ]
  },
  {
   "cell_type": "code",
   "execution_count": 114,
   "metadata": {},
   "outputs": [
    {
     "name": "stdout",
     "output_type": "stream",
     "text": [
      "0.7754137115839244\n"
     ]
    }
   ],
   "source": [
    "# IMPORTANT: first argument is true values, second argument is predicted probabilities\n",
    "print(sklearn.metrics.roc_auc_score(y_train['Attrition'], x_train['y_pred_class_train']))\n",
    "#Since AUC value is greater han 0.7, we can claim that our model is good"
   ]
  },
  {
   "cell_type": "markdown",
   "metadata": {},
   "source": [
    "# KS STATISTICS for Train data"
   ]
  },
  {
   "cell_type": "code",
   "execution_count": 115,
   "metadata": {},
   "outputs": [],
   "source": [
    "#decile = pd.qcut(x_train['y_pred_class_train'], 10, labels=list(range(10,0,-1)))"
   ]
  },
  {
   "cell_type": "code",
   "execution_count": 116,
   "metadata": {},
   "outputs": [],
   "source": [
    "def ks(data=None,target=None, prob=None):\n",
    "    data['target0'] = 1 - data[target]\n",
    "    data['bucket'] = pd.qcut(data[prob], 10)\n",
    "    grouped = data.groupby('bucket', as_index = False)\n",
    "    kstable = pd.DataFrame()\n",
    "    kstable['min_prob'] = grouped.min()[prob]\n",
    "    kstable['max_prob'] = grouped.max()[prob]\n",
    "    kstable['events']   = grouped.sum()[target]\n",
    "    kstable['nonevents'] = grouped.sum()['target0']\n",
    "    kstable = kstable.sort_values(by=\"min_prob\", ascending=False).reset_index(drop = True)\n",
    "    kstable['event_rate'] = (kstable.events / data[target].sum()).apply('{0:.2%}'.format)\n",
    "    kstable['nonevent_rate'] = (kstable.nonevents / data['target0'].sum()).apply('{0:.2%}'.format)\n",
    "    kstable['cum_eventrate']=(kstable.events / data[target].sum()).cumsum()\n",
    "    kstable['cum_noneventrate']=(kstable.nonevents / data['target0'].sum()).cumsum()\n",
    "    kstable['KS'] = np.round(kstable['cum_eventrate']-kstable['cum_noneventrate'], 3) * 100\n",
    "\n",
    "    #Formating\n",
    "    kstable['cum_eventrate']= kstable['cum_eventrate'].apply('{0:.2%}'.format)\n",
    "    kstable['cum_noneventrate']= kstable['cum_noneventrate'].apply('{0:.2%}'.format)\n",
    "    kstable.index = range(1,11)\n",
    "    kstable.index.rename('Decile', inplace=True)\n",
    "    pd.set_option('display.max_columns', 9)\n",
    "    print(kstable)\n",
    "    \n",
    "    #Display KS\n",
    "    from colorama import Fore\n",
    "    print(Fore.RED + \"KS is \" + str(max(kstable['KS']))+\"%\"+ \" at decile \" + str((kstable.index[kstable['KS']==max(kstable['KS'])][0])))\n",
    "    return(kstable)"
   ]
  },
  {
   "cell_type": "code",
   "execution_count": 117,
   "metadata": {},
   "outputs": [
    {
     "name": "stderr",
     "output_type": "stream",
     "text": [
      "C:\\Python\\Anaconda3\\lib\\site-packages\\ipykernel_launcher.py:1: SettingWithCopyWarning: \n",
      "A value is trying to be set on a copy of a slice from a DataFrame.\n",
      "Try using .loc[row_indexer,col_indexer] = value instead\n",
      "\n",
      "See the caveats in the documentation: http://pandas.pydata.org/pandas-docs/stable/user_guide/indexing.html#returning-a-view-versus-a-copy\n",
      "  \"\"\"Entry point for launching an IPython kernel.\n"
     ]
    }
   ],
   "source": [
    "x_train['Attrition']=y_train['Attrition']"
   ]
  },
  {
   "cell_type": "code",
   "execution_count": 118,
   "metadata": {},
   "outputs": [
    {
     "name": "stderr",
     "output_type": "stream",
     "text": [
      "C:\\Python\\Anaconda3\\lib\\site-packages\\ipykernel_launcher.py:2: SettingWithCopyWarning: \n",
      "A value is trying to be set on a copy of a slice from a DataFrame.\n",
      "Try using .loc[row_indexer,col_indexer] = value instead\n",
      "\n",
      "See the caveats in the documentation: http://pandas.pydata.org/pandas-docs/stable/user_guide/indexing.html#returning-a-view-versus-a-copy\n",
      "  \n",
      "C:\\Python\\Anaconda3\\lib\\site-packages\\ipykernel_launcher.py:3: SettingWithCopyWarning: \n",
      "A value is trying to be set on a copy of a slice from a DataFrame.\n",
      "Try using .loc[row_indexer,col_indexer] = value instead\n",
      "\n",
      "See the caveats in the documentation: http://pandas.pydata.org/pandas-docs/stable/user_guide/indexing.html#returning-a-view-versus-a-copy\n",
      "  This is separate from the ipykernel package so we can avoid doing imports until\n"
     ]
    },
    {
     "name": "stdout",
     "output_type": "stream",
     "text": [
      "        min_prob  max_prob  events  nonevents event_rate nonevent_rate  \\\n",
      "Decile                                                                   \n",
      "1       0.439639  0.970221      79         39     41.80%         3.95%   \n",
      "2       0.283659  0.434604      45         72     23.81%         7.29%   \n",
      "3       0.174185  0.282360      20         98     10.58%         9.93%   \n",
      "4       0.115475  0.172786      11        106      5.82%        10.74%   \n",
      "5       0.079123  0.115447      12        106      6.35%        10.74%   \n",
      "6       0.049404  0.079078       8        109      4.23%        11.04%   \n",
      "7       0.033529  0.049348       7        111      3.70%        11.25%   \n",
      "8       0.020456  0.033469       3        114      1.59%        11.55%   \n",
      "9       0.010744  0.020400       4        114      2.12%        11.55%   \n",
      "10      0.000484  0.010670       0        118      0.00%        11.96%   \n",
      "\n",
      "       cum_eventrate cum_noneventrate    KS  \n",
      "Decile                                       \n",
      "1             41.80%            3.95%  37.8  \n",
      "2             65.61%           11.25%  54.4  \n",
      "3             76.19%           21.18%  55.0  \n",
      "4             82.01%           31.91%  50.1  \n",
      "5             88.36%           42.65%  45.7  \n",
      "6             92.59%           53.70%  38.9  \n",
      "7             96.30%           64.94%  31.4  \n",
      "8             97.88%           76.49%  21.4  \n",
      "9            100.00%           88.04%  12.0  \n",
      "10           100.00%          100.00%  -0.0  \n",
      "\u001b[31mKS is 55.00000000000001% at decile 3\n"
     ]
    }
   ],
   "source": [
    "mydf = ks(data=x_train,target='Attrition', prob='pred_prob')\n",
    "# there is no much variation in the decreasing order of Events \n",
    "#76.19% of the data is at decile 3.\n",
    "# Hence we can claim that our model is good. "
   ]
  },
  {
   "cell_type": "markdown",
   "metadata": {},
   "source": [
    "# Validation forTest Data "
   ]
  },
  {
   "cell_type": "code",
   "execution_count": 119,
   "metadata": {},
   "outputs": [
    {
     "name": "stderr",
     "output_type": "stream",
     "text": [
      "C:\\Python\\Anaconda3\\lib\\site-packages\\ipykernel_launcher.py:1: SettingWithCopyWarning: \n",
      "A value is trying to be set on a copy of a slice from a DataFrame.\n",
      "Try using .loc[row_indexer,col_indexer] = value instead\n",
      "\n",
      "See the caveats in the documentation: http://pandas.pydata.org/pandas-docs/stable/user_guide/indexing.html#returning-a-view-versus-a-copy\n",
      "  \"\"\"Entry point for launching an IPython kernel.\n"
     ]
    }
   ],
   "source": [
    "x_test['pred_prob']=result.predict(x_test)"
   ]
  },
  {
   "cell_type": "code",
   "execution_count": 120,
   "metadata": {},
   "outputs": [
    {
     "data": {
      "text/html": [
       "<div>\n",
       "<style scoped>\n",
       "    .dataframe tbody tr th:only-of-type {\n",
       "        vertical-align: middle;\n",
       "    }\n",
       "\n",
       "    .dataframe tbody tr th {\n",
       "        vertical-align: top;\n",
       "    }\n",
       "\n",
       "    .dataframe thead th {\n",
       "        text-align: right;\n",
       "    }\n",
       "</style>\n",
       "<table border=\"1\" class=\"dataframe\">\n",
       "  <thead>\n",
       "    <tr style=\"text-align: right;\">\n",
       "      <th></th>\n",
       "      <th>DailyRate</th>\n",
       "      <th>DistanceFromHome</th>\n",
       "      <th>YearsWithCurrManager</th>\n",
       "      <th>BusinessTravel_Travel_Frequently</th>\n",
       "      <th>...</th>\n",
       "      <th>StockOptionLevel_1</th>\n",
       "      <th>StockOptionLevel_2</th>\n",
       "      <th>WorkLifeBalance_3</th>\n",
       "      <th>pred_prob</th>\n",
       "    </tr>\n",
       "  </thead>\n",
       "  <tbody>\n",
       "    <tr>\n",
       "      <td>405</td>\n",
       "      <td>688</td>\n",
       "      <td>3</td>\n",
       "      <td>2</td>\n",
       "      <td>0</td>\n",
       "      <td>...</td>\n",
       "      <td>1</td>\n",
       "      <td>0</td>\n",
       "      <td>1</td>\n",
       "      <td>0.079568</td>\n",
       "    </tr>\n",
       "    <tr>\n",
       "      <td>272</td>\n",
       "      <td>1158</td>\n",
       "      <td>9</td>\n",
       "      <td>4</td>\n",
       "      <td>0</td>\n",
       "      <td>...</td>\n",
       "      <td>1</td>\n",
       "      <td>0</td>\n",
       "      <td>0</td>\n",
       "      <td>0.014859</td>\n",
       "    </tr>\n",
       "    <tr>\n",
       "      <td>1382</td>\n",
       "      <td>976</td>\n",
       "      <td>3</td>\n",
       "      <td>3</td>\n",
       "      <td>0</td>\n",
       "      <td>...</td>\n",
       "      <td>1</td>\n",
       "      <td>0</td>\n",
       "      <td>0</td>\n",
       "      <td>0.073079</td>\n",
       "    </tr>\n",
       "    <tr>\n",
       "      <td>898</td>\n",
       "      <td>920</td>\n",
       "      <td>3</td>\n",
       "      <td>7</td>\n",
       "      <td>0</td>\n",
       "      <td>...</td>\n",
       "      <td>1</td>\n",
       "      <td>0</td>\n",
       "      <td>1</td>\n",
       "      <td>0.013965</td>\n",
       "    </tr>\n",
       "    <tr>\n",
       "      <td>724</td>\n",
       "      <td>1206</td>\n",
       "      <td>17</td>\n",
       "      <td>2</td>\n",
       "      <td>0</td>\n",
       "      <td>...</td>\n",
       "      <td>0</td>\n",
       "      <td>1</td>\n",
       "      <td>1</td>\n",
       "      <td>0.010310</td>\n",
       "    </tr>\n",
       "  </tbody>\n",
       "</table>\n",
       "<p>5 rows × 23 columns</p>\n",
       "</div>"
      ],
      "text/plain": [
       "      DailyRate  DistanceFromHome  YearsWithCurrManager  \\\n",
       "405         688                 3                     2   \n",
       "272        1158                 9                     4   \n",
       "1382        976                 3                     3   \n",
       "898         920                 3                     7   \n",
       "724        1206                17                     2   \n",
       "\n",
       "      BusinessTravel_Travel_Frequently  ...  StockOptionLevel_1  \\\n",
       "405                                  0  ...                   1   \n",
       "272                                  0  ...                   1   \n",
       "1382                                 0  ...                   1   \n",
       "898                                  0  ...                   1   \n",
       "724                                  0  ...                   0   \n",
       "\n",
       "      StockOptionLevel_2  WorkLifeBalance_3  pred_prob  \n",
       "405                    0                  1   0.079568  \n",
       "272                    0                  0   0.014859  \n",
       "1382                   0                  0   0.073079  \n",
       "898                    0                  1   0.013965  \n",
       "724                    1                  1   0.010310  \n",
       "\n",
       "[5 rows x 23 columns]"
      ]
     },
     "execution_count": 120,
     "metadata": {},
     "output_type": "execute_result"
    }
   ],
   "source": [
    "x_test.head()"
   ]
  },
  {
   "cell_type": "markdown",
   "metadata": {},
   "source": [
    "# 1. Confusion Matrix for Test Data"
   ]
  },
  {
   "cell_type": "code",
   "execution_count": 121,
   "metadata": {},
   "outputs": [
    {
     "name": "stderr",
     "output_type": "stream",
     "text": [
      "C:\\Python\\Anaconda3\\lib\\site-packages\\ipykernel_launcher.py:1: SettingWithCopyWarning: \n",
      "A value is trying to be set on a copy of a slice from a DataFrame.\n",
      "Try using .loc[row_indexer,col_indexer] = value instead\n",
      "\n",
      "See the caveats in the documentation: http://pandas.pydata.org/pandas-docs/stable/user_guide/indexing.html#returning-a-view-versus-a-copy\n",
      "  \"\"\"Entry point for launching an IPython kernel.\n"
     ]
    }
   ],
   "source": [
    "x_test['y_pred_class_test']=np.where(x_test['pred_prob']>=0.2,1,0)"
   ]
  },
  {
   "cell_type": "code",
   "execution_count": 122,
   "metadata": {},
   "outputs": [
    {
     "name": "stdout",
     "output_type": "stream",
     "text": [
      "y_pred_class_test    0   1\n",
      "Attrition                 \n",
      "0                  203  43\n",
      "1                   16  32\n"
     ]
    }
   ],
   "source": [
    "HR_test=pd.crosstab(y_test['Attrition'],x_test['y_pred_class_test'])\n",
    "print(HR_test)"
   ]
  },
  {
   "cell_type": "code",
   "execution_count": 123,
   "metadata": {},
   "outputs": [
    {
     "data": {
      "text/plain": [
       "0.6875"
      ]
     },
     "execution_count": 123,
     "metadata": {},
     "output_type": "execute_result"
    }
   ],
   "source": [
    "# Sensitivity (Predicting Yes (1) as Yes)\n",
    "33/(33+15)"
   ]
  },
  {
   "cell_type": "code",
   "execution_count": 124,
   "metadata": {},
   "outputs": [
    {
     "data": {
      "text/plain": [
       "0.7967479674796748"
      ]
     },
     "execution_count": 124,
     "metadata": {},
     "output_type": "execute_result"
    }
   ],
   "source": [
    "#Specificity (Predicting No(0) as No)\n",
    "196/(196+50)"
   ]
  },
  {
   "cell_type": "code",
   "execution_count": 125,
   "metadata": {},
   "outputs": [
    {
     "data": {
      "text/plain": [
       "0.7789115646258503"
      ]
     },
     "execution_count": 125,
     "metadata": {},
     "output_type": "execute_result"
    }
   ],
   "source": [
    "#accuracy\n",
    "(33+196)/(294)"
   ]
  },
  {
   "cell_type": "markdown",
   "metadata": {},
   "source": [
    "# 2. ROC Curve for Test Data\n",
    "\n",
    "\n",
    "#ROC curve is ploting between Sensitivity and 1-Specificity"
   ]
  },
  {
   "cell_type": "code",
   "execution_count": 126,
   "metadata": {},
   "outputs": [
    {
     "data": {
      "image/png": "[encoded data removed]",
      "text/plain": [
       "<Figure size 432x288 with 1 Axes>"
      ]
     },
     "metadata": {
      "needs_background": "light"
     },
     "output_type": "display_data"
    }
   ],
   "source": [
    "fpr, tpr, thresholds = sklearn.metrics.roc_curve(y_test['Attrition'], x_test['pred_prob'])\n",
    "plt.plot(fpr, tpr)\n",
    "plt.xlim([0.0, 1.0])\n",
    "plt.ylim([0.0, 1.0])\n",
    "plt.title('ROC curve for diabetes classifier')\n",
    "plt.xlabel('False Positive Rate (1 - Specificity)')\n",
    "plt.ylabel('True Positive Rate (Sensitivity)')\n",
    "plt.grid(True)\n"
   ]
  },
  {
   "cell_type": "code",
   "execution_count": 127,
   "metadata": {},
   "outputs": [
    {
     "name": "stdout",
     "output_type": "stream",
     "text": [
      "0.7459349593495934\n"
     ]
    }
   ],
   "source": [
    "# IMPORTANT: first argument is true values, second argument is predicted probabilities\n",
    "print(sklearn.metrics.roc_auc_score(y_test['Attrition'], x_test['y_pred_class_test']))"
   ]
  },
  {
   "cell_type": "markdown",
   "metadata": {},
   "source": [
    "# KS STATISTICS for Test Data"
   ]
  },
  {
   "cell_type": "code",
   "execution_count": 128,
   "metadata": {},
   "outputs": [],
   "source": [
    "def ks(data=None,target=None, prob=None):\n",
    "    data['target0'] = 1 - data[target]\n",
    "    data['bucket'] = pd.qcut(data[prob], 10)\n",
    "    grouped = data.groupby('bucket', as_index = False)\n",
    "    kstable = pd.DataFrame()\n",
    "    kstable['min_prob'] = grouped.min()[prob]\n",
    "    kstable['max_prob'] = grouped.max()[prob]\n",
    "    kstable['events']   = grouped.sum()[target]\n",
    "    kstable['nonevents'] = grouped.sum()['target0']\n",
    "    kstable = kstable.sort_values(by=\"min_prob\", ascending=False).reset_index(drop = True)\n",
    "    kstable['event_rate'] = (kstable.events / data[target].sum()).apply('{0:.2%}'.format)\n",
    "    kstable['nonevent_rate'] = (kstable.nonevents / data['target0'].sum()).apply('{0:.2%}'.format)\n",
    "    kstable['cum_eventrate']=(kstable.events / data[target].sum()).cumsum()\n",
    "    kstable['cum_noneventrate']=(kstable.nonevents / data['target0'].sum()).cumsum()\n",
    "    kstable['KS'] = np.round(kstable['cum_eventrate']-kstable['cum_noneventrate'], 3) * 100\n",
    "\n",
    "    #Formating\n",
    "    kstable['cum_eventrate']= kstable['cum_eventrate'].apply('{0:.2%}'.format)\n",
    "    kstable['cum_noneventrate']= kstable['cum_noneventrate'].apply('{0:.2%}'.format)\n",
    "    kstable.index = range(1,11)\n",
    "    kstable.index.rename('Decile', inplace=True)\n",
    "    pd.set_option('display.max_columns', 9)\n",
    "    print(kstable)\n",
    "    \n",
    "    #Display KS\n",
    "    from colorama import Fore\n",
    "    print(Fore.RED + \"KS is \" + str(max(kstable['KS']))+\"%\"+ \" at decile \" + str((kstable.index[kstable['KS']==max(kstable['KS'])][0])))\n",
    "    return(kstable)"
   ]
  },
  {
   "cell_type": "code",
   "execution_count": 129,
   "metadata": {},
   "outputs": [
    {
     "name": "stderr",
     "output_type": "stream",
     "text": [
      "C:\\Python\\Anaconda3\\lib\\site-packages\\ipykernel_launcher.py:1: SettingWithCopyWarning: \n",
      "A value is trying to be set on a copy of a slice from a DataFrame.\n",
      "Try using .loc[row_indexer,col_indexer] = value instead\n",
      "\n",
      "See the caveats in the documentation: http://pandas.pydata.org/pandas-docs/stable/user_guide/indexing.html#returning-a-view-versus-a-copy\n",
      "  \"\"\"Entry point for launching an IPython kernel.\n"
     ]
    }
   ],
   "source": [
    "x_test['Attrition']=y_test['Attrition']"
   ]
  },
  {
   "cell_type": "code",
   "execution_count": 130,
   "metadata": {},
   "outputs": [
    {
     "name": "stdout",
     "output_type": "stream",
     "text": [
      "        min_prob  max_prob  events  nonevents event_rate nonevent_rate  \\\n",
      "Decile                                                                   \n",
      "1       0.424747  0.911242      23          7     47.92%         2.85%   \n",
      "2       0.262449  0.419284       6         23     12.50%         9.35%   \n",
      "3       0.178100  0.261014       6         23     12.50%         9.35%   \n",
      "4       0.119532  0.177949       4         26      8.33%        10.57%   \n",
      "5       0.069472  0.117820       3         26      6.25%        10.57%   \n",
      "6       0.041387  0.068175       1         28      2.08%        11.38%   \n",
      "7       0.026637  0.040543       0         30      0.00%        12.20%   \n",
      "8       0.013223  0.025408       3         26      6.25%        10.57%   \n",
      "9       0.007867  0.013073       0         29      0.00%        11.79%   \n",
      "10      0.001167  0.007529       2         28      4.17%        11.38%   \n",
      "\n",
      "       cum_eventrate cum_noneventrate    KS  \n",
      "Decile                                       \n",
      "1             47.92%            2.85%  45.1  \n",
      "2             60.42%           12.20%  48.2  \n",
      "3             72.92%           21.54%  51.4  \n",
      "4             81.25%           32.11%  49.1  \n",
      "5             87.50%           42.68%  44.8  \n",
      "6             89.58%           54.07%  35.5  \n",
      "7             89.58%           66.26%  23.3  \n",
      "8             95.83%           76.83%  19.0  \n",
      "9             95.83%           88.62%   7.2  \n",
      "10           100.00%          100.00%   0.0  \n",
      "\u001b[31mKS is 51.4% at decile 3\n"
     ]
    },
    {
     "name": "stderr",
     "output_type": "stream",
     "text": [
      "C:\\Python\\Anaconda3\\lib\\site-packages\\ipykernel_launcher.py:2: SettingWithCopyWarning: \n",
      "A value is trying to be set on a copy of a slice from a DataFrame.\n",
      "Try using .loc[row_indexer,col_indexer] = value instead\n",
      "\n",
      "See the caveats in the documentation: http://pandas.pydata.org/pandas-docs/stable/user_guide/indexing.html#returning-a-view-versus-a-copy\n",
      "  \n",
      "C:\\Python\\Anaconda3\\lib\\site-packages\\ipykernel_launcher.py:3: SettingWithCopyWarning: \n",
      "A value is trying to be set on a copy of a slice from a DataFrame.\n",
      "Try using .loc[row_indexer,col_indexer] = value instead\n",
      "\n",
      "See the caveats in the documentation: http://pandas.pydata.org/pandas-docs/stable/user_guide/indexing.html#returning-a-view-versus-a-copy\n",
      "  This is separate from the ipykernel package so we can avoid doing imports until\n"
     ]
    }
   ],
   "source": [
    "mydf_test = ks(data=x_test,target='Attrition', prob='pred_prob')"
   ]
  },
  {
   "cell_type": "code",
   "execution_count": null,
   "metadata": {},
   "outputs": [],
   "source": []
  },
  {
   "cell_type": "markdown",
   "metadata": {},
   "source": [
    "# Model Improvisation"
   ]
  },
  {
   "cell_type": "code",
   "execution_count": 131,
   "metadata": {},
   "outputs": [
    {
     "data": {
      "text/html": [
       "<div>\n",
       "<style scoped>\n",
       "    .dataframe tbody tr th:only-of-type {\n",
       "        vertical-align: middle;\n",
       "    }\n",
       "\n",
       "    .dataframe tbody tr th {\n",
       "        vertical-align: top;\n",
       "    }\n",
       "\n",
       "    .dataframe thead th {\n",
       "        text-align: right;\n",
       "    }\n",
       "</style>\n",
       "<table border=\"1\" class=\"dataframe\">\n",
       "  <thead>\n",
       "    <tr style=\"text-align: right;\">\n",
       "      <th></th>\n",
       "      <th>Attrition</th>\n",
       "      <th>Age</th>\n",
       "      <th>BusinessTravel</th>\n",
       "      <th>DailyRate</th>\n",
       "      <th>...</th>\n",
       "      <th>YearsAtCompany</th>\n",
       "      <th>YearsInCurrentRole</th>\n",
       "      <th>YearsSinceLastPromotion</th>\n",
       "      <th>YearsWithCurrManager</th>\n",
       "    </tr>\n",
       "  </thead>\n",
       "  <tbody>\n",
       "    <tr>\n",
       "      <td>0</td>\n",
       "      <td>1</td>\n",
       "      <td>41</td>\n",
       "      <td>Travel_Rarely</td>\n",
       "      <td>1102</td>\n",
       "      <td>...</td>\n",
       "      <td>6</td>\n",
       "      <td>4</td>\n",
       "      <td>0</td>\n",
       "      <td>5</td>\n",
       "    </tr>\n",
       "    <tr>\n",
       "      <td>1</td>\n",
       "      <td>0</td>\n",
       "      <td>49</td>\n",
       "      <td>Travel_Frequently</td>\n",
       "      <td>279</td>\n",
       "      <td>...</td>\n",
       "      <td>10</td>\n",
       "      <td>7</td>\n",
       "      <td>1</td>\n",
       "      <td>7</td>\n",
       "    </tr>\n",
       "  </tbody>\n",
       "</table>\n",
       "<p>2 rows × 35 columns</p>\n",
       "</div>"
      ],
      "text/plain": [
       "   Attrition  Age     BusinessTravel  DailyRate  ... YearsAtCompany  \\\n",
       "0          1   41      Travel_Rarely       1102  ...              6   \n",
       "1          0   49  Travel_Frequently        279  ...             10   \n",
       "\n",
       "   YearsInCurrentRole  YearsSinceLastPromotion YearsWithCurrManager  \n",
       "0                   4                        0                    5  \n",
       "1                   7                        1                    7  \n",
       "\n",
       "[2 rows x 35 columns]"
      ]
     },
     "execution_count": 131,
     "metadata": {},
     "output_type": "execute_result"
    }
   ],
   "source": [
    "HR_Attrition.head(2)"
   ]
  },
  {
   "cell_type": "code",
   "execution_count": 199,
   "metadata": {},
   "outputs": [],
   "source": [
    "HR_Attrition.drop(['Education','EmployeeCount','EmployeeNumber', 'Gender','HourlyRate','MonthlyRate','NumCompaniesWorked','Over18','PercentSalaryHike','PerformanceRating','RelationshipSatisfaction','StandardHours','YearsSinceLastPromotion'],axis=1,inplace=True)"
   ]
  },
  {
   "cell_type": "code",
   "execution_count": 200,
   "metadata": {},
   "outputs": [],
   "source": [
    "HR_Attrition.Attrition.replace(('Yes', 'No'), (1, 0), inplace=True)"
   ]
  },
  {
   "cell_type": "code",
   "execution_count": null,
   "metadata": {},
   "outputs": [],
   "source": []
  },
  {
   "cell_type": "code",
   "execution_count": 201,
   "metadata": {},
   "outputs": [
    {
     "data": {
      "text/plain": [
       "(1470, 22)"
      ]
     },
     "execution_count": 201,
     "metadata": {},
     "output_type": "execute_result"
    }
   ],
   "source": [
    "HR_Attrition.shape"
   ]
  },
  {
   "cell_type": "code",
   "execution_count": 202,
   "metadata": {},
   "outputs": [],
   "source": [
    "y=HR_Attrition.iloc[:,:-21]\n",
    "x=HR_Attrition.iloc[:,1:22]"
   ]
  },
  {
   "cell_type": "code",
   "execution_count": 203,
   "metadata": {},
   "outputs": [
    {
     "data": {
      "text/plain": [
       "(1470, 41)"
      ]
     },
     "execution_count": 203,
     "metadata": {},
     "output_type": "execute_result"
    }
   ],
   "source": [
    "x3 = pd.get_dummies(x) \n",
    "x3.shape"
   ]
  },
  {
   "cell_type": "code",
   "execution_count": 204,
   "metadata": {},
   "outputs": [
    {
     "data": {
      "text/plain": [
       "Index(['Age', 'DailyRate', 'DistanceFromHome', 'EnvironmentSatisfaction',\n",
       "       'JobInvolvement', 'JobLevel', 'JobSatisfaction', 'MonthlyIncome',\n",
       "       'StockOptionLevel', 'TotalWorkingYears', 'TrainingTimesLastYear',\n",
       "       'WorkLifeBalance', 'YearsAtCompany', 'YearsInCurrentRole',\n",
       "       'YearsWithCurrManager', 'BusinessTravel_Non-Travel',\n",
       "       'BusinessTravel_Travel_Frequently', 'BusinessTravel_Travel_Rarely',\n",
       "       'Department_Human Resources', 'Department_Research & Development',\n",
       "       'Department_Sales', 'EducationField_Human Resources',\n",
       "       'EducationField_Life Sciences', 'EducationField_Marketing',\n",
       "       'EducationField_Medical', 'EducationField_Other',\n",
       "       'EducationField_Technical Degree', 'JobRole_Healthcare Representative',\n",
       "       'JobRole_Human Resources', 'JobRole_Laboratory Technician',\n",
       "       'JobRole_Manager', 'JobRole_Manufacturing Director',\n",
       "       'JobRole_Research Director', 'JobRole_Research Scientist',\n",
       "       'JobRole_Sales Executive', 'JobRole_Sales Representative',\n",
       "       'MaritalStatus_Divorced', 'MaritalStatus_Married',\n",
       "       'MaritalStatus_Single', 'OverTime_No', 'OverTime_Yes'],\n",
       "      dtype='object')"
      ]
     },
     "execution_count": 204,
     "metadata": {},
     "output_type": "execute_result"
    }
   ],
   "source": [
    "x3.columns"
   ]
  },
  {
   "cell_type": "code",
   "execution_count": 205,
   "metadata": {},
   "outputs": [],
   "source": [
    "x3 = x3.drop([\"BusinessTravel_Non-Travel\"], axis=1)\n",
    "x3 = x3.drop([\"Department_Sales\"], axis=1)\n",
    "x3 = x3.drop([\"EducationField_Medical\"], axis=1)\n",
    "x3 = x3.drop([\"JobRole_Manager\"], axis=1)\n",
    "x3 = x3.drop([\"MaritalStatus_Single\"], axis=1)\n",
    "x3 = x3.drop([\"OverTime_No\"], axis=1)"
   ]
  },
  {
   "cell_type": "code",
   "execution_count": 206,
   "metadata": {},
   "outputs": [],
   "source": [
    "def vif_cal(input_data):\n",
    "    x_vars=input_data\n",
    "    xvar_names=x_vars.columns\n",
    "    for i in range(0,xvar_names.shape[0]):\n",
    "        y=x_vars[xvar_names[i]] \n",
    "        x=x_vars[xvar_names.drop(xvar_names[i])]\n",
    "        rsq=sm.ols(formula=\"y~x\", data=x_vars).fit().rsquared  \n",
    "        vif=round(1/(1-rsq),2)\n",
    "        print (xvar_names[i], \" VIF = \" , vif)"
   ]
  },
  {
   "cell_type": "code",
   "execution_count": 207,
   "metadata": {},
   "outputs": [
    {
     "name": "stdout",
     "output_type": "stream",
     "text": [
      "Age  VIF =  2.0\n",
      "DailyRate  VIF =  1.03\n",
      "DistanceFromHome  VIF =  1.02\n",
      "EnvironmentSatisfaction  VIF =  1.02\n",
      "JobInvolvement  VIF =  1.03\n",
      "JobLevel  VIF =  14.07\n",
      "JobSatisfaction  VIF =  1.01\n",
      "MonthlyIncome  VIF =  17.97\n",
      "StockOptionLevel  VIF =  1.9\n",
      "TotalWorkingYears  VIF =  4.77\n",
      "TrainingTimesLastYear  VIF =  1.03\n",
      "WorkLifeBalance  VIF =  1.03\n",
      "YearsAtCompany  VIF =  4.23\n",
      "YearsInCurrentRole  VIF =  2.73\n",
      "YearsWithCurrManager  VIF =  2.84\n",
      "BusinessTravel_Travel_Frequently  VIF =  2.36\n",
      "BusinessTravel_Travel_Rarely  VIF =  2.36\n",
      "Department_Human Resources  VIF =  8.49\n",
      "Department_Research & Development  VIF =  15.89\n",
      "EducationField_Human Resources  VIF =  1.8\n",
      "EducationField_Life Sciences  VIF =  1.39\n",
      "EducationField_Marketing  VIF =  1.66\n",
      "EducationField_Other  VIF =  1.13\n",
      "EducationField_Technical Degree  VIF =  1.2\n",
      "JobRole_Healthcare Representative  VIF =  5.25\n",
      "JobRole_Human Resources  VIF =  7.35\n",
      "JobRole_Laboratory Technician  VIF =  12.22\n",
      "JobRole_Manufacturing Director  VIF =  5.76\n",
      "JobRole_Research Director  VIF =  2.4\n",
      "JobRole_Research Scientist  VIF =  13.37\n",
      "JobRole_Sales Executive  VIF =  12.32\n",
      "JobRole_Sales Representative  VIF =  5.89\n",
      "MaritalStatus_Divorced  VIF =  2.41\n",
      "MaritalStatus_Married  VIF =  2.05\n",
      "OverTime_Yes  VIF =  1.03\n"
     ]
    }
   ],
   "source": [
    "import statsmodels.formula.api as sm\n",
    "#Calculating VIF values using that function\n",
    "vif_cal(input_data=x3)\n",
    "from statsmodels.stats.outliers_influence import variance_inflation_factor\n"
   ]
  },
  {
   "cell_type": "code",
   "execution_count": 208,
   "metadata": {},
   "outputs": [],
   "source": [
    "#Drop the variables if VIF>5\n",
    "x3 = x3.drop([\"JobLevel\"], axis=1)\n",
    "x3 = x3.drop([\"MonthlyIncome\"], axis=1)\n",
    "x3 = x3.drop([\"Department_Research & Development\"], axis=1)\n",
    "x3 = x3.drop([\"JobRole_Laboratory Technician\"], axis=1)\n",
    "x3 = x3.drop([\"JobRole_Research Scientist\"], axis=1)\n",
    "x3 = x3.drop([\"JobRole_Sales Executive\"], axis=1)\n",
    "x3 = x3.drop([\"JobRole_Sales Representative\"], axis=1)\n",
    "x3 = x3.drop([\"JobRole_Manufacturing Director\"], axis=1)\n",
    "x3 = x3.drop([\"JobRole_Healthcare Representative\"], axis=1)\n",
    "x3 = x3.drop([\"Department_Human Resources\"], axis=1)"
   ]
  },
  {
   "cell_type": "code",
   "execution_count": null,
   "metadata": {},
   "outputs": [],
   "source": []
  },
  {
   "cell_type": "code",
   "execution_count": 209,
   "metadata": {},
   "outputs": [],
   "source": [
    "##Spillting Train and Test Data Test\n",
    "from sklearn.model_selection import train_test_split\n",
    "x_train, x_test, y_train, y_test=train_test_split(x3,y,test_size=0.2,random_state=11)"
   ]
  },
  {
   "cell_type": "code",
   "execution_count": 210,
   "metadata": {},
   "outputs": [
    {
     "name": "stdout",
     "output_type": "stream",
     "text": [
      "Optimization terminated successfully.\n",
      "         Current function value: 0.330353\n",
      "         Iterations 8\n"
     ]
    }
   ],
   "source": [
    "import statsmodels.api as sm\n",
    "model=sm.Logit(y_train,x_train)\n",
    "result=model.fit()"
   ]
  },
  {
   "cell_type": "code",
   "execution_count": 211,
   "metadata": {},
   "outputs": [
    {
     "data": {
      "text/html": [
       "<table class=\"simpletable\">\n",
       "<caption>Logit Regression Results</caption>\n",
       "<tr>\n",
       "  <th>Dep. Variable:</th>       <td>Attrition</td>    <th>  No. Observations:  </th>  <td>  1176</td>  \n",
       "</tr>\n",
       "<tr>\n",
       "  <th>Model:</th>                 <td>Logit</td>      <th>  Df Residuals:      </th>  <td>  1151</td>  \n",
       "</tr>\n",
       "<tr>\n",
       "  <th>Method:</th>                 <td>MLE</td>       <th>  Df Model:          </th>  <td>    24</td>  \n",
       "</tr>\n",
       "<tr>\n",
       "  <th>Date:</th>            <td>Thu, 28 May 2020</td> <th>  Pseudo R-squ.:     </th>  <td>0.2507</td>  \n",
       "</tr>\n",
       "<tr>\n",
       "  <th>Time:</th>                <td>14:38:17</td>     <th>  Log-Likelihood:    </th> <td> -388.49</td> \n",
       "</tr>\n",
       "<tr>\n",
       "  <th>converged:</th>             <td>True</td>       <th>  LL-Null:           </th> <td> -518.44</td> \n",
       "</tr>\n",
       "<tr>\n",
       "  <th>Covariance Type:</th>     <td>nonrobust</td>    <th>  LLR p-value:       </th> <td>1.790e-41</td>\n",
       "</tr>\n",
       "</table>\n",
       "<table class=\"simpletable\">\n",
       "<tr>\n",
       "                  <td></td>                    <th>coef</th>     <th>std err</th>      <th>z</th>      <th>P>|z|</th>  <th>[0.025</th>    <th>0.975]</th>  \n",
       "</tr>\n",
       "<tr>\n",
       "  <th>Age</th>                              <td>    0.0029</td> <td>    0.012</td> <td>    0.243</td> <td> 0.808</td> <td>   -0.021</td> <td>    0.027</td>\n",
       "</tr>\n",
       "<tr>\n",
       "  <th>DailyRate</th>                        <td>   -0.0002</td> <td>    0.000</td> <td>   -0.823</td> <td> 0.411</td> <td>   -0.001</td> <td>    0.000</td>\n",
       "</tr>\n",
       "<tr>\n",
       "  <th>DistanceFromHome</th>                 <td>    0.0493</td> <td>    0.011</td> <td>    4.539</td> <td> 0.000</td> <td>    0.028</td> <td>    0.071</td>\n",
       "</tr>\n",
       "<tr>\n",
       "  <th>EnvironmentSatisfaction</th>          <td>   -0.2723</td> <td>    0.085</td> <td>   -3.218</td> <td> 0.001</td> <td>   -0.438</td> <td>   -0.106</td>\n",
       "</tr>\n",
       "<tr>\n",
       "  <th>JobInvolvement</th>                   <td>   -0.3849</td> <td>    0.121</td> <td>   -3.169</td> <td> 0.002</td> <td>   -0.623</td> <td>   -0.147</td>\n",
       "</tr>\n",
       "<tr>\n",
       "  <th>JobSatisfaction</th>                  <td>   -0.2944</td> <td>    0.082</td> <td>   -3.591</td> <td> 0.000</td> <td>   -0.455</td> <td>   -0.134</td>\n",
       "</tr>\n",
       "<tr>\n",
       "  <th>StockOptionLevel</th>                 <td>   -0.1125</td> <td>    0.165</td> <td>   -0.681</td> <td> 0.496</td> <td>   -0.436</td> <td>    0.211</td>\n",
       "</tr>\n",
       "<tr>\n",
       "  <th>TotalWorkingYears</th>                <td>   -0.0728</td> <td>    0.023</td> <td>   -3.158</td> <td> 0.002</td> <td>   -0.118</td> <td>   -0.028</td>\n",
       "</tr>\n",
       "<tr>\n",
       "  <th>TrainingTimesLastYear</th>            <td>   -0.0734</td> <td>    0.075</td> <td>   -0.982</td> <td> 0.326</td> <td>   -0.220</td> <td>    0.073</td>\n",
       "</tr>\n",
       "<tr>\n",
       "  <th>WorkLifeBalance</th>                  <td>   -0.1336</td> <td>    0.119</td> <td>   -1.123</td> <td> 0.262</td> <td>   -0.367</td> <td>    0.100</td>\n",
       "</tr>\n",
       "<tr>\n",
       "  <th>YearsAtCompany</th>                   <td>    0.0645</td> <td>    0.036</td> <td>    1.770</td> <td> 0.077</td> <td>   -0.007</td> <td>    0.136</td>\n",
       "</tr>\n",
       "<tr>\n",
       "  <th>YearsInCurrentRole</th>               <td>   -0.0608</td> <td>    0.049</td> <td>   -1.248</td> <td> 0.212</td> <td>   -0.156</td> <td>    0.035</td>\n",
       "</tr>\n",
       "<tr>\n",
       "  <th>YearsWithCurrManager</th>             <td>   -0.1006</td> <td>    0.050</td> <td>   -2.018</td> <td> 0.044</td> <td>   -0.198</td> <td>   -0.003</td>\n",
       "</tr>\n",
       "<tr>\n",
       "  <th>BusinessTravel_Travel_Frequently</th> <td>    2.2030</td> <td>    0.450</td> <td>    4.901</td> <td> 0.000</td> <td>    1.322</td> <td>    3.084</td>\n",
       "</tr>\n",
       "<tr>\n",
       "  <th>BusinessTravel_Travel_Rarely</th>     <td>    1.3969</td> <td>    0.417</td> <td>    3.351</td> <td> 0.001</td> <td>    0.580</td> <td>    2.214</td>\n",
       "</tr>\n",
       "<tr>\n",
       "  <th>EducationField_Human Resources</th>   <td>    1.3550</td> <td>    0.755</td> <td>    1.795</td> <td> 0.073</td> <td>   -0.124</td> <td>    2.834</td>\n",
       "</tr>\n",
       "<tr>\n",
       "  <th>EducationField_Life Sciences</th>     <td>    0.2834</td> <td>    0.228</td> <td>    1.241</td> <td> 0.214</td> <td>   -0.164</td> <td>    0.731</td>\n",
       "</tr>\n",
       "<tr>\n",
       "  <th>EducationField_Marketing</th>         <td>    0.7295</td> <td>    0.318</td> <td>    2.292</td> <td> 0.022</td> <td>    0.106</td> <td>    1.353</td>\n",
       "</tr>\n",
       "<tr>\n",
       "  <th>EducationField_Other</th>             <td>   -0.0057</td> <td>    0.438</td> <td>   -0.013</td> <td> 0.990</td> <td>   -0.864</td> <td>    0.852</td>\n",
       "</tr>\n",
       "<tr>\n",
       "  <th>EducationField_Technical Degree</th>  <td>    1.2140</td> <td>    0.319</td> <td>    3.809</td> <td> 0.000</td> <td>    0.589</td> <td>    1.839</td>\n",
       "</tr>\n",
       "<tr>\n",
       "  <th>JobRole_Human Resources</th>          <td>    0.2058</td> <td>    0.564</td> <td>    0.365</td> <td> 0.715</td> <td>   -0.899</td> <td>    1.311</td>\n",
       "</tr>\n",
       "<tr>\n",
       "  <th>JobRole_Research Director</th>        <td>   -1.3718</td> <td>    0.806</td> <td>   -1.702</td> <td> 0.089</td> <td>   -2.952</td> <td>    0.208</td>\n",
       "</tr>\n",
       "<tr>\n",
       "  <th>MaritalStatus_Divorced</th>           <td>   -1.0320</td> <td>    0.361</td> <td>   -2.859</td> <td> 0.004</td> <td>   -1.740</td> <td>   -0.324</td>\n",
       "</tr>\n",
       "<tr>\n",
       "  <th>MaritalStatus_Married</th>            <td>   -0.8295</td> <td>    0.265</td> <td>   -3.136</td> <td> 0.002</td> <td>   -1.348</td> <td>   -0.311</td>\n",
       "</tr>\n",
       "<tr>\n",
       "  <th>OverTime_Yes</th>                     <td>    1.7125</td> <td>    0.193</td> <td>    8.892</td> <td> 0.000</td> <td>    1.335</td> <td>    2.090</td>\n",
       "</tr>\n",
       "</table>"
      ],
      "text/plain": [
       "<class 'statsmodels.iolib.summary.Summary'>\n",
       "\"\"\"\n",
       "                           Logit Regression Results                           \n",
       "==============================================================================\n",
       "Dep. Variable:              Attrition   No. Observations:                 1176\n",
       "Model:                          Logit   Df Residuals:                     1151\n",
       "Method:                           MLE   Df Model:                           24\n",
       "Date:                Thu, 28 May 2020   Pseudo R-squ.:                  0.2507\n",
       "Time:                        14:38:17   Log-Likelihood:                -388.49\n",
       "converged:                       True   LL-Null:                       -518.44\n",
       "Covariance Type:            nonrobust   LLR p-value:                 1.790e-41\n",
       "====================================================================================================\n",
       "                                       coef    std err          z      P>|z|      [0.025      0.975]\n",
       "----------------------------------------------------------------------------------------------------\n",
       "Age                                  0.0029      0.012      0.243      0.808      -0.021       0.027\n",
       "DailyRate                           -0.0002      0.000     -0.823      0.411      -0.001       0.000\n",
       "DistanceFromHome                     0.0493      0.011      4.539      0.000       0.028       0.071\n",
       "EnvironmentSatisfaction             -0.2723      0.085     -3.218      0.001      -0.438      -0.106\n",
       "JobInvolvement                      -0.3849      0.121     -3.169      0.002      -0.623      -0.147\n",
       "JobSatisfaction                     -0.2944      0.082     -3.591      0.000      -0.455      -0.134\n",
       "StockOptionLevel                    -0.1125      0.165     -0.681      0.496      -0.436       0.211\n",
       "TotalWorkingYears                   -0.0728      0.023     -3.158      0.002      -0.118      -0.028\n",
       "TrainingTimesLastYear               -0.0734      0.075     -0.982      0.326      -0.220       0.073\n",
       "WorkLifeBalance                     -0.1336      0.119     -1.123      0.262      -0.367       0.100\n",
       "YearsAtCompany                       0.0645      0.036      1.770      0.077      -0.007       0.136\n",
       "YearsInCurrentRole                  -0.0608      0.049     -1.248      0.212      -0.156       0.035\n",
       "YearsWithCurrManager                -0.1006      0.050     -2.018      0.044      -0.198      -0.003\n",
       "BusinessTravel_Travel_Frequently     2.2030      0.450      4.901      0.000       1.322       3.084\n",
       "BusinessTravel_Travel_Rarely         1.3969      0.417      3.351      0.001       0.580       2.214\n",
       "EducationField_Human Resources       1.3550      0.755      1.795      0.073      -0.124       2.834\n",
       "EducationField_Life Sciences         0.2834      0.228      1.241      0.214      -0.164       0.731\n",
       "EducationField_Marketing             0.7295      0.318      2.292      0.022       0.106       1.353\n",
       "EducationField_Other                -0.0057      0.438     -0.013      0.990      -0.864       0.852\n",
       "EducationField_Technical Degree      1.2140      0.319      3.809      0.000       0.589       1.839\n",
       "JobRole_Human Resources              0.2058      0.564      0.365      0.715      -0.899       1.311\n",
       "JobRole_Research Director           -1.3718      0.806     -1.702      0.089      -2.952       0.208\n",
       "MaritalStatus_Divorced              -1.0320      0.361     -2.859      0.004      -1.740      -0.324\n",
       "MaritalStatus_Married               -0.8295      0.265     -3.136      0.002      -1.348      -0.311\n",
       "OverTime_Yes                         1.7125      0.193      8.892      0.000       1.335       2.090\n",
       "====================================================================================================\n",
       "\"\"\""
      ]
     },
     "execution_count": 211,
     "metadata": {},
     "output_type": "execute_result"
    }
   ],
   "source": [
    "result.summary()"
   ]
  },
  {
   "cell_type": "code",
   "execution_count": 212,
   "metadata": {},
   "outputs": [],
   "source": [
    "x3 = x3.drop([\"Age\"], axis=1)\n",
    "x3 = x3.drop([\"DailyRate\"], axis=1)\n",
    "x3 = x3.drop([\"StockOptionLevel\"], axis=1)\n",
    "x3 = x3.drop([\"EducationField_Human Resources\"], axis=1)\n",
    "x3 = x3.drop([\"WorkLifeBalance\"], axis=1)\n",
    "x3 = x3.drop([\"TrainingTimesLastYear\"], axis=1)\n",
    "x3 = x3.drop([\"YearsAtCompany\"], axis=1)\n",
    "x3 = x3.drop([\"YearsInCurrentRole\"], axis=1)\n",
    "x3 = x3.drop([\"EducationField_Life Sciences\"], axis=1)\n",
    "x3 = x3.drop([\"EducationField_Other\"], axis=1)\n",
    "x3 = x3.drop([\"JobRole_Human Resources\"], axis=1)\n",
    "x3 = x3.drop([\"JobRole_Research Director\"], axis=1)"
   ]
  },
  {
   "cell_type": "code",
   "execution_count": 141,
   "metadata": {},
   "outputs": [],
   "source": [
    "# p value for Age,DailyRate,JobLevel,MonthlyIncome,StockOptionLevel,TotalWorkingYears,YearsInCurrentRole,\n",
    "#Department_Human Resources,Department_Research & Development,EducationField_Human Resources,\n",
    "#EducationField_Life Sciences,EducationField_Marketing,EducationField_Other,JobRole_Healthcare Representative\n",
    "#JobRole_Human Resources,JobRole_Laboratory Technician,JobRole_Manufacturing Director,JobRole_Research Director\n",
    "#JobRole_Research Scientist are >0.05 , so drop all that columns and rerun the model.\n"
   ]
  },
  {
   "cell_type": "code",
   "execution_count": 142,
   "metadata": {},
   "outputs": [],
   "source": [
    "#x3 = x3.drop([\"Age\"], axis=1)\n",
    "#x3 = x3.drop([\"DailyRate\"], axis=1)\n",
    "#x3 = x3.drop([\"JobLevel\"], axis=1)\n",
    "#x3 = x3.drop([\"MonthlyIncome\"], axis=1)\n",
    "#x3 = x3.drop([\"StockOptionLevel\"], axis=1)\n",
    "#x3 = x3.drop([\"TotalWorkingYears\"], axis=1)\n",
    "#x3 = x3.drop([\"YearsInCurrentRole\"], axis=1)\n",
    "#x3 = x3.drop([\"Department_Human Resources\"], axis=1)\n",
    "#x3 = x3.drop([\"Department_Research & Development\"], axis=1)\n",
    "#x3 = x3.drop([\"EducationField_Human Resources\"], axis=1)\n",
    "#x3 = x3.drop([\"EducationField_Life Sciences\"], axis=1)\n",
    "#x3 = x3.drop([\"EducationField_Marketing\"], axis=1)\n",
    "#x3 = x3.drop([\"EducationField_Other\"], axis=1)\n",
    "#x3 = x3.drop([\"JobRole_Healthcare Representative\"], axis=1)\n",
    "#x3 = x3.drop([\"JobRole_Human Resources\"], axis=1)\n",
    "#x3 = x3.drop([\"JobRole_Laboratory Technician\"], axis=1)\n",
    "#x3 = x3.drop([\"JobRole_Manufacturing Director\"], axis=1)\n",
    "#x3 = x3.drop([\"JobRole_Research Director\"], axis=1)\n",
    "#x3 = x3.drop([\"JobRole_Research Scientist\"], axis=1)"
   ]
  },
  {
   "cell_type": "code",
   "execution_count": 213,
   "metadata": {},
   "outputs": [],
   "source": [
    "##Spillting Train and Test Data Test\n",
    "from sklearn.model_selection import train_test_split\n",
    "x_train, x_test, y_train, y_test=train_test_split(x3,y,test_size=0.2,random_state=11)"
   ]
  },
  {
   "cell_type": "code",
   "execution_count": 214,
   "metadata": {},
   "outputs": [
    {
     "data": {
      "text/plain": [
       "(294, 13)"
      ]
     },
     "execution_count": 214,
     "metadata": {},
     "output_type": "execute_result"
    }
   ],
   "source": [
    "x_test.shape"
   ]
  },
  {
   "cell_type": "code",
   "execution_count": 215,
   "metadata": {},
   "outputs": [
    {
     "name": "stdout",
     "output_type": "stream",
     "text": [
      "Optimization terminated successfully.\n",
      "         Current function value: 0.338283\n",
      "         Iterations 7\n"
     ]
    }
   ],
   "source": [
    "model=sm.Logit(y_train,x_train)\n",
    "result=model.fit()"
   ]
  },
  {
   "cell_type": "code",
   "execution_count": 216,
   "metadata": {},
   "outputs": [
    {
     "data": {
      "text/html": [
       "<table class=\"simpletable\">\n",
       "<caption>Logit Regression Results</caption>\n",
       "<tr>\n",
       "  <th>Dep. Variable:</th>       <td>Attrition</td>    <th>  No. Observations:  </th>  <td>  1176</td>  \n",
       "</tr>\n",
       "<tr>\n",
       "  <th>Model:</th>                 <td>Logit</td>      <th>  Df Residuals:      </th>  <td>  1163</td>  \n",
       "</tr>\n",
       "<tr>\n",
       "  <th>Method:</th>                 <td>MLE</td>       <th>  Df Model:          </th>  <td>    12</td>  \n",
       "</tr>\n",
       "<tr>\n",
       "  <th>Date:</th>            <td>Thu, 28 May 2020</td> <th>  Pseudo R-squ.:     </th>  <td>0.2327</td>  \n",
       "</tr>\n",
       "<tr>\n",
       "  <th>Time:</th>                <td>14:41:31</td>     <th>  Log-Likelihood:    </th> <td> -397.82</td> \n",
       "</tr>\n",
       "<tr>\n",
       "  <th>converged:</th>             <td>True</td>       <th>  LL-Null:           </th> <td> -518.44</td> \n",
       "</tr>\n",
       "<tr>\n",
       "  <th>Covariance Type:</th>     <td>nonrobust</td>    <th>  LLR p-value:       </th> <td>9.142e-45</td>\n",
       "</tr>\n",
       "</table>\n",
       "<table class=\"simpletable\">\n",
       "<tr>\n",
       "                  <td></td>                    <th>coef</th>     <th>std err</th>      <th>z</th>      <th>P>|z|</th>  <th>[0.025</th>    <th>0.975]</th>  \n",
       "</tr>\n",
       "<tr>\n",
       "  <th>DistanceFromHome</th>                 <td>    0.0474</td> <td>    0.011</td> <td>    4.477</td> <td> 0.000</td> <td>    0.027</td> <td>    0.068</td>\n",
       "</tr>\n",
       "<tr>\n",
       "  <th>EnvironmentSatisfaction</th>          <td>   -0.2751</td> <td>    0.080</td> <td>   -3.459</td> <td> 0.001</td> <td>   -0.431</td> <td>   -0.119</td>\n",
       "</tr>\n",
       "<tr>\n",
       "  <th>JobInvolvement</th>                   <td>   -0.4229</td> <td>    0.111</td> <td>   -3.809</td> <td> 0.000</td> <td>   -0.641</td> <td>   -0.205</td>\n",
       "</tr>\n",
       "<tr>\n",
       "  <th>JobSatisfaction</th>                  <td>   -0.3046</td> <td>    0.078</td> <td>   -3.930</td> <td> 0.000</td> <td>   -0.456</td> <td>   -0.153</td>\n",
       "</tr>\n",
       "<tr>\n",
       "  <th>TotalWorkingYears</th>                <td>   -0.0691</td> <td>    0.016</td> <td>   -4.231</td> <td> 0.000</td> <td>   -0.101</td> <td>   -0.037</td>\n",
       "</tr>\n",
       "<tr>\n",
       "  <th>YearsWithCurrManager</th>             <td>   -0.0731</td> <td>    0.033</td> <td>   -2.232</td> <td> 0.026</td> <td>   -0.137</td> <td>   -0.009</td>\n",
       "</tr>\n",
       "<tr>\n",
       "  <th>BusinessTravel_Travel_Frequently</th> <td>    1.9635</td> <td>    0.392</td> <td>    5.010</td> <td> 0.000</td> <td>    1.195</td> <td>    2.732</td>\n",
       "</tr>\n",
       "<tr>\n",
       "  <th>BusinessTravel_Travel_Rarely</th>     <td>    1.1496</td> <td>    0.354</td> <td>    3.243</td> <td> 0.001</td> <td>    0.455</td> <td>    1.844</td>\n",
       "</tr>\n",
       "<tr>\n",
       "  <th>EducationField_Marketing</th>         <td>    0.5269</td> <td>    0.281</td> <td>    1.874</td> <td> 0.061</td> <td>   -0.024</td> <td>    1.078</td>\n",
       "</tr>\n",
       "<tr>\n",
       "  <th>EducationField_Technical Degree</th>  <td>    0.9522</td> <td>    0.282</td> <td>    3.378</td> <td> 0.001</td> <td>    0.400</td> <td>    1.505</td>\n",
       "</tr>\n",
       "<tr>\n",
       "  <th>MaritalStatus_Divorced</th>           <td>   -1.1159</td> <td>    0.259</td> <td>   -4.312</td> <td> 0.000</td> <td>   -1.623</td> <td>   -0.609</td>\n",
       "</tr>\n",
       "<tr>\n",
       "  <th>MaritalStatus_Married</th>            <td>   -0.9348</td> <td>    0.202</td> <td>   -4.618</td> <td> 0.000</td> <td>   -1.332</td> <td>   -0.538</td>\n",
       "</tr>\n",
       "<tr>\n",
       "  <th>OverTime_Yes</th>                     <td>    1.6747</td> <td>    0.189</td> <td>    8.858</td> <td> 0.000</td> <td>    1.304</td> <td>    2.045</td>\n",
       "</tr>\n",
       "</table>"
      ],
      "text/plain": [
       "<class 'statsmodels.iolib.summary.Summary'>\n",
       "\"\"\"\n",
       "                           Logit Regression Results                           \n",
       "==============================================================================\n",
       "Dep. Variable:              Attrition   No. Observations:                 1176\n",
       "Model:                          Logit   Df Residuals:                     1163\n",
       "Method:                           MLE   Df Model:                           12\n",
       "Date:                Thu, 28 May 2020   Pseudo R-squ.:                  0.2327\n",
       "Time:                        14:41:31   Log-Likelihood:                -397.82\n",
       "converged:                       True   LL-Null:                       -518.44\n",
       "Covariance Type:            nonrobust   LLR p-value:                 9.142e-45\n",
       "====================================================================================================\n",
       "                                       coef    std err          z      P>|z|      [0.025      0.975]\n",
       "----------------------------------------------------------------------------------------------------\n",
       "DistanceFromHome                     0.0474      0.011      4.477      0.000       0.027       0.068\n",
       "EnvironmentSatisfaction             -0.2751      0.080     -3.459      0.001      -0.431      -0.119\n",
       "JobInvolvement                      -0.4229      0.111     -3.809      0.000      -0.641      -0.205\n",
       "JobSatisfaction                     -0.3046      0.078     -3.930      0.000      -0.456      -0.153\n",
       "TotalWorkingYears                   -0.0691      0.016     -4.231      0.000      -0.101      -0.037\n",
       "YearsWithCurrManager                -0.0731      0.033     -2.232      0.026      -0.137      -0.009\n",
       "BusinessTravel_Travel_Frequently     1.9635      0.392      5.010      0.000       1.195       2.732\n",
       "BusinessTravel_Travel_Rarely         1.1496      0.354      3.243      0.001       0.455       1.844\n",
       "EducationField_Marketing             0.5269      0.281      1.874      0.061      -0.024       1.078\n",
       "EducationField_Technical Degree      0.9522      0.282      3.378      0.001       0.400       1.505\n",
       "MaritalStatus_Divorced              -1.1159      0.259     -4.312      0.000      -1.623      -0.609\n",
       "MaritalStatus_Married               -0.9348      0.202     -4.618      0.000      -1.332      -0.538\n",
       "OverTime_Yes                         1.6747      0.189      8.858      0.000       1.304       2.045\n",
       "====================================================================================================\n",
       "\"\"\""
      ]
     },
     "execution_count": 216,
     "metadata": {},
     "output_type": "execute_result"
    }
   ],
   "source": [
    "result.summary()"
   ]
  },
  {
   "cell_type": "code",
   "execution_count": 147,
   "metadata": {},
   "outputs": [],
   "source": [
    "#p value for TrainingTimesLastYear,WorkLifeBalance,YearsAtCompany are>0.05,so drop that columns and rerun the model"
   ]
  },
  {
   "cell_type": "code",
   "execution_count": 217,
   "metadata": {},
   "outputs": [],
   "source": [
    "x3 = x3.drop([\"EducationField_Marketing\"], axis=1)\n",
    "#x3 = x3.drop([\"TrainingTimesLastYear\"], axis=1)\n",
    "#x3 = x3.drop([\"WorkLifeBalance\"], axis=1)\n",
    "#x3 = x3.drop([\"YearsAtCompany\"], axis=1)"
   ]
  },
  {
   "cell_type": "code",
   "execution_count": 218,
   "metadata": {},
   "outputs": [],
   "source": [
    "##Spillting Train and Test Data Test\n",
    "from sklearn.model_selection import train_test_split\n",
    "x_train, x_test, y_train, y_test=train_test_split(x3,y,test_size=0.2,random_state=11)"
   ]
  },
  {
   "cell_type": "code",
   "execution_count": 219,
   "metadata": {},
   "outputs": [
    {
     "data": {
      "text/plain": [
       "(294, 12)"
      ]
     },
     "execution_count": 219,
     "metadata": {},
     "output_type": "execute_result"
    }
   ],
   "source": [
    "x_test.shape"
   ]
  },
  {
   "cell_type": "code",
   "execution_count": 220,
   "metadata": {},
   "outputs": [
    {
     "name": "stdout",
     "output_type": "stream",
     "text": [
      "Optimization terminated successfully.\n",
      "         Current function value: 0.339708\n",
      "         Iterations 7\n"
     ]
    },
    {
     "data": {
      "text/html": [
       "<table class=\"simpletable\">\n",
       "<caption>Logit Regression Results</caption>\n",
       "<tr>\n",
       "  <th>Dep. Variable:</th>       <td>Attrition</td>    <th>  No. Observations:  </th>  <td>  1176</td>  \n",
       "</tr>\n",
       "<tr>\n",
       "  <th>Model:</th>                 <td>Logit</td>      <th>  Df Residuals:      </th>  <td>  1164</td>  \n",
       "</tr>\n",
       "<tr>\n",
       "  <th>Method:</th>                 <td>MLE</td>       <th>  Df Model:          </th>  <td>    11</td>  \n",
       "</tr>\n",
       "<tr>\n",
       "  <th>Date:</th>            <td>Thu, 28 May 2020</td> <th>  Pseudo R-squ.:     </th>  <td>0.2294</td>  \n",
       "</tr>\n",
       "<tr>\n",
       "  <th>Time:</th>                <td>14:42:15</td>     <th>  Log-Likelihood:    </th> <td> -399.50</td> \n",
       "</tr>\n",
       "<tr>\n",
       "  <th>converged:</th>             <td>True</td>       <th>  LL-Null:           </th> <td> -518.44</td> \n",
       "</tr>\n",
       "<tr>\n",
       "  <th>Covariance Type:</th>     <td>nonrobust</td>    <th>  LLR p-value:       </th> <td>9.533e-45</td>\n",
       "</tr>\n",
       "</table>\n",
       "<table class=\"simpletable\">\n",
       "<tr>\n",
       "                  <td></td>                    <th>coef</th>     <th>std err</th>      <th>z</th>      <th>P>|z|</th>  <th>[0.025</th>    <th>0.975]</th>  \n",
       "</tr>\n",
       "<tr>\n",
       "  <th>DistanceFromHome</th>                 <td>    0.0478</td> <td>    0.011</td> <td>    4.534</td> <td> 0.000</td> <td>    0.027</td> <td>    0.069</td>\n",
       "</tr>\n",
       "<tr>\n",
       "  <th>EnvironmentSatisfaction</th>          <td>   -0.2709</td> <td>    0.079</td> <td>   -3.419</td> <td> 0.001</td> <td>   -0.426</td> <td>   -0.116</td>\n",
       "</tr>\n",
       "<tr>\n",
       "  <th>JobInvolvement</th>                   <td>   -0.4227</td> <td>    0.111</td> <td>   -3.816</td> <td> 0.000</td> <td>   -0.640</td> <td>   -0.206</td>\n",
       "</tr>\n",
       "<tr>\n",
       "  <th>JobSatisfaction</th>                  <td>   -0.3053</td> <td>    0.077</td> <td>   -3.945</td> <td> 0.000</td> <td>   -0.457</td> <td>   -0.154</td>\n",
       "</tr>\n",
       "<tr>\n",
       "  <th>TotalWorkingYears</th>                <td>   -0.0683</td> <td>    0.016</td> <td>   -4.189</td> <td> 0.000</td> <td>   -0.100</td> <td>   -0.036</td>\n",
       "</tr>\n",
       "<tr>\n",
       "  <th>YearsWithCurrManager</th>             <td>   -0.0741</td> <td>    0.033</td> <td>   -2.261</td> <td> 0.024</td> <td>   -0.138</td> <td>   -0.010</td>\n",
       "</tr>\n",
       "<tr>\n",
       "  <th>BusinessTravel_Travel_Frequently</th> <td>    1.9967</td> <td>    0.393</td> <td>    5.084</td> <td> 0.000</td> <td>    1.227</td> <td>    2.767</td>\n",
       "</tr>\n",
       "<tr>\n",
       "  <th>BusinessTravel_Travel_Rarely</th>     <td>    1.2002</td> <td>    0.354</td> <td>    3.389</td> <td> 0.001</td> <td>    0.506</td> <td>    1.894</td>\n",
       "</tr>\n",
       "<tr>\n",
       "  <th>EducationField_Technical Degree</th>  <td>    0.8872</td> <td>    0.279</td> <td>    3.181</td> <td> 0.001</td> <td>    0.341</td> <td>    1.434</td>\n",
       "</tr>\n",
       "<tr>\n",
       "  <th>MaritalStatus_Divorced</th>           <td>   -1.1029</td> <td>    0.258</td> <td>   -4.275</td> <td> 0.000</td> <td>   -1.609</td> <td>   -0.597</td>\n",
       "</tr>\n",
       "<tr>\n",
       "  <th>MaritalStatus_Married</th>            <td>   -0.9318</td> <td>    0.202</td> <td>   -4.614</td> <td> 0.000</td> <td>   -1.328</td> <td>   -0.536</td>\n",
       "</tr>\n",
       "<tr>\n",
       "  <th>OverTime_Yes</th>                     <td>    1.6732</td> <td>    0.189</td> <td>    8.874</td> <td> 0.000</td> <td>    1.304</td> <td>    2.043</td>\n",
       "</tr>\n",
       "</table>"
      ],
      "text/plain": [
       "<class 'statsmodels.iolib.summary.Summary'>\n",
       "\"\"\"\n",
       "                           Logit Regression Results                           \n",
       "==============================================================================\n",
       "Dep. Variable:              Attrition   No. Observations:                 1176\n",
       "Model:                          Logit   Df Residuals:                     1164\n",
       "Method:                           MLE   Df Model:                           11\n",
       "Date:                Thu, 28 May 2020   Pseudo R-squ.:                  0.2294\n",
       "Time:                        14:42:15   Log-Likelihood:                -399.50\n",
       "converged:                       True   LL-Null:                       -518.44\n",
       "Covariance Type:            nonrobust   LLR p-value:                 9.533e-45\n",
       "====================================================================================================\n",
       "                                       coef    std err          z      P>|z|      [0.025      0.975]\n",
       "----------------------------------------------------------------------------------------------------\n",
       "DistanceFromHome                     0.0478      0.011      4.534      0.000       0.027       0.069\n",
       "EnvironmentSatisfaction             -0.2709      0.079     -3.419      0.001      -0.426      -0.116\n",
       "JobInvolvement                      -0.4227      0.111     -3.816      0.000      -0.640      -0.206\n",
       "JobSatisfaction                     -0.3053      0.077     -3.945      0.000      -0.457      -0.154\n",
       "TotalWorkingYears                   -0.0683      0.016     -4.189      0.000      -0.100      -0.036\n",
       "YearsWithCurrManager                -0.0741      0.033     -2.261      0.024      -0.138      -0.010\n",
       "BusinessTravel_Travel_Frequently     1.9967      0.393      5.084      0.000       1.227       2.767\n",
       "BusinessTravel_Travel_Rarely         1.2002      0.354      3.389      0.001       0.506       1.894\n",
       "EducationField_Technical Degree      0.8872      0.279      3.181      0.001       0.341       1.434\n",
       "MaritalStatus_Divorced              -1.1029      0.258     -4.275      0.000      -1.609      -0.597\n",
       "MaritalStatus_Married               -0.9318      0.202     -4.614      0.000      -1.328      -0.536\n",
       "OverTime_Yes                         1.6732      0.189      8.874      0.000       1.304       2.043\n",
       "====================================================================================================\n",
       "\"\"\""
      ]
     },
     "execution_count": 220,
     "metadata": {},
     "output_type": "execute_result"
    }
   ],
   "source": [
    "model=sm.Logit(y_train,x_train)\n",
    "result=model.fit()\n",
    "result.summary()"
   ]
  },
  {
   "cell_type": "code",
   "execution_count": 221,
   "metadata": {},
   "outputs": [],
   "source": [
    "\n",
    "# DistanceFromHome = 0.0427. As distance increases, then the chances are high that the employee may leave the company\n",
    "# EnvironmentSatisfaction = -0.2915. then less chancess to leave the company.\n",
    "# BusinessTravel_Travel_Frequently=1.6538, The peron who travels most frequently is having 1.65 chnaces of leaving the company.\n"
   ]
  },
  {
   "cell_type": "code",
   "execution_count": 222,
   "metadata": {},
   "outputs": [
    {
     "name": "stderr",
     "output_type": "stream",
     "text": [
      "C:\\Python\\Anaconda3\\lib\\site-packages\\ipykernel_launcher.py:1: SettingWithCopyWarning: \n",
      "A value is trying to be set on a copy of a slice from a DataFrame.\n",
      "Try using .loc[row_indexer,col_indexer] = value instead\n",
      "\n",
      "See the caveats in the documentation: http://pandas.pydata.org/pandas-docs/stable/user_guide/indexing.html#returning-a-view-versus-a-copy\n",
      "  \"\"\"Entry point for launching an IPython kernel.\n"
     ]
    }
   ],
   "source": [
    "x_train['pred_prob']=result.predict(x_train)"
   ]
  },
  {
   "cell_type": "code",
   "execution_count": 223,
   "metadata": {},
   "outputs": [
    {
     "data": {
      "text/html": [
       "<div>\n",
       "<style scoped>\n",
       "    .dataframe tbody tr th:only-of-type {\n",
       "        vertical-align: middle;\n",
       "    }\n",
       "\n",
       "    .dataframe tbody tr th {\n",
       "        vertical-align: top;\n",
       "    }\n",
       "\n",
       "    .dataframe thead th {\n",
       "        text-align: right;\n",
       "    }\n",
       "</style>\n",
       "<table border=\"1\" class=\"dataframe\">\n",
       "  <thead>\n",
       "    <tr style=\"text-align: right;\">\n",
       "      <th></th>\n",
       "      <th>DistanceFromHome</th>\n",
       "      <th>EnvironmentSatisfaction</th>\n",
       "      <th>JobInvolvement</th>\n",
       "      <th>JobSatisfaction</th>\n",
       "      <th>...</th>\n",
       "      <th>MaritalStatus_Divorced</th>\n",
       "      <th>MaritalStatus_Married</th>\n",
       "      <th>OverTime_Yes</th>\n",
       "      <th>pred_prob</th>\n",
       "    </tr>\n",
       "  </thead>\n",
       "  <tbody>\n",
       "    <tr>\n",
       "      <td>38</td>\n",
       "      <td>5</td>\n",
       "      <td>2</td>\n",
       "      <td>2</td>\n",
       "      <td>1</td>\n",
       "      <td>...</td>\n",
       "      <td>0</td>\n",
       "      <td>1</td>\n",
       "      <td>1</td>\n",
       "      <td>0.519683</td>\n",
       "    </tr>\n",
       "    <tr>\n",
       "      <td>907</td>\n",
       "      <td>5</td>\n",
       "      <td>2</td>\n",
       "      <td>3</td>\n",
       "      <td>2</td>\n",
       "      <td>...</td>\n",
       "      <td>0</td>\n",
       "      <td>1</td>\n",
       "      <td>0</td>\n",
       "      <td>0.011779</td>\n",
       "    </tr>\n",
       "    <tr>\n",
       "      <td>311</td>\n",
       "      <td>7</td>\n",
       "      <td>1</td>\n",
       "      <td>3</td>\n",
       "      <td>1</td>\n",
       "      <td>...</td>\n",
       "      <td>1</td>\n",
       "      <td>0</td>\n",
       "      <td>0</td>\n",
       "      <td>0.044360</td>\n",
       "    </tr>\n",
       "    <tr>\n",
       "      <td>77</td>\n",
       "      <td>6</td>\n",
       "      <td>4</td>\n",
       "      <td>3</td>\n",
       "      <td>1</td>\n",
       "      <td>...</td>\n",
       "      <td>0</td>\n",
       "      <td>1</td>\n",
       "      <td>1</td>\n",
       "      <td>0.169521</td>\n",
       "    </tr>\n",
       "    <tr>\n",
       "      <td>287</td>\n",
       "      <td>23</td>\n",
       "      <td>4</td>\n",
       "      <td>3</td>\n",
       "      <td>4</td>\n",
       "      <td>...</td>\n",
       "      <td>1</td>\n",
       "      <td>0</td>\n",
       "      <td>0</td>\n",
       "      <td>0.038936</td>\n",
       "    </tr>\n",
       "  </tbody>\n",
       "</table>\n",
       "<p>5 rows × 13 columns</p>\n",
       "</div>"
      ],
      "text/plain": [
       "     DistanceFromHome  EnvironmentSatisfaction  JobInvolvement  \\\n",
       "38                  5                        2               2   \n",
       "907                 5                        2               3   \n",
       "311                 7                        1               3   \n",
       "77                  6                        4               3   \n",
       "287                23                        4               3   \n",
       "\n",
       "     JobSatisfaction  ...  MaritalStatus_Divorced  MaritalStatus_Married  \\\n",
       "38                 1  ...                       0                      1   \n",
       "907                2  ...                       0                      1   \n",
       "311                1  ...                       1                      0   \n",
       "77                 1  ...                       0                      1   \n",
       "287                4  ...                       1                      0   \n",
       "\n",
       "     OverTime_Yes  pred_prob  \n",
       "38              1   0.519683  \n",
       "907             0   0.011779  \n",
       "311             0   0.044360  \n",
       "77              1   0.169521  \n",
       "287             0   0.038936  \n",
       "\n",
       "[5 rows x 13 columns]"
      ]
     },
     "execution_count": 223,
     "metadata": {},
     "output_type": "execute_result"
    }
   ],
   "source": [
    "x_train.head()"
   ]
  },
  {
   "cell_type": "markdown",
   "metadata": {},
   "source": [
    "# Validate Model\n",
    "\n",
    "#1. Confusion Matrix for Train Data"
   ]
  },
  {
   "cell_type": "code",
   "execution_count": 224,
   "metadata": {},
   "outputs": [
    {
     "name": "stderr",
     "output_type": "stream",
     "text": [
      "C:\\Python\\Anaconda3\\lib\\site-packages\\ipykernel_launcher.py:3: SettingWithCopyWarning: \n",
      "A value is trying to be set on a copy of a slice from a DataFrame.\n",
      "Try using .loc[row_indexer,col_indexer] = value instead\n",
      "\n",
      "See the caveats in the documentation: http://pandas.pydata.org/pandas-docs/stable/user_guide/indexing.html#returning-a-view-versus-a-copy\n",
      "  This is separate from the ipykernel package so we can avoid doing imports until\n"
     ]
    }
   ],
   "source": [
    "# Train Data\n",
    "# make class predictions for the testing set\n",
    "x_train['y_pred_class_train_gp']=np.where(x_train['pred_prob']>=0.2,1,0)"
   ]
  },
  {
   "cell_type": "code",
   "execution_count": 225,
   "metadata": {},
   "outputs": [
    {
     "data": {
      "text/html": [
       "<div>\n",
       "<style scoped>\n",
       "    .dataframe tbody tr th:only-of-type {\n",
       "        vertical-align: middle;\n",
       "    }\n",
       "\n",
       "    .dataframe tbody tr th {\n",
       "        vertical-align: top;\n",
       "    }\n",
       "\n",
       "    .dataframe thead th {\n",
       "        text-align: right;\n",
       "    }\n",
       "</style>\n",
       "<table border=\"1\" class=\"dataframe\">\n",
       "  <thead>\n",
       "    <tr style=\"text-align: right;\">\n",
       "      <th></th>\n",
       "      <th>DistanceFromHome</th>\n",
       "      <th>EnvironmentSatisfaction</th>\n",
       "      <th>JobInvolvement</th>\n",
       "      <th>JobSatisfaction</th>\n",
       "      <th>...</th>\n",
       "      <th>MaritalStatus_Married</th>\n",
       "      <th>OverTime_Yes</th>\n",
       "      <th>pred_prob</th>\n",
       "      <th>y_pred_class_train_gp</th>\n",
       "    </tr>\n",
       "  </thead>\n",
       "  <tbody>\n",
       "    <tr>\n",
       "      <td>38</td>\n",
       "      <td>5</td>\n",
       "      <td>2</td>\n",
       "      <td>2</td>\n",
       "      <td>1</td>\n",
       "      <td>...</td>\n",
       "      <td>1</td>\n",
       "      <td>1</td>\n",
       "      <td>0.519683</td>\n",
       "      <td>1</td>\n",
       "    </tr>\n",
       "    <tr>\n",
       "      <td>907</td>\n",
       "      <td>5</td>\n",
       "      <td>2</td>\n",
       "      <td>3</td>\n",
       "      <td>2</td>\n",
       "      <td>...</td>\n",
       "      <td>1</td>\n",
       "      <td>0</td>\n",
       "      <td>0.011779</td>\n",
       "      <td>0</td>\n",
       "    </tr>\n",
       "    <tr>\n",
       "      <td>311</td>\n",
       "      <td>7</td>\n",
       "      <td>1</td>\n",
       "      <td>3</td>\n",
       "      <td>1</td>\n",
       "      <td>...</td>\n",
       "      <td>0</td>\n",
       "      <td>0</td>\n",
       "      <td>0.044360</td>\n",
       "      <td>0</td>\n",
       "    </tr>\n",
       "    <tr>\n",
       "      <td>77</td>\n",
       "      <td>6</td>\n",
       "      <td>4</td>\n",
       "      <td>3</td>\n",
       "      <td>1</td>\n",
       "      <td>...</td>\n",
       "      <td>1</td>\n",
       "      <td>1</td>\n",
       "      <td>0.169521</td>\n",
       "      <td>0</td>\n",
       "    </tr>\n",
       "    <tr>\n",
       "      <td>287</td>\n",
       "      <td>23</td>\n",
       "      <td>4</td>\n",
       "      <td>3</td>\n",
       "      <td>4</td>\n",
       "      <td>...</td>\n",
       "      <td>0</td>\n",
       "      <td>0</td>\n",
       "      <td>0.038936</td>\n",
       "      <td>0</td>\n",
       "    </tr>\n",
       "  </tbody>\n",
       "</table>\n",
       "<p>5 rows × 14 columns</p>\n",
       "</div>"
      ],
      "text/plain": [
       "     DistanceFromHome  EnvironmentSatisfaction  JobInvolvement  \\\n",
       "38                  5                        2               2   \n",
       "907                 5                        2               3   \n",
       "311                 7                        1               3   \n",
       "77                  6                        4               3   \n",
       "287                23                        4               3   \n",
       "\n",
       "     JobSatisfaction  ...  MaritalStatus_Married  OverTime_Yes  pred_prob  \\\n",
       "38                 1  ...                      1             1   0.519683   \n",
       "907                2  ...                      1             0   0.011779   \n",
       "311                1  ...                      0             0   0.044360   \n",
       "77                 1  ...                      1             1   0.169521   \n",
       "287                4  ...                      0             0   0.038936   \n",
       "\n",
       "     y_pred_class_train_gp  \n",
       "38                       1  \n",
       "907                      0  \n",
       "311                      0  \n",
       "77                       0  \n",
       "287                      0  \n",
       "\n",
       "[5 rows x 14 columns]"
      ]
     },
     "execution_count": 225,
     "metadata": {},
     "output_type": "execute_result"
    }
   ],
   "source": [
    "x_train.head()"
   ]
  },
  {
   "cell_type": "code",
   "execution_count": 226,
   "metadata": {},
   "outputs": [
    {
     "name": "stdout",
     "output_type": "stream",
     "text": [
      "y_pred_class_train_gp    0    1\n",
      "Attrition                      \n",
      "0                      805  182\n",
      "1                       63  126\n"
     ]
    }
   ],
   "source": [
    "ct=pd.crosstab(y_train['Attrition'],x_train['y_pred_class_train_gp'])\n",
    "print(ct)"
   ]
  },
  {
   "cell_type": "code",
   "execution_count": 227,
   "metadata": {},
   "outputs": [
    {
     "data": {
      "text/plain": [
       "0.6666666666666666"
      ]
     },
     "execution_count": 227,
     "metadata": {},
     "output_type": "execute_result"
    }
   ],
   "source": [
    "# Sensitivity \n",
    "126/(126+63)\n",
    "# we are correctly predicting 124, out of all the employees who will leave the company."
   ]
  },
  {
   "cell_type": "code",
   "execution_count": 228,
   "metadata": {},
   "outputs": [
    {
     "data": {
      "text/plain": [
       "0.8156028368794326"
      ]
     },
     "execution_count": 228,
     "metadata": {},
     "output_type": "execute_result"
    }
   ],
   "source": [
    "#Specificity (Predicting bad (0) customer as Bad customer)\n",
    "805/(805+182)\n",
    "# we are correctly predicting 803, out of all the employees who will not leave the company."
   ]
  },
  {
   "cell_type": "code",
   "execution_count": 229,
   "metadata": {},
   "outputs": [
    {
     "data": {
      "text/plain": [
       "0.7916666666666666"
      ]
     },
     "execution_count": 229,
     "metadata": {},
     "output_type": "execute_result"
    }
   ],
   "source": [
    "#accuracy\n",
    "(126+805)/(1176)"
   ]
  },
  {
   "cell_type": "markdown",
   "metadata": {},
   "source": [
    "# 2. ROC Curve for Train Data\n",
    "\n",
    "ROC curve is ploting between Sensitivity and 1-Specificity"
   ]
  },
  {
   "cell_type": "code",
   "execution_count": 230,
   "metadata": {},
   "outputs": [
    {
     "data": {
      "image/png": "[encoded data removed]",
      "text/plain": [
       "<Figure size 432x288 with 1 Axes>"
      ]
     },
     "metadata": {
      "needs_background": "light"
     },
     "output_type": "display_data"
    }
   ],
   "source": [
    "import sklearn\n",
    "# IMPORTANT: first argument is true values, second argument is predicted probabilities\n",
    "fpr, tpr, thresholds = sklearn.metrics.roc_curve(y_train['Attrition'], x_train['pred_prob'])\n",
    "plt.plot(fpr, tpr)\n",
    "plt.xlim([0.0, 1.0])\n",
    "plt.ylim([0.0, 1.0])\n",
    "plt.title('ROC curve for Attrition')\n",
    "plt.xlabel('False Positive Rate (1 - Specificity)')\n",
    "plt.ylabel('True Positive Rate (Sensitivity)')\n",
    "plt.grid(True)"
   ]
  },
  {
   "cell_type": "code",
   "execution_count": 231,
   "metadata": {},
   "outputs": [
    {
     "name": "stdout",
     "output_type": "stream",
     "text": [
      "0.7411347517730495\n"
     ]
    }
   ],
   "source": [
    "# IMPORTANT: first argument is true values, second argument is predicted probabilities\n",
    "print(sklearn.metrics.roc_auc_score(y_train['Attrition'], x_train['y_pred_class_train_gp']))"
   ]
  },
  {
   "cell_type": "markdown",
   "metadata": {},
   "source": [
    "# KS STATISTICS for Train Data"
   ]
  },
  {
   "cell_type": "code",
   "execution_count": null,
   "metadata": {},
   "outputs": [],
   "source": []
  },
  {
   "cell_type": "code",
   "execution_count": 232,
   "metadata": {},
   "outputs": [
    {
     "name": "stderr",
     "output_type": "stream",
     "text": [
      "C:\\Python\\Anaconda3\\lib\\site-packages\\ipykernel_launcher.py:1: SettingWithCopyWarning: \n",
      "A value is trying to be set on a copy of a slice from a DataFrame.\n",
      "Try using .loc[row_indexer,col_indexer] = value instead\n",
      "\n",
      "See the caveats in the documentation: http://pandas.pydata.org/pandas-docs/stable/user_guide/indexing.html#returning-a-view-versus-a-copy\n",
      "  \"\"\"Entry point for launching an IPython kernel.\n"
     ]
    }
   ],
   "source": [
    "x_train['Attrition']=y_train['Attrition']"
   ]
  },
  {
   "cell_type": "code",
   "execution_count": 233,
   "metadata": {},
   "outputs": [
    {
     "name": "stdout",
     "output_type": "stream",
     "text": [
      "        min_prob  max_prob  events  nonevents event_rate nonevent_rate  \\\n",
      "Decile                                                                   \n",
      "1       0.412670  0.925879      74         44     39.15%         4.46%   \n",
      "2       0.263717  0.409281      41         76     21.69%         7.70%   \n",
      "3       0.178589  0.263272      22         96     11.64%         9.73%   \n",
      "4       0.129858  0.178443       9        108      4.76%        10.94%   \n",
      "5       0.094199  0.129454      14        104      7.41%        10.54%   \n",
      "6       0.068351  0.093813       7        110      3.70%        11.14%   \n",
      "7       0.046931  0.068257       7        111      3.70%        11.25%   \n",
      "8       0.031092  0.046751       7        110      3.70%        11.14%   \n",
      "9       0.016768  0.030868       5        113      2.65%        11.45%   \n",
      "10      0.000918  0.016695       3        115      1.59%        11.65%   \n",
      "\n",
      "       cum_eventrate cum_noneventrate    KS  \n",
      "Decile                                       \n",
      "1             39.15%            4.46%  34.7  \n",
      "2             60.85%           12.16%  48.7  \n",
      "3             72.49%           21.88%  50.6  \n",
      "4             77.25%           32.83%  44.4  \n",
      "5             84.66%           43.36%  41.3  \n",
      "6             88.36%           54.51%  33.9  \n",
      "7             92.06%           65.75%  26.3  \n",
      "8             95.77%           76.90%  18.9  \n",
      "9             98.41%           88.35%  10.1  \n",
      "10           100.00%          100.00%  -0.0  \n",
      "\u001b[31mKS is 50.6% at decile 3\n"
     ]
    },
    {
     "name": "stderr",
     "output_type": "stream",
     "text": [
      "C:\\Python\\Anaconda3\\lib\\site-packages\\ipykernel_launcher.py:2: SettingWithCopyWarning: \n",
      "A value is trying to be set on a copy of a slice from a DataFrame.\n",
      "Try using .loc[row_indexer,col_indexer] = value instead\n",
      "\n",
      "See the caveats in the documentation: http://pandas.pydata.org/pandas-docs/stable/user_guide/indexing.html#returning-a-view-versus-a-copy\n",
      "  \n",
      "C:\\Python\\Anaconda3\\lib\\site-packages\\ipykernel_launcher.py:3: SettingWithCopyWarning: \n",
      "A value is trying to be set on a copy of a slice from a DataFrame.\n",
      "Try using .loc[row_indexer,col_indexer] = value instead\n",
      "\n",
      "See the caveats in the documentation: http://pandas.pydata.org/pandas-docs/stable/user_guide/indexing.html#returning-a-view-versus-a-copy\n",
      "  This is separate from the ipykernel package so we can avoid doing imports until\n"
     ]
    }
   ],
   "source": [
    "mydf = ks(data=x_train,target='Attrition', prob='pred_prob')"
   ]
  },
  {
   "cell_type": "markdown",
   "metadata": {},
   "source": [
    "# Validate model in test dataset"
   ]
  },
  {
   "cell_type": "code",
   "execution_count": null,
   "metadata": {},
   "outputs": [],
   "source": []
  },
  {
   "cell_type": "code",
   "execution_count": 234,
   "metadata": {},
   "outputs": [
    {
     "name": "stderr",
     "output_type": "stream",
     "text": [
      "C:\\Python\\Anaconda3\\lib\\site-packages\\ipykernel_launcher.py:1: SettingWithCopyWarning: \n",
      "A value is trying to be set on a copy of a slice from a DataFrame.\n",
      "Try using .loc[row_indexer,col_indexer] = value instead\n",
      "\n",
      "See the caveats in the documentation: http://pandas.pydata.org/pandas-docs/stable/user_guide/indexing.html#returning-a-view-versus-a-copy\n",
      "  \"\"\"Entry point for launching an IPython kernel.\n"
     ]
    }
   ],
   "source": [
    "x_test['pred_prob']=result.predict(x_test)"
   ]
  },
  {
   "cell_type": "markdown",
   "metadata": {},
   "source": [
    "# Confusion Matrix for Test Data"
   ]
  },
  {
   "cell_type": "code",
   "execution_count": 235,
   "metadata": {},
   "outputs": [
    {
     "name": "stderr",
     "output_type": "stream",
     "text": [
      "C:\\Python\\Anaconda3\\lib\\site-packages\\ipykernel_launcher.py:1: SettingWithCopyWarning: \n",
      "A value is trying to be set on a copy of a slice from a DataFrame.\n",
      "Try using .loc[row_indexer,col_indexer] = value instead\n",
      "\n",
      "See the caveats in the documentation: http://pandas.pydata.org/pandas-docs/stable/user_guide/indexing.html#returning-a-view-versus-a-copy\n",
      "  \"\"\"Entry point for launching an IPython kernel.\n"
     ]
    }
   ],
   "source": [
    "x_test['y_pred_class_train_gp']=np.where(x_test['pred_prob']>=0.3,1,0)"
   ]
  },
  {
   "cell_type": "code",
   "execution_count": 236,
   "metadata": {},
   "outputs": [
    {
     "name": "stdout",
     "output_type": "stream",
     "text": [
      "y_pred_class_train_gp    0   1\n",
      "Attrition                     \n",
      "0                      226  20\n",
      "1                       22  26\n"
     ]
    }
   ],
   "source": [
    "ct=pd.crosstab(y_test['Attrition'],x_test['y_pred_class_train_gp'])\n",
    "print(ct)"
   ]
  },
  {
   "cell_type": "code",
   "execution_count": 237,
   "metadata": {},
   "outputs": [
    {
     "data": {
      "text/plain": [
       "0.5416666666666666"
      ]
     },
     "execution_count": 237,
     "metadata": {},
     "output_type": "execute_result"
    }
   ],
   "source": [
    "# Sensitivity (Predicting good (1) customer as Good customer)\n",
    "26/(26+22)"
   ]
  },
  {
   "cell_type": "code",
   "execution_count": 240,
   "metadata": {},
   "outputs": [
    {
     "data": {
      "text/plain": [
       "0.8968253968253969"
      ]
     },
     "execution_count": 240,
     "metadata": {},
     "output_type": "execute_result"
    }
   ],
   "source": [
    "#Specificity (Predicting bad (0) customer as Bad customer)\n",
    "226/(226+26)"
   ]
  },
  {
   "cell_type": "code",
   "execution_count": 241,
   "metadata": {},
   "outputs": [
    {
     "data": {
      "text/plain": [
       "0.8571428571428571"
      ]
     },
     "execution_count": 241,
     "metadata": {},
     "output_type": "execute_result"
    }
   ],
   "source": [
    "#accuracy\n",
    "(226+26)/(294)"
   ]
  },
  {
   "cell_type": "markdown",
   "metadata": {},
   "source": [
    "# 2. ROC Curve for Test Data"
   ]
  },
  {
   "cell_type": "code",
   "execution_count": 242,
   "metadata": {},
   "outputs": [
    {
     "data": {
      "image/png": "[encoded data removed]",
      "text/plain": [
       "<Figure size 432x288 with 1 Axes>"
      ]
     },
     "metadata": {
      "needs_background": "light"
     },
     "output_type": "display_data"
    }
   ],
   "source": [
    "import sklearn\n",
    "# IMPORTANT: first argument is true values, second argument is predicted probabilities\n",
    "fpr, tpr, thresholds = sklearn.metrics.roc_curve(y_test['Attrition'], x_test['pred_prob'])\n",
    "plt.plot(fpr, tpr)\n",
    "plt.xlim([0.0, 1.0])\n",
    "plt.ylim([0.0, 1.0])\n",
    "plt.title('ROC curve for Attrition')\n",
    "plt.xlabel('False Positive Rate (1 - Specificity)')\n",
    "plt.ylabel('True Positive Rate (Sensitivity)')\n",
    "plt.grid(True)\n"
   ]
  },
  {
   "cell_type": "code",
   "execution_count": 243,
   "metadata": {},
   "outputs": [
    {
     "name": "stdout",
     "output_type": "stream",
     "text": [
      "0.7301829268292682\n"
     ]
    }
   ],
   "source": [
    "# IMPORTANT: first argument is true values, second argument is predicted probabilities\n",
    "print(sklearn.metrics.roc_auc_score(y_test['Attrition'], x_test['y_pred_class_train_gp']))"
   ]
  },
  {
   "cell_type": "markdown",
   "metadata": {},
   "source": [
    "# KS STATISTICS for Test Data"
   ]
  },
  {
   "cell_type": "code",
   "execution_count": 238,
   "metadata": {},
   "outputs": [
    {
     "name": "stderr",
     "output_type": "stream",
     "text": [
      "C:\\Python\\Anaconda3\\lib\\site-packages\\ipykernel_launcher.py:1: SettingWithCopyWarning: \n",
      "A value is trying to be set on a copy of a slice from a DataFrame.\n",
      "Try using .loc[row_indexer,col_indexer] = value instead\n",
      "\n",
      "See the caveats in the documentation: http://pandas.pydata.org/pandas-docs/stable/user_guide/indexing.html#returning-a-view-versus-a-copy\n",
      "  \"\"\"Entry point for launching an IPython kernel.\n"
     ]
    }
   ],
   "source": [
    "x_test['Attrition']=y_test['Attrition']"
   ]
  },
  {
   "cell_type": "code",
   "execution_count": 239,
   "metadata": {},
   "outputs": [
    {
     "name": "stdout",
     "output_type": "stream",
     "text": [
      "        min_prob  max_prob  events  nonevents event_rate nonevent_rate  \\\n",
      "Decile                                                                   \n",
      "1       0.421178  0.876945      22          8     45.83%         3.25%   \n",
      "2       0.270602  0.414634       7         22     14.58%         8.94%   \n",
      "3       0.175472  0.269929       4         25      8.33%        10.16%   \n",
      "4       0.132770  0.174801       2         28      4.17%        11.38%   \n",
      "5       0.086898  0.124702       4         25      8.33%        10.16%   \n",
      "6       0.067071  0.086849       2         27      4.17%        10.98%   \n",
      "7       0.043037  0.065688       2         28      4.17%        11.38%   \n",
      "8       0.028983  0.041713       3         26      6.25%        10.57%   \n",
      "9       0.013781  0.027437       0         29      0.00%        11.79%   \n",
      "10      0.001638  0.013745       2         28      4.17%        11.38%   \n",
      "\n",
      "       cum_eventrate cum_noneventrate    KS  \n",
      "Decile                                       \n",
      "1             45.83%            3.25%  42.6  \n",
      "2             60.42%           12.20%  48.2  \n",
      "3             68.75%           22.36%  46.4  \n",
      "4             72.92%           33.74%  39.2  \n",
      "5             81.25%           43.90%  37.3  \n",
      "6             85.42%           54.88%  30.5  \n",
      "7             89.58%           66.26%  23.3  \n",
      "8             95.83%           76.83%  19.0  \n",
      "9             95.83%           88.62%   7.2  \n",
      "10           100.00%          100.00%  -0.0  \n",
      "\u001b[31mKS is 48.199999999999996% at decile 2\n"
     ]
    },
    {
     "name": "stderr",
     "output_type": "stream",
     "text": [
      "C:\\Python\\Anaconda3\\lib\\site-packages\\ipykernel_launcher.py:2: SettingWithCopyWarning: \n",
      "A value is trying to be set on a copy of a slice from a DataFrame.\n",
      "Try using .loc[row_indexer,col_indexer] = value instead\n",
      "\n",
      "See the caveats in the documentation: http://pandas.pydata.org/pandas-docs/stable/user_guide/indexing.html#returning-a-view-versus-a-copy\n",
      "  \n",
      "C:\\Python\\Anaconda3\\lib\\site-packages\\ipykernel_launcher.py:3: SettingWithCopyWarning: \n",
      "A value is trying to be set on a copy of a slice from a DataFrame.\n",
      "Try using .loc[row_indexer,col_indexer] = value instead\n",
      "\n",
      "See the caveats in the documentation: http://pandas.pydata.org/pandas-docs/stable/user_guide/indexing.html#returning-a-view-versus-a-copy\n",
      "  This is separate from the ipykernel package so we can avoid doing imports until\n"
     ]
    }
   ],
   "source": [
    "mydf = ks(data=x_test,target='Attrition', prob='pred_prob')"
   ]
  },
  {
   "cell_type": "code",
   "execution_count": null,
   "metadata": {},
   "outputs": [],
   "source": []
  }
 ],
 "metadata": {
  "kernelspec": {
   "display_name": "Python 3",
   "language": "python",
   "name": "python3"
  },
  "language_info": {
   "codemirror_mode": {
    "name": "ipython",
    "version": 3
   },
   "file_extension": ".py",
   "mimetype": "text/x-python",
   "name": "python",
   "nbconvert_exporter": "python",
   "pygments_lexer": "ipython3",
   "version": "3.7.4"
  }
 },
 "nbformat": 4,
 "nbformat_minor": 2
}
